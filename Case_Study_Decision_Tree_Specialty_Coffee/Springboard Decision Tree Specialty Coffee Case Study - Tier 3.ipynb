{
 "cells": [
  {
   "cell_type": "markdown",
   "metadata": {
    "colab_type": "text",
    "id": "Jm0w3zN4DuVK"
   },
   "source": [
    "# **Springboard Decision Tree Specialty Coffee Case Study - Tier 3**\n",
    "\n",
    "\n"
   ]
  },
  {
   "cell_type": "markdown",
   "metadata": {
    "colab_type": "text",
    "id": "BhqpAY7GDuVN"
   },
   "source": [
    "# The Scenario\n",
    "\n",
    "Imagine you've just finished the Springboard Data Science Career Track course, and have been hired by a rising popular specialty coffee company - RR Diner Coffee - as a data scientist. Congratulations!\n",
    "\n",
    "RR Diner Coffee sells two types of thing:\n",
    "- specialty coffee beans, in bulk (by the kilogram only) \n",
    "- coffee equipment and merchandise (grinders, brewing equipment, mugs, books, t-shirts).\n",
    "\n",
    "RR Diner Coffee has three stores, two in Europe and one in the USA. The flagshap store is in the USA, and everything is quality assessed there, before being shipped out. Customers further away from the USA flagship store have higher shipping charges. \n",
    "\n",
    "You've been taken on at RR Diner Coffee because the company are turning towards using data science and machine learning to systematically make decisions about which coffee farmers they should strike deals with. \n",
    "\n",
    "RR Diner Coffee typically buys coffee from farmers, processes it on site, brings it back to the USA, roasts it, packages it, markets it, and ships it (only in bulk, and after quality assurance) to customers internationally. These customers all own coffee shops in major cities like New York, Paris, London, Hong Kong, Tokyo, and Berlin. \n",
    "\n",
    "Now, RR Diner Coffee has a decision about whether to strike a deal with a legendary coffee farm (known as the **Hidden Farm**) in rural China: there are rumours their coffee tastes of lychee and dark chocolate, while also being as sweet as apple juice. \n",
    "\n",
    "It's a risky decision, as the deal will be expensive, and the coffee might not be bought by customers. The stakes are high: times are tough, stocks are low, farmers are reverting to old deals with the larger enterprises and the publicity of selling *Hidden Farm* coffee could save the RR Diner Coffee business. \n",
    "\n",
    "Your first job, then, is ***to build a decision tree to predict how many units of the Hidden Farm Chinese coffee will be purchased by RR Diner Coffee's most loyal customers.*** \n",
    "\n",
    "To this end, you and your team have conducted a survey of 710 of the most loyal RR Diner Coffee customers, collecting data on the customers':\n",
    "- age\n",
    "- gender \n",
    "- salary \n",
    "- whether they have bought at least one RR Diner Coffee product online\n",
    "- their distance from the flagship store in the USA (standardized to a number between 0 and 11) \n",
    "- how much they spent on RR Diner Coffee products on the week of the survey \n",
    "- how much they spent on RR Diner Coffee products in the month preeding the survey\n",
    "- the number of RR Diner coffee bean shipments each customer has ordered over the preceding year. \n",
    "\n",
    "You also asked each customer participating in the survey whether they would buy the Hidden Farm coffee, and some (but not all) of the customers gave responses to that question. \n",
    "\n",
    "You sit back and think: if more than 70% of the interviewed customers are likely to buy the Hidden Farm coffee, you will strike the deal with the local Hidden Farm farmers and sell the coffee. Otherwise, you won't strike the deal and the Hidden Farm coffee will remain in legends only. There's some doubt in your mind about whether 70% is a reasonable threshold, but it'll do for the moment. \n",
    "\n",
    "To solve the problem, then, you will build a decision tree to implement a classification solution. \n",
    "\n",
    "\n",
    "-------------------------------\n",
    "As ever, this notebook is **tiered**, meaning you can elect that tier that is right for your confidence and skill level. There are 3 tiers, with tier 1 being the easiest and tier 3 being the hardest. This is ***tier 3***, so it will be challenging. \n",
    "\n",
    "**1. Sourcing and loading** \n",
    "- Import packages\n",
    "- Load data\n",
    "- Explore the data\n",
    "\n",
    " \n",
    "**2. Cleaning, transforming and visualizing**\n",
    "- Cleaning the data\n",
    "- Train/test split\n",
    "  \n",
    "  \n",
    "**3. Modelling** \n",
    "- Model 1: Entropy model - no max_depth\n",
    "- Model 2: Gini impurity model - no max_depth\n",
    "- Model 3: Entropy model - max depth 3\n",
    "- Model 4: Gini impurity model - max depth 3\n",
    "\n",
    "\n",
    "**4. Evaluating and concluding** \n",
    "- How many customers will buy Hidden Farm coffee?\n",
    "- Decision\n",
    "\n",
    "**5. Random Forest** \n",
    "- Import necessary modules\n",
    "- Model\n",
    "- Revise conclusion\n",
    "    "
   ]
  },
  {
   "cell_type": "markdown",
   "metadata": {
    "colab_type": "text",
    "id": "nciXGXtCDuVO"
   },
   "source": [
    "# 0. Overview\n",
    "\n",
    "This notebook uses decision trees to determine whether the factors of salary, gender, age, how much money the customer spent last week and during the preceding month on RR Diner Coffee products, how many kilogram coffee bags the customer bought over the last year, whether they have bought at least one RR Diner Coffee product online, and their distance from the flagship store in the USA, could predict whether customers would purchase the Hidden Farm coffee if a deal with its farmers were struck. "
   ]
  },
  {
   "cell_type": "markdown",
   "metadata": {
    "colab_type": "text",
    "id": "5fSgD2h9DuVP"
   },
   "source": [
    "# 1. Sourcing and loading\n",
    "## 1a. Import Packages"
   ]
  },
  {
   "cell_type": "code",
   "execution_count": 1,
   "outputs": [
    {
     "name": "stdout",
     "output_type": "stream",
     "text": [
      "Requirement already satisfied: pydotplus in /Users/carambolas/anaconda3/lib/python3.10/site-packages (2.0.2)\r\n",
      "Requirement already satisfied: pyparsing>=2.0.1 in /Users/carambolas/anaconda3/lib/python3.10/site-packages (from pydotplus) (3.0.9)\r\n"
     ]
    }
   ],
   "source": [
    "!pip install pydotplus\n"
   ],
   "metadata": {
    "collapsed": false,
    "ExecuteTime": {
     "end_time": "2024-02-05T18:03:50.623945Z",
     "start_time": "2024-02-05T18:03:46.924184Z"
    }
   }
  },
  {
   "cell_type": "code",
   "execution_count": 2,
   "outputs": [
    {
     "name": "stdout",
     "output_type": "stream",
     "text": [
      "Requirement already satisfied: graphviz in /Users/carambolas/anaconda3/lib/python3.10/site-packages (0.20.1)\r\n"
     ]
    }
   ],
   "source": [
    "!pip install graphviz\n"
   ],
   "metadata": {
    "collapsed": false,
    "ExecuteTime": {
     "end_time": "2024-02-05T18:03:54.208560Z",
     "start_time": "2024-02-05T18:03:50.626094Z"
    }
   }
  },
  {
   "cell_type": "code",
   "execution_count": 3,
   "metadata": {
    "colab": {},
    "colab_type": "code",
    "id": "CfGkTcLvDuVQ",
    "ExecuteTime": {
     "end_time": "2024-02-05T18:03:56.139233Z",
     "start_time": "2024-02-05T18:03:55.557951Z"
    }
   },
   "outputs": [],
   "source": [
    "import pandas as pd\n",
    "import numpy as np\n",
    "from sklearn import tree, metrics\n",
    "from sklearn.model_selection import train_test_split\n",
    "import seaborn as sns\n",
    "import matplotlib.pyplot as plt\n",
    "from io import StringIO\n",
    "from IPython.display import Image\n",
    "import graphviz\n",
    "import pydotplus\n",
    "\n"
   ]
  },
  {
   "cell_type": "markdown",
   "metadata": {
    "colab_type": "text",
    "id": "ZLgxyhNrDuVT"
   },
   "source": [
    "## 1b. Load data "
   ]
  },
  {
   "cell_type": "code",
   "execution_count": 4,
   "metadata": {
    "colab": {},
    "colab_type": "code",
    "id": "chW2ozlnDuVU",
    "ExecuteTime": {
     "end_time": "2024-02-05T18:04:00.164661Z",
     "start_time": "2024-02-05T18:04:00.138515Z"
    }
   },
   "outputs": [],
   "source": [
    "# Read in the data to a variable called coffeeData\n",
    "coffeeData = pd.read_csv('./data/RRDinerCoffeeData.csv')"
   ]
  },
  {
   "cell_type": "markdown",
   "metadata": {
    "colab_type": "text",
    "id": "qnMVYf2NDuVW"
   },
   "source": [
    "## 1c. Explore the data"
   ]
  },
  {
   "cell_type": "markdown",
   "metadata": {
    "colab_type": "text",
    "id": "U5Qm4obyDuVX"
   },
   "source": [
    "As we've seen, exploration entails doing things like checking out the **initial appearance** of the data with head(), the **dimensions** of our data with .shape, the **data types** of the variables with .info(), the **number of non-null values**, how much **memory** is being used to store the data, and finally the major summary statistcs capturing **central tendancy, dispersion and the null-excluding shape of the dataset's distribution**. \n",
    "\n",
    "How much of this can you do yourself by this point in the course? Have a real go. "
   ]
  },
  {
   "cell_type": "code",
   "execution_count": 5,
   "metadata": {
    "colab": {},
    "colab_type": "code",
    "id": "cHEKFT4SDuVY",
    "ExecuteTime": {
     "end_time": "2024-02-05T18:04:04.006883Z",
     "start_time": "2024-02-05T18:04:03.988080Z"
    }
   },
   "outputs": [
    {
     "data": {
      "text/plain": "   Age  Gender  num_coffeeBags_per_year  spent_week  spent_month  SlrAY  \\\n0   36  Female                        0          24           73  42789   \n1   24    Male                        0          44          164  74035   \n2   24    Male                        0          39          119  30563   \n3   20    Male                        0          30          107  13166   \n4   24  Female                        0          20           36  14244   \n\n   Distance  Online  Decision  \n0  0.003168       0       1.0  \n1  0.520906       0       NaN  \n2  0.916005       1       1.0  \n3  0.932098       1       NaN  \n4  0.965881       0       1.0  ",
      "text/html": "<div>\n<style scoped>\n    .dataframe tbody tr th:only-of-type {\n        vertical-align: middle;\n    }\n\n    .dataframe tbody tr th {\n        vertical-align: top;\n    }\n\n    .dataframe thead th {\n        text-align: right;\n    }\n</style>\n<table border=\"1\" class=\"dataframe\">\n  <thead>\n    <tr style=\"text-align: right;\">\n      <th></th>\n      <th>Age</th>\n      <th>Gender</th>\n      <th>num_coffeeBags_per_year</th>\n      <th>spent_week</th>\n      <th>spent_month</th>\n      <th>SlrAY</th>\n      <th>Distance</th>\n      <th>Online</th>\n      <th>Decision</th>\n    </tr>\n  </thead>\n  <tbody>\n    <tr>\n      <th>0</th>\n      <td>36</td>\n      <td>Female</td>\n      <td>0</td>\n      <td>24</td>\n      <td>73</td>\n      <td>42789</td>\n      <td>0.003168</td>\n      <td>0</td>\n      <td>1.0</td>\n    </tr>\n    <tr>\n      <th>1</th>\n      <td>24</td>\n      <td>Male</td>\n      <td>0</td>\n      <td>44</td>\n      <td>164</td>\n      <td>74035</td>\n      <td>0.520906</td>\n      <td>0</td>\n      <td>NaN</td>\n    </tr>\n    <tr>\n      <th>2</th>\n      <td>24</td>\n      <td>Male</td>\n      <td>0</td>\n      <td>39</td>\n      <td>119</td>\n      <td>30563</td>\n      <td>0.916005</td>\n      <td>1</td>\n      <td>1.0</td>\n    </tr>\n    <tr>\n      <th>3</th>\n      <td>20</td>\n      <td>Male</td>\n      <td>0</td>\n      <td>30</td>\n      <td>107</td>\n      <td>13166</td>\n      <td>0.932098</td>\n      <td>1</td>\n      <td>NaN</td>\n    </tr>\n    <tr>\n      <th>4</th>\n      <td>24</td>\n      <td>Female</td>\n      <td>0</td>\n      <td>20</td>\n      <td>36</td>\n      <td>14244</td>\n      <td>0.965881</td>\n      <td>0</td>\n      <td>1.0</td>\n    </tr>\n  </tbody>\n</table>\n</div>"
     },
     "execution_count": 5,
     "metadata": {},
     "output_type": "execute_result"
    }
   ],
   "source": [
    "# Call head() on your data \n",
    "coffeeData.head()"
   ]
  },
  {
   "cell_type": "code",
   "execution_count": 6,
   "metadata": {
    "colab": {},
    "colab_type": "code",
    "id": "rDshwA7tDuVa",
    "ExecuteTime": {
     "end_time": "2024-02-05T18:04:04.802191Z",
     "start_time": "2024-02-05T18:04:04.794346Z"
    }
   },
   "outputs": [
    {
     "data": {
      "text/plain": "(702, 9)"
     },
     "execution_count": 6,
     "metadata": {},
     "output_type": "execute_result"
    }
   ],
   "source": [
    "# Call .shape on your data\n",
    "coffeeData.shape"
   ]
  },
  {
   "cell_type": "code",
   "execution_count": 7,
   "metadata": {
    "colab": {},
    "colab_type": "code",
    "id": "iCxo0tomDuVc",
    "ExecuteTime": {
     "end_time": "2024-02-05T18:04:05.508038Z",
     "start_time": "2024-02-05T18:04:05.499775Z"
    }
   },
   "outputs": [
    {
     "name": "stdout",
     "output_type": "stream",
     "text": [
      "<class 'pandas.core.frame.DataFrame'>\n",
      "RangeIndex: 702 entries, 0 to 701\n",
      "Data columns (total 9 columns):\n",
      " #   Column                   Non-Null Count  Dtype  \n",
      "---  ------                   --------------  -----  \n",
      " 0   Age                      702 non-null    int64  \n",
      " 1   Gender                   702 non-null    object \n",
      " 2   num_coffeeBags_per_year  702 non-null    int64  \n",
      " 3   spent_week               702 non-null    int64  \n",
      " 4   spent_month              702 non-null    int64  \n",
      " 5   SlrAY                    702 non-null    int64  \n",
      " 6   Distance                 702 non-null    float64\n",
      " 7   Online                   702 non-null    int64  \n",
      " 8   Decision                 474 non-null    float64\n",
      "dtypes: float64(2), int64(6), object(1)\n",
      "memory usage: 49.5+ KB\n"
     ]
    }
   ],
   "source": [
    "# Call info() on your data\n",
    "coffeeData.info()"
   ]
  },
  {
   "cell_type": "code",
   "execution_count": 8,
   "metadata": {
    "colab": {},
    "colab_type": "code",
    "id": "t0ZdmaUeDuVe",
    "ExecuteTime": {
     "end_time": "2024-02-05T18:04:08.173781Z",
     "start_time": "2024-02-05T18:04:08.130706Z"
    }
   },
   "outputs": [
    {
     "data": {
      "text/plain": "               Age Gender  num_coffeeBags_per_year  spent_week  spent_month  \\\ncount   702.000000    702               702.000000  702.000000   702.000000   \nunique         NaN      9                      NaN         NaN          NaN   \ntop            NaN   Male                      NaN         NaN          NaN   \nfreq           NaN    355                      NaN         NaN          NaN   \nmean     34.243590    NaN                 2.710826   32.853276   107.923077   \nstd      13.927945    NaN                 1.593629   15.731878    55.348485   \nmin      16.000000    NaN                 0.000000    0.000000     0.000000   \n25%      23.000000    NaN                 1.000000   24.250000    62.000000   \n50%      28.000000    NaN                 3.000000   36.000000   113.500000   \n75%      46.000000    NaN                 4.000000   43.000000   150.750000   \nmax      90.000000    NaN                 5.000000   62.000000   210.000000   \n\n                SlrAY    Distance      Online    Decision  \ncount      702.000000  702.000000  702.000000  474.000000  \nunique            NaN         NaN         NaN         NaN  \ntop               NaN         NaN         NaN         NaN  \nfreq              NaN         NaN         NaN         NaN  \nmean     43819.843305    4.559186    0.531339    0.639241  \nstd      26192.626943    3.116275    0.499373    0.480728  \nmin       1617.000000    0.003168    0.000000    0.000000  \n25%      22812.250000    1.877812    0.000000    0.000000  \n50%      41975.000000    4.196167    1.000000    1.000000  \n75%      60223.000000    6.712022    1.000000    1.000000  \nmax     182058.000000   10.986203    1.000000    1.000000  ",
      "text/html": "<div>\n<style scoped>\n    .dataframe tbody tr th:only-of-type {\n        vertical-align: middle;\n    }\n\n    .dataframe tbody tr th {\n        vertical-align: top;\n    }\n\n    .dataframe thead th {\n        text-align: right;\n    }\n</style>\n<table border=\"1\" class=\"dataframe\">\n  <thead>\n    <tr style=\"text-align: right;\">\n      <th></th>\n      <th>Age</th>\n      <th>Gender</th>\n      <th>num_coffeeBags_per_year</th>\n      <th>spent_week</th>\n      <th>spent_month</th>\n      <th>SlrAY</th>\n      <th>Distance</th>\n      <th>Online</th>\n      <th>Decision</th>\n    </tr>\n  </thead>\n  <tbody>\n    <tr>\n      <th>count</th>\n      <td>702.000000</td>\n      <td>702</td>\n      <td>702.000000</td>\n      <td>702.000000</td>\n      <td>702.000000</td>\n      <td>702.000000</td>\n      <td>702.000000</td>\n      <td>702.000000</td>\n      <td>474.000000</td>\n    </tr>\n    <tr>\n      <th>unique</th>\n      <td>NaN</td>\n      <td>9</td>\n      <td>NaN</td>\n      <td>NaN</td>\n      <td>NaN</td>\n      <td>NaN</td>\n      <td>NaN</td>\n      <td>NaN</td>\n      <td>NaN</td>\n    </tr>\n    <tr>\n      <th>top</th>\n      <td>NaN</td>\n      <td>Male</td>\n      <td>NaN</td>\n      <td>NaN</td>\n      <td>NaN</td>\n      <td>NaN</td>\n      <td>NaN</td>\n      <td>NaN</td>\n      <td>NaN</td>\n    </tr>\n    <tr>\n      <th>freq</th>\n      <td>NaN</td>\n      <td>355</td>\n      <td>NaN</td>\n      <td>NaN</td>\n      <td>NaN</td>\n      <td>NaN</td>\n      <td>NaN</td>\n      <td>NaN</td>\n      <td>NaN</td>\n    </tr>\n    <tr>\n      <th>mean</th>\n      <td>34.243590</td>\n      <td>NaN</td>\n      <td>2.710826</td>\n      <td>32.853276</td>\n      <td>107.923077</td>\n      <td>43819.843305</td>\n      <td>4.559186</td>\n      <td>0.531339</td>\n      <td>0.639241</td>\n    </tr>\n    <tr>\n      <th>std</th>\n      <td>13.927945</td>\n      <td>NaN</td>\n      <td>1.593629</td>\n      <td>15.731878</td>\n      <td>55.348485</td>\n      <td>26192.626943</td>\n      <td>3.116275</td>\n      <td>0.499373</td>\n      <td>0.480728</td>\n    </tr>\n    <tr>\n      <th>min</th>\n      <td>16.000000</td>\n      <td>NaN</td>\n      <td>0.000000</td>\n      <td>0.000000</td>\n      <td>0.000000</td>\n      <td>1617.000000</td>\n      <td>0.003168</td>\n      <td>0.000000</td>\n      <td>0.000000</td>\n    </tr>\n    <tr>\n      <th>25%</th>\n      <td>23.000000</td>\n      <td>NaN</td>\n      <td>1.000000</td>\n      <td>24.250000</td>\n      <td>62.000000</td>\n      <td>22812.250000</td>\n      <td>1.877812</td>\n      <td>0.000000</td>\n      <td>0.000000</td>\n    </tr>\n    <tr>\n      <th>50%</th>\n      <td>28.000000</td>\n      <td>NaN</td>\n      <td>3.000000</td>\n      <td>36.000000</td>\n      <td>113.500000</td>\n      <td>41975.000000</td>\n      <td>4.196167</td>\n      <td>1.000000</td>\n      <td>1.000000</td>\n    </tr>\n    <tr>\n      <th>75%</th>\n      <td>46.000000</td>\n      <td>NaN</td>\n      <td>4.000000</td>\n      <td>43.000000</td>\n      <td>150.750000</td>\n      <td>60223.000000</td>\n      <td>6.712022</td>\n      <td>1.000000</td>\n      <td>1.000000</td>\n    </tr>\n    <tr>\n      <th>max</th>\n      <td>90.000000</td>\n      <td>NaN</td>\n      <td>5.000000</td>\n      <td>62.000000</td>\n      <td>210.000000</td>\n      <td>182058.000000</td>\n      <td>10.986203</td>\n      <td>1.000000</td>\n      <td>1.000000</td>\n    </tr>\n  </tbody>\n</table>\n</div>"
     },
     "execution_count": 8,
     "metadata": {},
     "output_type": "execute_result"
    }
   ],
   "source": [
    "# Call describe() on your data to get the relevant summary statistics for your data \n",
    "coffeeData.describe(include='all')"
   ]
  },
  {
   "cell_type": "markdown",
   "metadata": {
    "colab_type": "text",
    "id": "INkujJ6QDuVg"
   },
   "source": [
    "# 2. Cleaning, transforming and visualizing\n",
    "## 2a. Cleaning the data"
   ]
  },
  {
   "cell_type": "markdown",
   "metadata": {
    "colab_type": "text",
    "id": "wIMW_rbdDuVh"
   },
   "source": [
    "Some datasets don't require any cleaning, but almost all do. This one does. We need to replace '1.0' and '0.0' in the 'Decision' column by 'YES' and 'NO' respectively, clean up the values of the 'gender' column, and change the column names to words which maximize meaning and clarity. "
   ]
  },
  {
   "cell_type": "markdown",
   "metadata": {
    "colab_type": "text",
    "id": "EEXdBALeDuVi"
   },
   "source": [
    "First, let's change the name of `spent_week`, `spent_month`, and `SlrAY` to `spent_last_week` and `spent_last_month` and `salary` respectively."
   ]
  },
  {
   "cell_type": "code",
   "execution_count": 9,
   "metadata": {
    "colab": {},
    "colab_type": "code",
    "id": "rhxy23pbDuVi",
    "ExecuteTime": {
     "end_time": "2024-02-05T18:04:11.305237Z",
     "start_time": "2024-02-05T18:04:11.298297Z"
    }
   },
   "outputs": [
    {
     "data": {
      "text/plain": "Index(['Age', 'Gender', 'num_coffeeBags_per_year', 'spent_week', 'spent_month',\n       'SlrAY', 'Distance', 'Online', 'Decision'],\n      dtype='object')"
     },
     "execution_count": 9,
     "metadata": {},
     "output_type": "execute_result"
    }
   ],
   "source": [
    "# Check out the names of our data's columns \n",
    "coffeeData.columns"
   ]
  },
  {
   "cell_type": "code",
   "execution_count": 10,
   "metadata": {
    "colab": {},
    "colab_type": "code",
    "id": "C_D1m6ryDuVk",
    "ExecuteTime": {
     "end_time": "2024-02-05T18:04:12.372628Z",
     "start_time": "2024-02-05T18:04:12.360464Z"
    }
   },
   "outputs": [],
   "source": [
    "# Make the relevant name changes to spent_week and spent_per_week.\n",
    "coffeeData = coffeeData.rename({'spent_week':'spent_last_week', 'spent_month':'spent_last_month', 'SlrAY':'salary'}, axis=1)"
   ]
  },
  {
   "cell_type": "code",
   "execution_count": 11,
   "metadata": {
    "colab": {},
    "colab_type": "code",
    "id": "3cmdaeg8DuVm",
    "ExecuteTime": {
     "end_time": "2024-02-05T18:04:12.795723Z",
     "start_time": "2024-02-05T18:04:12.789553Z"
    }
   },
   "outputs": [
    {
     "data": {
      "text/plain": "Index(['Age', 'Gender', 'num_coffeeBags_per_year', 'spent_last_week',\n       'spent_last_month', 'salary', 'Distance', 'Online', 'Decision'],\n      dtype='object')"
     },
     "execution_count": 11,
     "metadata": {},
     "output_type": "execute_result"
    }
   ],
   "source": [
    "# Check out the column names\n",
    "coffeeData.columns"
   ]
  },
  {
   "cell_type": "code",
   "execution_count": 12,
   "metadata": {
    "colab": {},
    "colab_type": "code",
    "id": "XJK-wbfODuVp",
    "ExecuteTime": {
     "end_time": "2024-02-05T18:04:13.421787Z",
     "start_time": "2024-02-05T18:04:13.416802Z"
    }
   },
   "outputs": [
    {
     "data": {
      "text/plain": "Male      355\nFemale    340\nfemale      1\nF           1\nf           1\nFEMALE      1\nMALE        1\nmale        1\nM           1\nName: Gender, dtype: int64"
     },
     "execution_count": 12,
     "metadata": {},
     "output_type": "execute_result"
    }
   ],
   "source": [
    "# Let's have a closer look at the gender column. Its values need cleaning.\n",
    "coffeeData.Gender.value_counts()"
   ]
  },
  {
   "cell_type": "code",
   "execution_count": 13,
   "metadata": {
    "colab": {},
    "colab_type": "code",
    "id": "88bITtgzDuVr",
    "ExecuteTime": {
     "end_time": "2024-02-05T18:04:14.260964Z",
     "start_time": "2024-02-05T18:04:14.245666Z"
    }
   },
   "outputs": [
    {
     "data": {
      "text/plain": "array(['Female', 'Male', 'female', 'F', 'f ', 'FEMALE', 'MALE', 'male',\n       'M'], dtype=object)"
     },
     "execution_count": 13,
     "metadata": {},
     "output_type": "execute_result"
    }
   ],
   "source": [
    "# See the gender column's unique values \n",
    "coffeeData.Gender.unique()"
   ]
  },
  {
   "cell_type": "markdown",
   "metadata": {
    "colab_type": "text",
    "id": "-eGzgGR1DuVt"
   },
   "source": [
    "We can see a bunch of inconsistency here.\n",
    "\n",
    "Use replace() to make the values of the `gender` column just `Female` and `Male`."
   ]
  },
  {
   "cell_type": "code",
   "execution_count": 14,
   "metadata": {
    "colab": {},
    "colab_type": "code",
    "id": "h0FOX3I3DuVu",
    "ExecuteTime": {
     "end_time": "2024-02-05T18:04:17.273843Z",
     "start_time": "2024-02-05T18:04:17.261325Z"
    }
   },
   "outputs": [],
   "source": [
    "# Replace all alternate values for the Female entry with 'Female'\n",
    "coffeeData.Gender = coffeeData.Gender.replace(['female', 'F', 'f ', 'FEMALE'], 'Female')"
   ]
  },
  {
   "cell_type": "code",
   "execution_count": 15,
   "metadata": {
    "colab": {},
    "colab_type": "code",
    "id": "5TThfHgCDuVw",
    "ExecuteTime": {
     "end_time": "2024-02-05T18:04:18.312181Z",
     "start_time": "2024-02-05T18:04:18.300926Z"
    }
   },
   "outputs": [
    {
     "data": {
      "text/plain": "array(['Female', 'Male', 'MALE', 'male', 'M'], dtype=object)"
     },
     "execution_count": 15,
     "metadata": {},
     "output_type": "execute_result"
    }
   ],
   "source": [
    "# Check out the unique values for the 'gender' column\n",
    "coffeeData.Gender.unique()"
   ]
  },
  {
   "cell_type": "code",
   "execution_count": 16,
   "metadata": {
    "colab": {},
    "colab_type": "code",
    "id": "4wRKBvSHDuVy",
    "ExecuteTime": {
     "end_time": "2024-02-05T18:04:19.222732Z",
     "start_time": "2024-02-05T18:04:19.217513Z"
    }
   },
   "outputs": [],
   "source": [
    "# Replace all alternate values with \"Male\"\n",
    "coffeeData.Gender = coffeeData.Gender.replace(['MALE', 'male', 'M'], 'Male')"
   ]
  },
  {
   "cell_type": "code",
   "execution_count": 17,
   "metadata": {
    "colab": {},
    "colab_type": "code",
    "id": "nhBUkXIADuV0",
    "ExecuteTime": {
     "end_time": "2024-02-05T18:04:21.327703Z",
     "start_time": "2024-02-05T18:04:21.315037Z"
    }
   },
   "outputs": [
    {
     "data": {
      "text/plain": "array(['Female', 'Male'], dtype=object)"
     },
     "execution_count": 17,
     "metadata": {},
     "output_type": "execute_result"
    }
   ],
   "source": [
    "# Let's check the unique values of the column \"gender\"\n",
    "coffeeData.Gender.unique()"
   ]
  },
  {
   "cell_type": "code",
   "execution_count": 18,
   "metadata": {
    "colab": {},
    "colab_type": "code",
    "id": "AdhhO4WHDuV2",
    "ExecuteTime": {
     "end_time": "2024-02-05T18:04:22.247733Z",
     "start_time": "2024-02-05T18:04:22.232853Z"
    }
   },
   "outputs": [
    {
     "data": {
      "text/plain": "array([ 1., nan,  0.])"
     },
     "execution_count": 18,
     "metadata": {},
     "output_type": "execute_result"
    }
   ],
   "source": [
    "# Check out the unique values of the column 'Decision'\n",
    "coffeeData.Decision.unique()"
   ]
  },
  {
   "cell_type": "markdown",
   "metadata": {
    "colab_type": "text",
    "id": "m1JuiY-iDuV5"
   },
   "source": [
    "We now want to replace `1.0` and `0.0` in the `Decision` column by `YES` and `NO` respectively."
   ]
  },
  {
   "cell_type": "code",
   "execution_count": 19,
   "metadata": {
    "colab": {},
    "colab_type": "code",
    "id": "QsK6gYPgDuV5",
    "ExecuteTime": {
     "end_time": "2024-02-05T18:04:24.531263Z",
     "start_time": "2024-02-05T18:04:24.526664Z"
    }
   },
   "outputs": [],
   "source": [
    "# Replace 1.0 and 0.0 by 'Yes' and 'No'\n",
    "coffeeData.Decision = coffeeData.Decision.replace(1.0, 'YES')\n",
    "coffeeData.Decision = coffeeData.Decision.replace(0.0, 'NO')"
   ]
  },
  {
   "cell_type": "code",
   "execution_count": 20,
   "metadata": {
    "colab": {},
    "colab_type": "code",
    "id": "YtHnTZuWDuV9",
    "ExecuteTime": {
     "end_time": "2024-02-05T18:04:26.762101Z",
     "start_time": "2024-02-05T18:04:26.737179Z"
    }
   },
   "outputs": [
    {
     "data": {
      "text/plain": "array(['YES', nan, 'NO'], dtype=object)"
     },
     "execution_count": 20,
     "metadata": {},
     "output_type": "execute_result"
    }
   ],
   "source": [
    "# Check that our replacing those values with 'YES' and 'NO' worked, with unique()\n",
    "coffeeData.Decision.unique()"
   ]
  },
  {
   "cell_type": "markdown",
   "metadata": {
    "colab_type": "text",
    "id": "CKCt-fBlDuWB"
   },
   "source": [
    "## 2b. Train/test split\n",
    "To execute the train/test split properly, we need to do five things: \n",
    "1. Drop all rows with a null value in the `Decision` column, and save the result as NOPrediction: a dataset that will contain all known values for the decision \n",
    "2. Visualize the data using scatter and boxplots of several variables in the y-axis and the decision on the x-axis\n",
    "3. Get the subset of coffeeData with null values in the `Decision` column, and save that subset as Prediction\n",
    "4. Divide the NOPrediction subset into X and y, and then further divide those subsets into train and test subsets for X and y respectively\n",
    "5. Create dummy variables to deal with categorical inputs"
   ]
  },
  {
   "cell_type": "markdown",
   "metadata": {
    "colab_type": "text",
    "id": "ysHdkIaQDuWB"
   },
   "source": [
    "### 1. Drop all null values within the `Decision` column, and save the result as NoPrediction"
   ]
  },
  {
   "cell_type": "code",
   "execution_count": 21,
   "metadata": {
    "colab": {},
    "colab_type": "code",
    "id": "pvgH6SM4DuWC",
    "ExecuteTime": {
     "end_time": "2024-02-05T18:06:10.214443Z",
     "start_time": "2024-02-05T18:06:10.203359Z"
    }
   },
   "outputs": [
    {
     "data": {
      "text/plain": "count     474\nunique      2\ntop       YES\nfreq      303\nName: Decision, dtype: object"
     },
     "execution_count": 21,
     "metadata": {},
     "output_type": "execute_result"
    }
   ],
   "source": [
    "# NoPrediction will contain all known values for the decision\n",
    "# Call dropna() on coffeeData, and store the result in a variable NOPrediction \n",
    "# Call describe() on the Decision column of NoPrediction after calling dropna() on coffeeData\n",
    "NoPrediction = coffeeData.dropna(subset='Decision')\n",
    "NoPrediction.Decision.describe()"
   ]
  },
  {
   "cell_type": "markdown",
   "metadata": {
    "colab_type": "text",
    "id": "XfTK5Ec6DuWE"
   },
   "source": [
    "### 2. Visualize the data using scatter and boxplots of several variables in the y-axis and the decision on the x-axis"
   ]
  },
  {
   "cell_type": "code",
   "execution_count": 22,
   "metadata": {
    "colab": {},
    "colab_type": "code",
    "id": "5O-M-t3tDuWE",
    "ExecuteTime": {
     "end_time": "2024-02-05T18:07:31.561687Z",
     "start_time": "2024-02-05T18:07:31.550817Z"
    }
   },
   "outputs": [
    {
     "data": {
      "text/plain": "   Age  Gender  num_coffeeBags_per_year  spent_last_week  spent_last_month  \\\n0   36  Female                        0               24                73   \n2   24    Male                        0               39               119   \n4   24  Female                        0               20                36   \n5   20  Female                        0               23                28   \n6   34  Female                        0               55               202   \n\n   salary  Distance  Online Decision  \n0   42789  0.003168       0      YES  \n2   30563  0.916005       1      YES  \n4   14244  0.965881       0      YES  \n5   14293  1.036346       1      YES  \n6   91035  1.134851       0      YES  ",
      "text/html": "<div>\n<style scoped>\n    .dataframe tbody tr th:only-of-type {\n        vertical-align: middle;\n    }\n\n    .dataframe tbody tr th {\n        vertical-align: top;\n    }\n\n    .dataframe thead th {\n        text-align: right;\n    }\n</style>\n<table border=\"1\" class=\"dataframe\">\n  <thead>\n    <tr style=\"text-align: right;\">\n      <th></th>\n      <th>Age</th>\n      <th>Gender</th>\n      <th>num_coffeeBags_per_year</th>\n      <th>spent_last_week</th>\n      <th>spent_last_month</th>\n      <th>salary</th>\n      <th>Distance</th>\n      <th>Online</th>\n      <th>Decision</th>\n    </tr>\n  </thead>\n  <tbody>\n    <tr>\n      <th>0</th>\n      <td>36</td>\n      <td>Female</td>\n      <td>0</td>\n      <td>24</td>\n      <td>73</td>\n      <td>42789</td>\n      <td>0.003168</td>\n      <td>0</td>\n      <td>YES</td>\n    </tr>\n    <tr>\n      <th>2</th>\n      <td>24</td>\n      <td>Male</td>\n      <td>0</td>\n      <td>39</td>\n      <td>119</td>\n      <td>30563</td>\n      <td>0.916005</td>\n      <td>1</td>\n      <td>YES</td>\n    </tr>\n    <tr>\n      <th>4</th>\n      <td>24</td>\n      <td>Female</td>\n      <td>0</td>\n      <td>20</td>\n      <td>36</td>\n      <td>14244</td>\n      <td>0.965881</td>\n      <td>0</td>\n      <td>YES</td>\n    </tr>\n    <tr>\n      <th>5</th>\n      <td>20</td>\n      <td>Female</td>\n      <td>0</td>\n      <td>23</td>\n      <td>28</td>\n      <td>14293</td>\n      <td>1.036346</td>\n      <td>1</td>\n      <td>YES</td>\n    </tr>\n    <tr>\n      <th>6</th>\n      <td>34</td>\n      <td>Female</td>\n      <td>0</td>\n      <td>55</td>\n      <td>202</td>\n      <td>91035</td>\n      <td>1.134851</td>\n      <td>0</td>\n      <td>YES</td>\n    </tr>\n  </tbody>\n</table>\n</div>"
     },
     "execution_count": 22,
     "metadata": {},
     "output_type": "execute_result"
    }
   ],
   "source": [
    "# Exploring our new NOPrediction dataset\n",
    "# Make a boxplot on NOPrediction where the x axis is Decision, and the y axis is spent_last_week\n",
    "NoPrediction.head()"
   ]
  },
  {
   "cell_type": "code",
   "execution_count": 23,
   "outputs": [
    {
     "data": {
      "text/plain": "(474, 9)"
     },
     "execution_count": 23,
     "metadata": {},
     "output_type": "execute_result"
    }
   ],
   "source": [
    "NoPrediction.shape"
   ],
   "metadata": {
    "collapsed": false,
    "ExecuteTime": {
     "end_time": "2024-02-05T18:07:55.158009Z",
     "start_time": "2024-02-05T18:07:55.152145Z"
    }
   }
  },
  {
   "cell_type": "code",
   "execution_count": 24,
   "outputs": [
    {
     "data": {
      "text/plain": "<Figure size 640x480 with 1 Axes>",
      "image/png": "[encoded data removed]"
     },
     "metadata": {},
     "output_type": "display_data"
    }
   ],
   "source": [
    "sns.boxplot(x='Decision', y='spent_last_week', data=NoPrediction)\n",
    "_ = plt.title('Boxplot of Decision and spent_last_week');"
   ],
   "metadata": {
    "collapsed": false,
    "ExecuteTime": {
     "end_time": "2024-02-05T18:08:49.660259Z",
     "start_time": "2024-02-05T18:08:49.445635Z"
    }
   }
  },
  {
   "cell_type": "markdown",
   "metadata": {
    "colab_type": "text",
    "id": "mVqg_HI7DuWG"
   },
   "source": [
    "Can you admissibly conclude anything from this boxplot? Write your answer here:\n",
    "\n",
    "The spent_last_week of customers with Yes response is greater than respondants who usually do not spend as much money at the cafe."
   ]
  },
  {
   "cell_type": "code",
   "execution_count": 25,
   "metadata": {
    "colab": {},
    "colab_type": "code",
    "id": "q-AyXWSxDuWH",
    "ExecuteTime": {
     "end_time": "2024-02-05T18:27:59.432631Z",
     "start_time": "2024-02-05T18:27:59.111773Z"
    }
   },
   "outputs": [
    {
     "data": {
      "text/plain": "<Figure size 640x480 with 1 Axes>",
      "image/png": "[encoded data removed]"
     },
     "metadata": {},
     "output_type": "display_data"
    }
   ],
   "source": [
    "# Make a scatterplot on NOPrediction, where x is distance, y is spent_last_month and hue is Decision \n",
    "sns.scatterplot(x='Distance', y='spent_last_month', hue='Decision', data=NoPrediction)\n",
    "_ = plt.title('Scatterplot of Distance and spent_last_month');"
   ]
  },
  {
   "cell_type": "markdown",
   "metadata": {
    "colab_type": "text",
    "id": "I_nr36yZDuWJ"
   },
   "source": [
    "Can you admissibly conclude anything from this scatterplot? Remember: we are trying to build a tree to classify unseen examples. Write your answer here:"
   ]
  },
  {
   "cell_type": "markdown",
   "source": [
    "Customers who spend <=20 per month already have an answer of not spending money on the new coffee. However, customers who spent more or equal to 140 already responded that they would spend money in the new coffee."
   ],
   "metadata": {
    "collapsed": false
   }
  },
  {
   "cell_type": "markdown",
   "metadata": {
    "colab_type": "text",
    "id": "oQBPyvehDuWK"
   },
   "source": [
    "### 3. Get the subset of coffeeData with null values in the Decision column, and save that subset as Prediction"
   ]
  },
  {
   "cell_type": "code",
   "execution_count": 26,
   "metadata": {
    "colab": {},
    "colab_type": "code",
    "id": "vcCednqUDuWL",
    "ExecuteTime": {
     "end_time": "2024-02-05T18:56:40.579756Z",
     "start_time": "2024-02-05T18:56:40.566914Z"
    }
   },
   "outputs": [
    {
     "data": {
      "text/plain": "    Age  Gender  num_coffeeBags_per_year  spent_last_week  spent_last_month  \\\n1    24    Male                        0               44               164   \n3    20    Male                        0               30               107   \n7    24  Female                        0               20                34   \n11   24  Female                        0               40               153   \n12   21  Female                        0               38               122   \n\n    salary  Distance  Online Decision  \n1    74035  0.520906       0      NaN  \n3    13166  0.932098       1      NaN  \n7    17425  1.193188       0      NaN  \n11   84803  1.655096       1      NaN  \n12   42338  1.714179       1      NaN  ",
      "text/html": "<div>\n<style scoped>\n    .dataframe tbody tr th:only-of-type {\n        vertical-align: middle;\n    }\n\n    .dataframe tbody tr th {\n        vertical-align: top;\n    }\n\n    .dataframe thead th {\n        text-align: right;\n    }\n</style>\n<table border=\"1\" class=\"dataframe\">\n  <thead>\n    <tr style=\"text-align: right;\">\n      <th></th>\n      <th>Age</th>\n      <th>Gender</th>\n      <th>num_coffeeBags_per_year</th>\n      <th>spent_last_week</th>\n      <th>spent_last_month</th>\n      <th>salary</th>\n      <th>Distance</th>\n      <th>Online</th>\n      <th>Decision</th>\n    </tr>\n  </thead>\n  <tbody>\n    <tr>\n      <th>1</th>\n      <td>24</td>\n      <td>Male</td>\n      <td>0</td>\n      <td>44</td>\n      <td>164</td>\n      <td>74035</td>\n      <td>0.520906</td>\n      <td>0</td>\n      <td>NaN</td>\n    </tr>\n    <tr>\n      <th>3</th>\n      <td>20</td>\n      <td>Male</td>\n      <td>0</td>\n      <td>30</td>\n      <td>107</td>\n      <td>13166</td>\n      <td>0.932098</td>\n      <td>1</td>\n      <td>NaN</td>\n    </tr>\n    <tr>\n      <th>7</th>\n      <td>24</td>\n      <td>Female</td>\n      <td>0</td>\n      <td>20</td>\n      <td>34</td>\n      <td>17425</td>\n      <td>1.193188</td>\n      <td>0</td>\n      <td>NaN</td>\n    </tr>\n    <tr>\n      <th>11</th>\n      <td>24</td>\n      <td>Female</td>\n      <td>0</td>\n      <td>40</td>\n      <td>153</td>\n      <td>84803</td>\n      <td>1.655096</td>\n      <td>1</td>\n      <td>NaN</td>\n    </tr>\n    <tr>\n      <th>12</th>\n      <td>21</td>\n      <td>Female</td>\n      <td>0</td>\n      <td>38</td>\n      <td>122</td>\n      <td>42338</td>\n      <td>1.714179</td>\n      <td>1</td>\n      <td>NaN</td>\n    </tr>\n  </tbody>\n</table>\n</div>"
     },
     "execution_count": 26,
     "metadata": {},
     "output_type": "execute_result"
    }
   ],
   "source": [
    "# Get just those rows whose value for the Decision column is null  \n",
    "Prediction = coffeeData.loc[coffeeData.Decision.isna(), :]\n",
    "Prediction.head()"
   ]
  },
  {
   "cell_type": "code",
   "execution_count": 27,
   "metadata": {
    "colab": {},
    "colab_type": "code",
    "id": "aenlmp9NDuWM",
    "ExecuteTime": {
     "end_time": "2024-02-05T18:57:09.857487Z",
     "start_time": "2024-02-05T18:57:09.822785Z"
    }
   },
   "outputs": [
    {
     "data": {
      "text/plain": "              Age  num_coffeeBags_per_year  spent_last_week  spent_last_month  \\\ncount  228.000000               228.000000       228.000000        228.000000   \nmean    31.802632                 2.960526        33.394737        110.407895   \nstd     14.302293                 1.585514        15.697930         53.786536   \nmin     16.000000                 0.000000         0.000000          0.000000   \n25%     22.000000                 2.000000        25.750000         65.000000   \n50%     25.000000                 3.000000        37.000000        113.500000   \n75%     39.000000                 4.000000        44.000000        151.250000   \nmax     67.000000                 5.000000        62.000000        210.000000   \n\n              salary    Distance      Online  \ncount     228.000000  228.000000  228.000000  \nmean    41923.741228    3.428836    0.570175  \nstd     27406.768360    2.153102    0.496140  \nmin      1617.000000    0.010048    0.000000  \n25%     15911.500000    1.699408    0.000000  \n50%     40987.500000    3.208673    1.000000  \n75%     58537.000000    5.261184    1.000000  \nmax    182058.000000   10.871566    1.000000  ",
      "text/html": "<div>\n<style scoped>\n    .dataframe tbody tr th:only-of-type {\n        vertical-align: middle;\n    }\n\n    .dataframe tbody tr th {\n        vertical-align: top;\n    }\n\n    .dataframe thead th {\n        text-align: right;\n    }\n</style>\n<table border=\"1\" class=\"dataframe\">\n  <thead>\n    <tr style=\"text-align: right;\">\n      <th></th>\n      <th>Age</th>\n      <th>num_coffeeBags_per_year</th>\n      <th>spent_last_week</th>\n      <th>spent_last_month</th>\n      <th>salary</th>\n      <th>Distance</th>\n      <th>Online</th>\n    </tr>\n  </thead>\n  <tbody>\n    <tr>\n      <th>count</th>\n      <td>228.000000</td>\n      <td>228.000000</td>\n      <td>228.000000</td>\n      <td>228.000000</td>\n      <td>228.000000</td>\n      <td>228.000000</td>\n      <td>228.000000</td>\n    </tr>\n    <tr>\n      <th>mean</th>\n      <td>31.802632</td>\n      <td>2.960526</td>\n      <td>33.394737</td>\n      <td>110.407895</td>\n      <td>41923.741228</td>\n      <td>3.428836</td>\n      <td>0.570175</td>\n    </tr>\n    <tr>\n      <th>std</th>\n      <td>14.302293</td>\n      <td>1.585514</td>\n      <td>15.697930</td>\n      <td>53.786536</td>\n      <td>27406.768360</td>\n      <td>2.153102</td>\n      <td>0.496140</td>\n    </tr>\n    <tr>\n      <th>min</th>\n      <td>16.000000</td>\n      <td>0.000000</td>\n      <td>0.000000</td>\n      <td>0.000000</td>\n      <td>1617.000000</td>\n      <td>0.010048</td>\n      <td>0.000000</td>\n    </tr>\n    <tr>\n      <th>25%</th>\n      <td>22.000000</td>\n      <td>2.000000</td>\n      <td>25.750000</td>\n      <td>65.000000</td>\n      <td>15911.500000</td>\n      <td>1.699408</td>\n      <td>0.000000</td>\n    </tr>\n    <tr>\n      <th>50%</th>\n      <td>25.000000</td>\n      <td>3.000000</td>\n      <td>37.000000</td>\n      <td>113.500000</td>\n      <td>40987.500000</td>\n      <td>3.208673</td>\n      <td>1.000000</td>\n    </tr>\n    <tr>\n      <th>75%</th>\n      <td>39.000000</td>\n      <td>4.000000</td>\n      <td>44.000000</td>\n      <td>151.250000</td>\n      <td>58537.000000</td>\n      <td>5.261184</td>\n      <td>1.000000</td>\n    </tr>\n    <tr>\n      <th>max</th>\n      <td>67.000000</td>\n      <td>5.000000</td>\n      <td>62.000000</td>\n      <td>210.000000</td>\n      <td>182058.000000</td>\n      <td>10.871566</td>\n      <td>1.000000</td>\n    </tr>\n  </tbody>\n</table>\n</div>"
     },
     "execution_count": 27,
     "metadata": {},
     "output_type": "execute_result"
    }
   ],
   "source": [
    "# Call describe() on Prediction\n",
    "Prediction.describe()"
   ]
  },
  {
   "cell_type": "markdown",
   "metadata": {
    "colab_type": "text",
    "id": "zmN_BPwFDuWO"
   },
   "source": [
    "### 4. Divide the NOPrediction subset into X and y"
   ]
  },
  {
   "cell_type": "code",
   "execution_count": 28,
   "metadata": {
    "colab": {},
    "colab_type": "code",
    "id": "00WtPVYSDuWP",
    "ExecuteTime": {
     "end_time": "2024-02-05T18:57:50.858521Z",
     "start_time": "2024-02-05T18:57:50.852486Z"
    }
   },
   "outputs": [
    {
     "data": {
      "text/plain": "Index(['Age', 'Gender', 'num_coffeeBags_per_year', 'spent_last_week',\n       'spent_last_month', 'salary', 'Distance', 'Online', 'Decision'],\n      dtype='object')"
     },
     "execution_count": 28,
     "metadata": {},
     "output_type": "execute_result"
    }
   ],
   "source": [
    "# Check the names of the columns of NOPrediction\n",
    "NoPrediction.columns"
   ]
  },
  {
   "cell_type": "code",
   "execution_count": 29,
   "metadata": {
    "colab": {},
    "colab_type": "code",
    "id": "oPi2gMLfDuWQ",
    "ExecuteTime": {
     "end_time": "2024-02-05T18:59:19.777900Z",
     "start_time": "2024-02-05T18:59:19.772885Z"
    }
   },
   "outputs": [],
   "source": [
    "# Let's do our feature selection.\n",
    "# Make a variable called 'features', and a list containing the strings of every column except \"Decision\"\n",
    "features = ['Age', 'Gender', 'num_coffeeBags_per_year', 'spent_last_week',\n",
    "            'spent_last_month', 'salary', 'Distance', 'Online']\n",
    "\n",
    "\n",
    "# Make an explanatory variable called X, and assign it: NoPrediction[features]\n",
    "X = NoPrediction[features]\n",
    "\n",
    "# Make a dependent variable called y, and assign it: NoPrediction.Decision\n",
    "y = NoPrediction.Decision"
   ]
  },
  {
   "cell_type": "markdown",
   "metadata": {
    "colab_type": "text",
    "id": "R-d3XOv8DuWW"
   },
   "source": [
    "### 5. Create dummy variables to deal with categorical inputs\n",
    "One-hot encoding replaces each unique value of a given column with a new column, and puts a 1 in the new column for a given row just if its initial value for the original column matches the new column. Check out [this resource](https://hackernoon.com/what-is-one-hot-encoding-why-and-when-do-you-have-to-use-it-e3c6186d008f) if you haven't seen one-hot-encoding before. \n",
    "\n",
    "**Note**: We will do this before we do our train/test split as to do it after could mean that some categories only end up in the train or test split of our data by chance and this would then lead to different shapes of data for our `X_train` and `X_test` which could/would cause downstream issues when fitting or predicting using a trained model."
   ]
  },
  {
   "cell_type": "code",
   "execution_count": 30,
   "metadata": {
    "colab": {},
    "colab_type": "code",
    "id": "xXHGDZkZDuWW",
    "ExecuteTime": {
     "end_time": "2024-02-06T02:35:59.380914Z",
     "start_time": "2024-02-06T02:35:59.367319Z"
    }
   },
   "outputs": [],
   "source": [
    "# One-hot encode all features in X.\n",
    "X = pd.get_dummies(X)"
   ]
  },
  {
   "cell_type": "markdown",
   "metadata": {
    "colab_type": "text",
    "id": "Jdn_dHlkDuWS"
   },
   "source": [
    "### 6. Further divide those subsets into train and test subsets for X and y respectively: X_train, X_test, y_train, y_test"
   ]
  },
  {
   "cell_type": "code",
   "execution_count": 32,
   "metadata": {
    "colab": {},
    "colab_type": "code",
    "id": "RqbHQza-DuWT",
    "ExecuteTime": {
     "end_time": "2024-02-06T02:51:37.327203Z",
     "start_time": "2024-02-06T02:51:37.312608Z"
    }
   },
   "outputs": [],
   "source": [
    "# Call train_test_split on X, y. Make the test_size = 0.25, and random_state = 246\n",
    "X_train, X_test, y_train, y_test = train_test_split(X, y, test_size = 0.25, random_state=246)"
   ]
  },
  {
   "cell_type": "markdown",
   "metadata": {
    "colab_type": "text",
    "id": "nqvyCX-6DuWb"
   },
   "source": [
    "# 3. Modelling\n",
    "It's useful to look at the scikit-learn documentation on decision trees https://scikit-learn.org/stable/modules/tree.html before launching into applying them. If you haven't seen them before, take a look at that link, in particular the section `1.10.5.` "
   ]
  },
  {
   "cell_type": "markdown",
   "metadata": {
    "colab_type": "text",
    "id": "RIm9IN5HDuWc"
   },
   "source": [
    "## Model 1: Entropy model - no max_depth\n",
    "\n",
    "We'll give you a little more guidance here, as the Python is hard to deduce, and scikitlearn takes some getting used to.\n",
    "\n",
    "Theoretically, let's remind ourselves of what's going on with a decision tree implementing an entropy model.\n",
    "\n",
    "Ross Quinlan's **ID3 Algorithm** was one of the first, and one of the most basic, to use entropy as a metric.\n",
    "\n",
    "**Entropy** is a measure of how uncertain we are about which category the data-points fall into at a given point in the tree. The **Information gain** of a specific feature with a threshold (such as 'spent_last_month <= 138.0') is the difference in entropy that exists before and after splitting on that feature; i.e., the information we gain about the categories of the data-points by splitting on that feature and that threshold. \n",
    "\n",
    "Naturally, we want to minimize entropy and maximize information gain. Quinlan's ID3 algorithm is designed to output a tree such that the features at each node, starting from the root, and going all the way down to the leaves, have maximial information gain. We want a tree whose leaves have elements that are *homogeneous*, that is, all of the same category. \n",
    "\n",
    "The first model will be the hardest. Persevere and you'll reap the rewards: you can use almost exactly the same code for the other models. "
   ]
  },
  {
   "cell_type": "code",
   "execution_count": 33,
   "metadata": {
    "colab": {},
    "colab_type": "code",
    "id": "8-gelLDgDuWc",
    "ExecuteTime": {
     "end_time": "2024-02-06T02:51:40.206145Z",
     "start_time": "2024-02-06T02:51:40.198030Z"
    }
   },
   "outputs": [
    {
     "data": {
      "text/plain": "DecisionTreeClassifier(criterion='entropy')",
      "text/html": "<style>#sk-container-id-1 {color: black;background-color: white;}#sk-container-id-1 pre{padding: 0;}#sk-container-id-1 div.sk-toggleable {background-color: white;}#sk-container-id-1 label.sk-toggleable__label {cursor: pointer;display: block;width: 100%;margin-bottom: 0;padding: 0.3em;box-sizing: border-box;text-align: center;}#sk-container-id-1 label.sk-toggleable__label-arrow:before {content: \"▸\";float: left;margin-right: 0.25em;color: #696969;}#sk-container-id-1 label.sk-toggleable__label-arrow:hover:before {color: black;}#sk-container-id-1 div.sk-estimator:hover label.sk-toggleable__label-arrow:before {color: black;}#sk-container-id-1 div.sk-toggleable__content {max-height: 0;max-width: 0;overflow: hidden;text-align: left;background-color: #f0f8ff;}#sk-container-id-1 div.sk-toggleable__content pre {margin: 0.2em;color: black;border-radius: 0.25em;background-color: #f0f8ff;}#sk-container-id-1 input.sk-toggleable__control:checked~div.sk-toggleable__content {max-height: 200px;max-width: 100%;overflow: auto;}#sk-container-id-1 input.sk-toggleable__control:checked~label.sk-toggleable__label-arrow:before {content: \"▾\";}#sk-container-id-1 div.sk-estimator input.sk-toggleable__control:checked~label.sk-toggleable__label {background-color: #d4ebff;}#sk-container-id-1 div.sk-label input.sk-toggleable__control:checked~label.sk-toggleable__label {background-color: #d4ebff;}#sk-container-id-1 input.sk-hidden--visually {border: 0;clip: rect(1px 1px 1px 1px);clip: rect(1px, 1px, 1px, 1px);height: 1px;margin: -1px;overflow: hidden;padding: 0;position: absolute;width: 1px;}#sk-container-id-1 div.sk-estimator {font-family: monospace;background-color: #f0f8ff;border: 1px dotted black;border-radius: 0.25em;box-sizing: border-box;margin-bottom: 0.5em;}#sk-container-id-1 div.sk-estimator:hover {background-color: #d4ebff;}#sk-container-id-1 div.sk-parallel-item::after {content: \"\";width: 100%;border-bottom: 1px solid gray;flex-grow: 1;}#sk-container-id-1 div.sk-label:hover label.sk-toggleable__label {background-color: #d4ebff;}#sk-container-id-1 div.sk-serial::before {content: \"\";position: absolute;border-left: 1px solid gray;box-sizing: border-box;top: 0;bottom: 0;left: 50%;z-index: 0;}#sk-container-id-1 div.sk-serial {display: flex;flex-direction: column;align-items: center;background-color: white;padding-right: 0.2em;padding-left: 0.2em;position: relative;}#sk-container-id-1 div.sk-item {position: relative;z-index: 1;}#sk-container-id-1 div.sk-parallel {display: flex;align-items: stretch;justify-content: center;background-color: white;position: relative;}#sk-container-id-1 div.sk-item::before, #sk-container-id-1 div.sk-parallel-item::before {content: \"\";position: absolute;border-left: 1px solid gray;box-sizing: border-box;top: 0;bottom: 0;left: 50%;z-index: -1;}#sk-container-id-1 div.sk-parallel-item {display: flex;flex-direction: column;z-index: 1;position: relative;background-color: white;}#sk-container-id-1 div.sk-parallel-item:first-child::after {align-self: flex-end;width: 50%;}#sk-container-id-1 div.sk-parallel-item:last-child::after {align-self: flex-start;width: 50%;}#sk-container-id-1 div.sk-parallel-item:only-child::after {width: 0;}#sk-container-id-1 div.sk-dashed-wrapped {border: 1px dashed gray;margin: 0 0.4em 0.5em 0.4em;box-sizing: border-box;padding-bottom: 0.4em;background-color: white;}#sk-container-id-1 div.sk-label label {font-family: monospace;font-weight: bold;display: inline-block;line-height: 1.2em;}#sk-container-id-1 div.sk-label-container {text-align: center;}#sk-container-id-1 div.sk-container {/* jupyter's `normalize.less` sets `[hidden] { display: none; }` but bootstrap.min.css set `[hidden] { display: none !important; }` so we also need the `!important` here to be able to override the default hidden behavior on the sphinx rendered scikit-learn.org. See: https://github.com/scikit-learn/scikit-learn/issues/21755 */display: inline-block !important;position: relative;}#sk-container-id-1 div.sk-text-repr-fallback {display: none;}</style><div id=\"sk-container-id-1\" class=\"sk-top-container\"><div class=\"sk-text-repr-fallback\"><pre>DecisionTreeClassifier(criterion=&#x27;entropy&#x27;)</pre><b>In a Jupyter environment, please rerun this cell to show the HTML representation or trust the notebook. <br />On GitHub, the HTML representation is unable to render, please try loading this page with nbviewer.org.</b></div><div class=\"sk-container\" hidden><div class=\"sk-item\"><div class=\"sk-estimator sk-toggleable\"><input class=\"sk-toggleable__control sk-hidden--visually\" id=\"sk-estimator-id-1\" type=\"checkbox\" checked><label for=\"sk-estimator-id-1\" class=\"sk-toggleable__label sk-toggleable__label-arrow\">DecisionTreeClassifier</label><div class=\"sk-toggleable__content\"><pre>DecisionTreeClassifier(criterion=&#x27;entropy&#x27;)</pre></div></div></div></div></div>"
     },
     "execution_count": 33,
     "metadata": {},
     "output_type": "execute_result"
    }
   ],
   "source": [
    "# Declare a variable called entr_model and use tree.DecisionTreeClassifier. \n",
    "entr_model = tree.DecisionTreeClassifier(criterion='entropy')\n",
    "\n",
    "# Call fit() on entr_model\n",
    "entr_model.fit(X_train, y_train)\n",
    "\n",
    "# Call predict() on entr_model with X_test passed to it, and assign the result to a variable y_pred \n",
    "y_pred = entr_model.predict(X_test)\n",
    "\n",
    "# Call Series on our y_pred variable with the following: pd.Series(y_pred)\n",
    "y_pred = pd.Series(y_pred)\n",
    "\n",
    "# Check out entr_model\n",
    "entr_model"
   ]
  },
  {
   "cell_type": "code",
   "execution_count": 34,
   "metadata": {
    "colab": {},
    "colab_type": "code",
    "id": "S4FbHfWnDuWe",
    "ExecuteTime": {
     "end_time": "2024-02-06T02:59:15.809683Z",
     "start_time": "2024-02-06T02:59:14.669346Z"
    }
   },
   "outputs": [
    {
     "data": {
      "image/svg+xml": "<?xml version=\"1.0\" encoding=\"UTF-8\" standalone=\"no\"?>\n<!DOCTYPE svg PUBLIC \"-//W3C//DTD SVG 1.1//EN\"\n \"http://www.w3.org/Graphics/SVG/1.1/DTD/svg11.dtd\">\n<!-- Generated by graphviz version 9.0.0 (20230911.1827)\n -->\n<!-- Title: Tree Pages: 1 -->\n<svg width=\"713pt\" height=\"671pt\"\n viewBox=\"0.00 0.00 712.50 671.00\" xmlns=\"http://www.w3.org/2000/svg\" xmlns:xlink=\"http://www.w3.org/1999/xlink\">\n<g id=\"graph0\" class=\"graph\" transform=\"scale(1 1) rotate(0) translate(4 667)\">\n<title>Tree</title>\n<polygon fill=\"white\" stroke=\"none\" points=\"-4,4 -4,-667 708.5,-667 708.5,4 -4,4\"/>\n<!-- 0 -->\n<g id=\"node1\" class=\"node\">\n<title>0</title>\n<path fill=\"#abd6f4\" stroke=\"black\" d=\"M402.75,-663C402.75,-663 254.75,-663 254.75,-663 248.75,-663 242.75,-657 242.75,-651 242.75,-651 242.75,-592 242.75,-592 242.75,-586 248.75,-580 254.75,-580 254.75,-580 402.75,-580 402.75,-580 408.75,-580 414.75,-586 414.75,-592 414.75,-592 414.75,-651 414.75,-651 414.75,-657 408.75,-663 402.75,-663\"/>\n<text text-anchor=\"start\" x=\"250.75\" y=\"-645.7\" font-family=\"Helvetica,sans-Serif\" font-size=\"14.00\">spent_last_month ≤ 138.0</text>\n<text text-anchor=\"start\" x=\"281.5\" y=\"-630.7\" font-family=\"Helvetica,sans-Serif\" font-size=\"14.00\">entropy = 0.948</text>\n<text text-anchor=\"start\" x=\"284.12\" y=\"-615.7\" font-family=\"Helvetica,sans-Serif\" font-size=\"14.00\">samples = 355</text>\n<text text-anchor=\"start\" x=\"274.75\" y=\"-600.7\" font-family=\"Helvetica,sans-Serif\" font-size=\"14.00\">value = [130, 225]</text>\n<text text-anchor=\"start\" x=\"292\" y=\"-585.7\" font-family=\"Helvetica,sans-Serif\" font-size=\"14.00\">class = YES</text>\n</g>\n<!-- 1 -->\n<g id=\"node2\" class=\"node\">\n<title>1</title>\n<path fill=\"#fae6d7\" stroke=\"black\" d=\"M311.75,-544C311.75,-544 211.75,-544 211.75,-544 205.75,-544 199.75,-538 199.75,-532 199.75,-532 199.75,-473 199.75,-473 199.75,-467 205.75,-461 211.75,-461 211.75,-461 311.75,-461 311.75,-461 317.75,-461 323.75,-467 323.75,-473 323.75,-473 323.75,-532 323.75,-532 323.75,-538 317.75,-544 311.75,-544\"/>\n<text text-anchor=\"start\" x=\"211.12\" y=\"-526.7\" font-family=\"Helvetica,sans-Serif\" font-size=\"14.00\">Distance ≤ 3.524</text>\n<text text-anchor=\"start\" x=\"214.5\" y=\"-511.7\" font-family=\"Helvetica,sans-Serif\" font-size=\"14.00\">entropy = 0.991</text>\n<text text-anchor=\"start\" x=\"217.12\" y=\"-496.7\" font-family=\"Helvetica,sans-Serif\" font-size=\"14.00\">samples = 234</text>\n<text text-anchor=\"start\" x=\"207.75\" y=\"-481.7\" font-family=\"Helvetica,sans-Serif\" font-size=\"14.00\">value = [130, 104]</text>\n<text text-anchor=\"start\" x=\"228\" y=\"-466.7\" font-family=\"Helvetica,sans-Serif\" font-size=\"14.00\">class = NO</text>\n</g>\n<!-- 0&#45;&gt;1 -->\n<g id=\"edge1\" class=\"edge\">\n<title>0&#45;&gt;1</title>\n<path fill=\"none\" stroke=\"black\" d=\"M305.32,-579.58C300.6,-571.34 295.58,-562.58 290.7,-554.06\"/>\n<polygon fill=\"black\" stroke=\"black\" points=\"293.82,-552.45 285.81,-545.51 287.74,-555.93 293.82,-552.45\"/>\n<text text-anchor=\"middle\" x=\"278.5\" y=\"-562.53\" font-family=\"Helvetica,sans-Serif\" font-size=\"14.00\">True</text>\n</g>\n<!-- 16 -->\n<g id=\"node17\" class=\"node\">\n<title>16</title>\n<path fill=\"#399de5\" stroke=\"black\" d=\"M439.25,-536.5C439.25,-536.5 354.25,-536.5 354.25,-536.5 348.25,-536.5 342.25,-530.5 342.25,-524.5 342.25,-524.5 342.25,-480.5 342.25,-480.5 342.25,-474.5 348.25,-468.5 354.25,-468.5 354.25,-468.5 439.25,-468.5 439.25,-468.5 445.25,-468.5 451.25,-474.5 451.25,-480.5 451.25,-480.5 451.25,-524.5 451.25,-524.5 451.25,-530.5 445.25,-536.5 439.25,-536.5\"/>\n<text text-anchor=\"start\" x=\"357\" y=\"-519.2\" font-family=\"Helvetica,sans-Serif\" font-size=\"14.00\">entropy = 0.0</text>\n<text text-anchor=\"start\" x=\"352.12\" y=\"-504.2\" font-family=\"Helvetica,sans-Serif\" font-size=\"14.00\">samples = 121</text>\n<text text-anchor=\"start\" x=\"350.25\" y=\"-489.2\" font-family=\"Helvetica,sans-Serif\" font-size=\"14.00\">value = [0, 121]</text>\n<text text-anchor=\"start\" x=\"360\" y=\"-474.2\" font-family=\"Helvetica,sans-Serif\" font-size=\"14.00\">class = YES</text>\n</g>\n<!-- 0&#45;&gt;16 -->\n<g id=\"edge16\" class=\"edge\">\n<title>0&#45;&gt;16</title>\n<path fill=\"none\" stroke=\"black\" d=\"M352.53,-579.58C358.75,-568.88 365.47,-557.32 371.75,-546.52\"/>\n<polygon fill=\"black\" stroke=\"black\" points=\"374.6,-548.57 376.6,-538.17 368.55,-545.06 374.6,-548.57\"/>\n<text text-anchor=\"middle\" x=\"383.76\" y=\"-555.23\" font-family=\"Helvetica,sans-Serif\" font-size=\"14.00\">False</text>\n</g>\n<!-- 2 -->\n<g id=\"node3\" class=\"node\">\n<title>2</title>\n<path fill=\"#52aae8\" stroke=\"black\" d=\"M239,-425C239,-425 98.5,-425 98.5,-425 92.5,-425 86.5,-419 86.5,-413 86.5,-413 86.5,-354 86.5,-354 86.5,-348 92.5,-342 98.5,-342 98.5,-342 239,-342 239,-342 245,-342 251,-348 251,-354 251,-354 251,-413 251,-413 251,-419 245,-425 239,-425\"/>\n<text text-anchor=\"start\" x=\"94.5\" y=\"-407.7\" font-family=\"Helvetica,sans-Serif\" font-size=\"14.00\">spent_last_month ≤ 24.5</text>\n<text text-anchor=\"start\" x=\"121.5\" y=\"-392.7\" font-family=\"Helvetica,sans-Serif\" font-size=\"14.00\">entropy = 0.512</text>\n<text text-anchor=\"start\" x=\"127.88\" y=\"-377.7\" font-family=\"Helvetica,sans-Serif\" font-size=\"14.00\">samples = 79</text>\n<text text-anchor=\"start\" x=\"126\" y=\"-362.7\" font-family=\"Helvetica,sans-Serif\" font-size=\"14.00\">value = [9, 70]</text>\n<text text-anchor=\"start\" x=\"132\" y=\"-347.7\" font-family=\"Helvetica,sans-Serif\" font-size=\"14.00\">class = YES</text>\n</g>\n<!-- 1&#45;&gt;2 -->\n<g id=\"edge2\" class=\"edge\">\n<title>1&#45;&gt;2</title>\n<path fill=\"none\" stroke=\"black\" d=\"M229.22,-460.58C222.39,-451.98 215.11,-442.82 208.05,-433.95\"/>\n<polygon fill=\"black\" stroke=\"black\" points=\"211.01,-432.04 202.04,-426.39 205.53,-436.39 211.01,-432.04\"/>\n</g>\n<!-- 7 -->\n<g id=\"node8\" class=\"node\">\n<title>7</title>\n<path fill=\"#eca471\" stroke=\"black\" d=\"M451.75,-425C451.75,-425 303.75,-425 303.75,-425 297.75,-425 291.75,-419 291.75,-413 291.75,-413 291.75,-354 291.75,-354 291.75,-348 297.75,-342 303.75,-342 303.75,-342 451.75,-342 451.75,-342 457.75,-342 463.75,-348 463.75,-354 463.75,-354 463.75,-413 463.75,-413 463.75,-419 457.75,-425 451.75,-425\"/>\n<text text-anchor=\"start\" x=\"299.75\" y=\"-407.7\" font-family=\"Helvetica,sans-Serif\" font-size=\"14.00\">spent_last_month ≤ 101.0</text>\n<text text-anchor=\"start\" x=\"330.5\" y=\"-392.7\" font-family=\"Helvetica,sans-Serif\" font-size=\"14.00\">entropy = 0.759</text>\n<text text-anchor=\"start\" x=\"333.12\" y=\"-377.7\" font-family=\"Helvetica,sans-Serif\" font-size=\"14.00\">samples = 155</text>\n<text text-anchor=\"start\" x=\"327.5\" y=\"-362.7\" font-family=\"Helvetica,sans-Serif\" font-size=\"14.00\">value = [121, 34]</text>\n<text text-anchor=\"start\" x=\"344\" y=\"-347.7\" font-family=\"Helvetica,sans-Serif\" font-size=\"14.00\">class = NO</text>\n</g>\n<!-- 1&#45;&gt;7 -->\n<g id=\"edge7\" class=\"edge\">\n<title>1&#45;&gt;7</title>\n<path fill=\"none\" stroke=\"black\" d=\"M302.32,-460.58C311.11,-451.71 320.5,-442.25 329.55,-433.12\"/>\n<polygon fill=\"black\" stroke=\"black\" points=\"331.78,-435.84 336.33,-426.28 326.81,-430.91 331.78,-435.84\"/>\n</g>\n<!-- 3 -->\n<g id=\"node4\" class=\"node\">\n<title>3</title>\n<path fill=\"#e58139\" stroke=\"black\" d=\"M83.5,-298.5C83.5,-298.5 12,-298.5 12,-298.5 6,-298.5 0,-292.5 0,-286.5 0,-286.5 0,-242.5 0,-242.5 0,-236.5 6,-230.5 12,-230.5 12,-230.5 83.5,-230.5 83.5,-230.5 89.5,-230.5 95.5,-236.5 95.5,-242.5 95.5,-242.5 95.5,-286.5 95.5,-286.5 95.5,-292.5 89.5,-298.5 83.5,-298.5\"/>\n<text text-anchor=\"start\" x=\"8\" y=\"-281.2\" font-family=\"Helvetica,sans-Serif\" font-size=\"14.00\">entropy = 0.0</text>\n<text text-anchor=\"start\" x=\"10.62\" y=\"-266.2\" font-family=\"Helvetica,sans-Serif\" font-size=\"14.00\">samples = 8</text>\n<text text-anchor=\"start\" x=\"8.75\" y=\"-251.2\" font-family=\"Helvetica,sans-Serif\" font-size=\"14.00\">value = [8, 0]</text>\n<text text-anchor=\"start\" x=\"14\" y=\"-236.2\" font-family=\"Helvetica,sans-Serif\" font-size=\"14.00\">class = NO</text>\n</g>\n<!-- 2&#45;&gt;3 -->\n<g id=\"edge3\" class=\"edge\">\n<title>2&#45;&gt;3</title>\n<path fill=\"none\" stroke=\"black\" d=\"M126.43,-341.58C114.69,-330.23 101.95,-317.9 90.2,-306.55\"/>\n<polygon fill=\"black\" stroke=\"black\" points=\"92.96,-304.35 83.34,-299.91 88.1,-309.38 92.96,-304.35\"/>\n</g>\n<!-- 4 -->\n<g id=\"node5\" class=\"node\">\n<title>4</title>\n<path fill=\"#3c9ee5\" stroke=\"black\" d=\"M212,-306C212,-306 125.5,-306 125.5,-306 119.5,-306 113.5,-300 113.5,-294 113.5,-294 113.5,-235 113.5,-235 113.5,-229 119.5,-223 125.5,-223 125.5,-223 212,-223 212,-223 218,-223 224,-229 224,-235 224,-235 224,-294 224,-294 224,-300 218,-306 212,-306\"/>\n<text text-anchor=\"start\" x=\"136.12\" y=\"-288.7\" font-family=\"Helvetica,sans-Serif\" font-size=\"14.00\">Age ≤ 59.0</text>\n<text text-anchor=\"start\" x=\"121.5\" y=\"-273.7\" font-family=\"Helvetica,sans-Serif\" font-size=\"14.00\">entropy = 0.107</text>\n<text text-anchor=\"start\" x=\"127.88\" y=\"-258.7\" font-family=\"Helvetica,sans-Serif\" font-size=\"14.00\">samples = 71</text>\n<text text-anchor=\"start\" x=\"126\" y=\"-243.7\" font-family=\"Helvetica,sans-Serif\" font-size=\"14.00\">value = [1, 70]</text>\n<text text-anchor=\"start\" x=\"132\" y=\"-228.7\" font-family=\"Helvetica,sans-Serif\" font-size=\"14.00\">class = YES</text>\n</g>\n<!-- 2&#45;&gt;4 -->\n<g id=\"edge4\" class=\"edge\">\n<title>2&#45;&gt;4</title>\n<path fill=\"none\" stroke=\"black\" d=\"M168.75,-341.58C168.75,-333.79 168.75,-325.53 168.75,-317.45\"/>\n<polygon fill=\"black\" stroke=\"black\" points=\"172.25,-317.71 168.75,-307.71 165.25,-317.71 172.25,-317.71\"/>\n</g>\n<!-- 5 -->\n<g id=\"node6\" class=\"node\">\n<title>5</title>\n<path fill=\"#399de5\" stroke=\"black\" d=\"M90.5,-179.5C90.5,-179.5 13,-179.5 13,-179.5 7,-179.5 1,-173.5 1,-167.5 1,-167.5 1,-123.5 1,-123.5 1,-117.5 7,-111.5 13,-111.5 13,-111.5 90.5,-111.5 90.5,-111.5 96.5,-111.5 102.5,-117.5 102.5,-123.5 102.5,-123.5 102.5,-167.5 102.5,-167.5 102.5,-173.5 96.5,-179.5 90.5,-179.5\"/>\n<text text-anchor=\"start\" x=\"12\" y=\"-162.2\" font-family=\"Helvetica,sans-Serif\" font-size=\"14.00\">entropy = 0.0</text>\n<text text-anchor=\"start\" x=\"10.88\" y=\"-147.2\" font-family=\"Helvetica,sans-Serif\" font-size=\"14.00\">samples = 70</text>\n<text text-anchor=\"start\" x=\"9\" y=\"-132.2\" font-family=\"Helvetica,sans-Serif\" font-size=\"14.00\">value = [0, 70]</text>\n<text text-anchor=\"start\" x=\"15\" y=\"-117.2\" font-family=\"Helvetica,sans-Serif\" font-size=\"14.00\">class = YES</text>\n</g>\n<!-- 4&#45;&gt;5 -->\n<g id=\"edge5\" class=\"edge\">\n<title>4&#45;&gt;5</title>\n<path fill=\"none\" stroke=\"black\" d=\"M127.83,-222.58C116.59,-211.34 104.39,-199.14 93.12,-187.87\"/>\n<polygon fill=\"black\" stroke=\"black\" points=\"95.73,-185.53 86.18,-180.93 90.78,-190.48 95.73,-185.53\"/>\n</g>\n<!-- 6 -->\n<g id=\"node7\" class=\"node\">\n<title>6</title>\n<path fill=\"#e58139\" stroke=\"black\" d=\"M204.5,-179.5C204.5,-179.5 133,-179.5 133,-179.5 127,-179.5 121,-173.5 121,-167.5 121,-167.5 121,-123.5 121,-123.5 121,-117.5 127,-111.5 133,-111.5 133,-111.5 204.5,-111.5 204.5,-111.5 210.5,-111.5 216.5,-117.5 216.5,-123.5 216.5,-123.5 216.5,-167.5 216.5,-167.5 216.5,-173.5 210.5,-179.5 204.5,-179.5\"/>\n<text text-anchor=\"start\" x=\"129\" y=\"-162.2\" font-family=\"Helvetica,sans-Serif\" font-size=\"14.00\">entropy = 0.0</text>\n<text text-anchor=\"start\" x=\"131.62\" y=\"-147.2\" font-family=\"Helvetica,sans-Serif\" font-size=\"14.00\">samples = 1</text>\n<text text-anchor=\"start\" x=\"129.75\" y=\"-132.2\" font-family=\"Helvetica,sans-Serif\" font-size=\"14.00\">value = [1, 0]</text>\n<text text-anchor=\"start\" x=\"135\" y=\"-117.2\" font-family=\"Helvetica,sans-Serif\" font-size=\"14.00\">class = NO</text>\n</g>\n<!-- 4&#45;&gt;6 -->\n<g id=\"edge6\" class=\"edge\">\n<title>4&#45;&gt;6</title>\n<path fill=\"none\" stroke=\"black\" d=\"M168.75,-222.58C168.75,-212.43 168.75,-201.5 168.75,-191.18\"/>\n<polygon fill=\"black\" stroke=\"black\" points=\"172.25,-191.37 168.75,-181.37 165.25,-191.37 172.25,-191.37\"/>\n</g>\n<!-- 8 -->\n<g id=\"node9\" class=\"node\">\n<title>8</title>\n<path fill=\"#e6853f\" stroke=\"black\" d=\"M421,-306C421,-306 334.5,-306 334.5,-306 328.5,-306 322.5,-300 322.5,-294 322.5,-294 322.5,-235 322.5,-235 322.5,-229 328.5,-223 334.5,-223 334.5,-223 421,-223 421,-223 427,-223 433,-229 433,-235 433,-235 433,-294 433,-294 433,-300 427,-306 421,-306\"/>\n<text text-anchor=\"start\" x=\"334.62\" y=\"-288.7\" font-family=\"Helvetica,sans-Serif\" font-size=\"14.00\">Distance ≤ 4.0</text>\n<text text-anchor=\"start\" x=\"330.5\" y=\"-273.7\" font-family=\"Helvetica,sans-Serif\" font-size=\"14.00\">entropy = 0.191</text>\n<text text-anchor=\"start\" x=\"333.12\" y=\"-258.7\" font-family=\"Helvetica,sans-Serif\" font-size=\"14.00\">samples = 102</text>\n<text text-anchor=\"start\" x=\"335\" y=\"-243.7\" font-family=\"Helvetica,sans-Serif\" font-size=\"14.00\">value = [99, 3]</text>\n<text text-anchor=\"start\" x=\"344\" y=\"-228.7\" font-family=\"Helvetica,sans-Serif\" font-size=\"14.00\">class = NO</text>\n</g>\n<!-- 7&#45;&gt;8 -->\n<g id=\"edge8\" class=\"edge\">\n<title>7&#45;&gt;8</title>\n<path fill=\"none\" stroke=\"black\" d=\"M377.75,-341.58C377.75,-333.79 377.75,-325.53 377.75,-317.45\"/>\n<polygon fill=\"black\" stroke=\"black\" points=\"381.25,-317.71 377.75,-307.71 374.25,-317.71 381.25,-317.71\"/>\n</g>\n<!-- 13 -->\n<g id=\"node14\" class=\"node\">\n<title>13</title>\n<path fill=\"#c6e3f7\" stroke=\"black\" d=\"M580.38,-306C580.38,-306 487.12,-306 487.12,-306 481.12,-306 475.12,-300 475.12,-294 475.12,-294 475.12,-235 475.12,-235 475.12,-229 481.12,-223 487.12,-223 487.12,-223 580.38,-223 580.38,-223 586.38,-223 592.38,-229 592.38,-235 592.38,-235 592.38,-294 592.38,-294 592.38,-300 586.38,-306 580.38,-306\"/>\n<text text-anchor=\"start\" x=\"483.12\" y=\"-288.7\" font-family=\"Helvetica,sans-Serif\" font-size=\"14.00\">Distance ≤ 7.887</text>\n<text text-anchor=\"start\" x=\"486.5\" y=\"-273.7\" font-family=\"Helvetica,sans-Serif\" font-size=\"14.00\">entropy = 0.979</text>\n<text text-anchor=\"start\" x=\"492.88\" y=\"-258.7\" font-family=\"Helvetica,sans-Serif\" font-size=\"14.00\">samples = 53</text>\n<text text-anchor=\"start\" x=\"487.25\" y=\"-243.7\" font-family=\"Helvetica,sans-Serif\" font-size=\"14.00\">value = [22, 31]</text>\n<text text-anchor=\"start\" x=\"497\" y=\"-228.7\" font-family=\"Helvetica,sans-Serif\" font-size=\"14.00\">class = YES</text>\n</g>\n<!-- 7&#45;&gt;13 -->\n<g id=\"edge13\" class=\"edge\">\n<title>7&#45;&gt;13</title>\n<path fill=\"none\" stroke=\"black\" d=\"M432.31,-341.58C444.54,-332.41 457.62,-322.6 470.18,-313.17\"/>\n<polygon fill=\"black\" stroke=\"black\" points=\"472.11,-316.11 478.01,-307.31 467.91,-310.51 472.11,-316.11\"/>\n</g>\n<!-- 9 -->\n<g id=\"node10\" class=\"node\">\n<title>9</title>\n<path fill=\"#f8e0ce\" stroke=\"black\" d=\"M333,-187C333,-187 246.5,-187 246.5,-187 240.5,-187 234.5,-181 234.5,-175 234.5,-175 234.5,-116 234.5,-116 234.5,-110 240.5,-104 246.5,-104 246.5,-104 333,-104 333,-104 339,-104 345,-110 345,-116 345,-116 345,-175 345,-175 345,-181 339,-187 333,-187\"/>\n<text text-anchor=\"start\" x=\"257.12\" y=\"-169.7\" font-family=\"Helvetica,sans-Serif\" font-size=\"14.00\">Age ≤ 26.5</text>\n<text text-anchor=\"start\" x=\"242.5\" y=\"-154.7\" font-family=\"Helvetica,sans-Serif\" font-size=\"14.00\">entropy = 0.985</text>\n<text text-anchor=\"start\" x=\"252.62\" y=\"-139.7\" font-family=\"Helvetica,sans-Serif\" font-size=\"14.00\">samples = 7</text>\n<text text-anchor=\"start\" x=\"250.75\" y=\"-124.7\" font-family=\"Helvetica,sans-Serif\" font-size=\"14.00\">value = [4, 3]</text>\n<text text-anchor=\"start\" x=\"256\" y=\"-109.7\" font-family=\"Helvetica,sans-Serif\" font-size=\"14.00\">class = NO</text>\n</g>\n<!-- 8&#45;&gt;9 -->\n<g id=\"edge9\" class=\"edge\">\n<title>8&#45;&gt;9</title>\n<path fill=\"none\" stroke=\"black\" d=\"M346.97,-222.58C340.57,-214.07 333.76,-205.01 327.15,-196.23\"/>\n<polygon fill=\"black\" stroke=\"black\" points=\"330.08,-194.3 321.27,-188.41 324.49,-198.51 330.08,-194.3\"/>\n</g>\n<!-- 12 -->\n<g id=\"node13\" class=\"node\">\n<title>12</title>\n<path fill=\"#e58139\" stroke=\"black\" d=\"M452.5,-179.5C452.5,-179.5 375,-179.5 375,-179.5 369,-179.5 363,-173.5 363,-167.5 363,-167.5 363,-123.5 363,-123.5 363,-117.5 369,-111.5 375,-111.5 375,-111.5 452.5,-111.5 452.5,-111.5 458.5,-111.5 464.5,-117.5 464.5,-123.5 464.5,-123.5 464.5,-167.5 464.5,-167.5 464.5,-173.5 458.5,-179.5 452.5,-179.5\"/>\n<text text-anchor=\"start\" x=\"374\" y=\"-162.2\" font-family=\"Helvetica,sans-Serif\" font-size=\"14.00\">entropy = 0.0</text>\n<text text-anchor=\"start\" x=\"372.88\" y=\"-147.2\" font-family=\"Helvetica,sans-Serif\" font-size=\"14.00\">samples = 95</text>\n<text text-anchor=\"start\" x=\"371\" y=\"-132.2\" font-family=\"Helvetica,sans-Serif\" font-size=\"14.00\">value = [95, 0]</text>\n<text text-anchor=\"start\" x=\"380\" y=\"-117.2\" font-family=\"Helvetica,sans-Serif\" font-size=\"14.00\">class = NO</text>\n</g>\n<!-- 8&#45;&gt;12 -->\n<g id=\"edge12\" class=\"edge\">\n<title>8&#45;&gt;12</title>\n<path fill=\"none\" stroke=\"black\" d=\"M390.34,-222.58C393.5,-212.32 396.9,-201.27 400.1,-190.85\"/>\n<polygon fill=\"black\" stroke=\"black\" points=\"403.44,-191.89 403.04,-181.31 396.75,-189.84 403.44,-191.89\"/>\n</g>\n<!-- 10 -->\n<g id=\"node11\" class=\"node\">\n<title>10</title>\n<path fill=\"#399de5\" stroke=\"black\" d=\"M268.5,-68C268.5,-68 197,-68 197,-68 191,-68 185,-62 185,-56 185,-56 185,-12 185,-12 185,-6 191,0 197,0 197,0 268.5,0 268.5,0 274.5,0 280.5,-6 280.5,-12 280.5,-12 280.5,-56 280.5,-56 280.5,-62 274.5,-68 268.5,-68\"/>\n<text text-anchor=\"start\" x=\"193\" y=\"-50.7\" font-family=\"Helvetica,sans-Serif\" font-size=\"14.00\">entropy = 0.0</text>\n<text text-anchor=\"start\" x=\"195.62\" y=\"-35.7\" font-family=\"Helvetica,sans-Serif\" font-size=\"14.00\">samples = 3</text>\n<text text-anchor=\"start\" x=\"193.75\" y=\"-20.7\" font-family=\"Helvetica,sans-Serif\" font-size=\"14.00\">value = [0, 3]</text>\n<text text-anchor=\"start\" x=\"196\" y=\"-5.7\" font-family=\"Helvetica,sans-Serif\" font-size=\"14.00\">class = YES</text>\n</g>\n<!-- 9&#45;&gt;10 -->\n<g id=\"edge10\" class=\"edge\">\n<title>9&#45;&gt;10</title>\n<path fill=\"none\" stroke=\"black\" d=\"M268.53,-103.73C264.2,-95.43 259.65,-86.67 255.28,-78.28\"/>\n<polygon fill=\"black\" stroke=\"black\" points=\"258.5,-76.9 250.78,-69.64 252.3,-80.13 258.5,-76.9\"/>\n</g>\n<!-- 11 -->\n<g id=\"node12\" class=\"node\">\n<title>11</title>\n<path fill=\"#e58139\" stroke=\"black\" d=\"M382.5,-68C382.5,-68 311,-68 311,-68 305,-68 299,-62 299,-56 299,-56 299,-12 299,-12 299,-6 305,0 311,0 311,0 382.5,0 382.5,0 388.5,0 394.5,-6 394.5,-12 394.5,-12 394.5,-56 394.5,-56 394.5,-62 388.5,-68 382.5,-68\"/>\n<text text-anchor=\"start\" x=\"307\" y=\"-50.7\" font-family=\"Helvetica,sans-Serif\" font-size=\"14.00\">entropy = 0.0</text>\n<text text-anchor=\"start\" x=\"309.62\" y=\"-35.7\" font-family=\"Helvetica,sans-Serif\" font-size=\"14.00\">samples = 4</text>\n<text text-anchor=\"start\" x=\"307.75\" y=\"-20.7\" font-family=\"Helvetica,sans-Serif\" font-size=\"14.00\">value = [4, 0]</text>\n<text text-anchor=\"start\" x=\"313\" y=\"-5.7\" font-family=\"Helvetica,sans-Serif\" font-size=\"14.00\">class = NO</text>\n</g>\n<!-- 9&#45;&gt;11 -->\n<g id=\"edge11\" class=\"edge\">\n<title>9&#45;&gt;11</title>\n<path fill=\"none\" stroke=\"black\" d=\"M310.97,-103.73C315.3,-95.43 319.85,-86.67 324.22,-78.28\"/>\n<polygon fill=\"black\" stroke=\"black\" points=\"327.2,-80.13 328.72,-69.64 321,-76.9 327.2,-80.13\"/>\n</g>\n<!-- 14 -->\n<g id=\"node15\" class=\"node\">\n<title>14</title>\n<path fill=\"#399de5\" stroke=\"black\" d=\"M572.5,-179.5C572.5,-179.5 495,-179.5 495,-179.5 489,-179.5 483,-173.5 483,-167.5 483,-167.5 483,-123.5 483,-123.5 483,-117.5 489,-111.5 495,-111.5 495,-111.5 572.5,-111.5 572.5,-111.5 578.5,-111.5 584.5,-117.5 584.5,-123.5 584.5,-123.5 584.5,-167.5 584.5,-167.5 584.5,-173.5 578.5,-179.5 572.5,-179.5\"/>\n<text text-anchor=\"start\" x=\"494\" y=\"-162.2\" font-family=\"Helvetica,sans-Serif\" font-size=\"14.00\">entropy = 0.0</text>\n<text text-anchor=\"start\" x=\"492.88\" y=\"-147.2\" font-family=\"Helvetica,sans-Serif\" font-size=\"14.00\">samples = 31</text>\n<text text-anchor=\"start\" x=\"491\" y=\"-132.2\" font-family=\"Helvetica,sans-Serif\" font-size=\"14.00\">value = [0, 31]</text>\n<text text-anchor=\"start\" x=\"497\" y=\"-117.2\" font-family=\"Helvetica,sans-Serif\" font-size=\"14.00\">class = YES</text>\n</g>\n<!-- 13&#45;&gt;14 -->\n<g id=\"edge14\" class=\"edge\">\n<title>13&#45;&gt;14</title>\n<path fill=\"none\" stroke=\"black\" d=\"M533.75,-222.58C533.75,-212.43 533.75,-201.5 533.75,-191.18\"/>\n<polygon fill=\"black\" stroke=\"black\" points=\"537.25,-191.37 533.75,-181.37 530.25,-191.37 537.25,-191.37\"/>\n</g>\n<!-- 15 -->\n<g id=\"node16\" class=\"node\">\n<title>15</title>\n<path fill=\"#e58139\" stroke=\"black\" d=\"M692.5,-179.5C692.5,-179.5 615,-179.5 615,-179.5 609,-179.5 603,-173.5 603,-167.5 603,-167.5 603,-123.5 603,-123.5 603,-117.5 609,-111.5 615,-111.5 615,-111.5 692.5,-111.5 692.5,-111.5 698.5,-111.5 704.5,-117.5 704.5,-123.5 704.5,-123.5 704.5,-167.5 704.5,-167.5 704.5,-173.5 698.5,-179.5 692.5,-179.5\"/>\n<text text-anchor=\"start\" x=\"614\" y=\"-162.2\" font-family=\"Helvetica,sans-Serif\" font-size=\"14.00\">entropy = 0.0</text>\n<text text-anchor=\"start\" x=\"612.88\" y=\"-147.2\" font-family=\"Helvetica,sans-Serif\" font-size=\"14.00\">samples = 22</text>\n<text text-anchor=\"start\" x=\"611\" y=\"-132.2\" font-family=\"Helvetica,sans-Serif\" font-size=\"14.00\">value = [22, 0]</text>\n<text text-anchor=\"start\" x=\"620\" y=\"-117.2\" font-family=\"Helvetica,sans-Serif\" font-size=\"14.00\">class = NO</text>\n</g>\n<!-- 13&#45;&gt;15 -->\n<g id=\"edge15\" class=\"edge\">\n<title>13&#45;&gt;15</title>\n<path fill=\"none\" stroke=\"black\" d=\"M575.72,-222.58C587.25,-211.34 599.76,-199.14 611.32,-187.87\"/>\n<polygon fill=\"black\" stroke=\"black\" points=\"613.73,-190.4 618.45,-180.92 608.85,-185.39 613.73,-190.4\"/>\n</g>\n</g>\n</svg>\n",
      "text/plain": "<graphviz.sources.Source at 0x7f9cb9832a10>"
     },
     "execution_count": 34,
     "metadata": {},
     "output_type": "execute_result"
    }
   ],
   "source": [
    "# Now we want to visualize the tree\n",
    "# We can do so with export_graphviz\n",
    "# Alternatively for class_names use entr_model.classes_\n",
    "dot_data = tree.export_graphviz(entr_model, out_file=None,\n",
    "                                feature_names=entr_model.feature_names_in_,\n",
    "                                class_names=entr_model.classes_,\n",
    "                                filled=True, rounded=True,\n",
    "                                special_characters=True)\n",
    "graph = graphviz.Source(dot_data)\n",
    "graph"
   ]
  },
  {
   "cell_type": "markdown",
   "metadata": {
    "colab_type": "text",
    "id": "dFbii4IADuWg"
   },
   "source": [
    "## Model 1: Entropy model - no max_depth: Interpretation and evaluation"
   ]
  },
  {
   "cell_type": "code",
   "execution_count": 35,
   "metadata": {
    "colab": {},
    "colab_type": "code",
    "id": "XRL0klK4DuWh",
    "ExecuteTime": {
     "end_time": "2024-02-06T03:22:05.155357Z",
     "start_time": "2024-02-06T03:22:05.142941Z"
    }
   },
   "outputs": [
    {
     "name": "stdout",
     "output_type": "stream",
     "text": [
      "Model Entropy - no max depth\n",
      "Accuracy: 0.9915966386554622\n",
      "Balanced accuracy: 0.9878048780487805\n",
      "Precision score for \"Yes\" 0.9873417721518988\n",
      "Precision score for \"No\" 1.0\n",
      "Recall score for \"Yes\" 1.0\n",
      "Recall score for \"No\" 0.975609756097561\n"
     ]
    }
   ],
   "source": [
    "# Run this block for model evaluation metrics \n",
    "print(\"Model Entropy - no max depth\")\n",
    "print(\"Accuracy:\", metrics.accuracy_score(y_test,y_pred))\n",
    "print(\"Balanced accuracy:\", metrics.balanced_accuracy_score(y_test,y_pred))\n",
    "print('Precision score for \"Yes\"' , metrics.precision_score(y_test,y_pred, pos_label = \"YES\"))\n",
    "print('Precision score for \"No\"' , metrics.precision_score(y_test,y_pred, pos_label = \"NO\"))\n",
    "print('Recall score for \"Yes\"' , metrics.recall_score(y_test,y_pred, pos_label = \"YES\"))\n",
    "print('Recall score for \"No\"' , metrics.recall_score(y_test,y_pred, pos_label = \"NO\"))"
   ]
  },
  {
   "cell_type": "markdown",
   "metadata": {
    "colab_type": "text",
    "id": "icGOPFQ_DuWj"
   },
   "source": [
    "What can you infer from these results? Write your conclusions here:"
   ]
  },
  {
   "cell_type": "markdown",
   "source": [
    "The precision and recall scores are good. The tree has 17 nodes and the 3 main features are age, distance, spent_last_month"
   ],
   "metadata": {
    "collapsed": false
   }
  },
  {
   "cell_type": "markdown",
   "metadata": {
    "colab_type": "text",
    "id": "MHipdpfxDuWk"
   },
   "source": [
    "## Model 2: Gini impurity model - no max_depth\n",
    "\n",
    "Gini impurity, like entropy, is a measure of how well a given feature (and threshold) splits the data into categories.\n",
    "\n",
    "Their equations are similar, but Gini impurity doesn't require logorathmic functions, which can be computationally expensive. "
   ]
  },
  {
   "cell_type": "code",
   "execution_count": 36,
   "metadata": {
    "colab": {},
    "colab_type": "code",
    "id": "FyBljeIpDuWl",
    "ExecuteTime": {
     "end_time": "2024-02-06T03:31:29.811860Z",
     "start_time": "2024-02-06T03:31:29.798799Z"
    }
   },
   "outputs": [
    {
     "data": {
      "text/plain": "DecisionTreeClassifier()",
      "text/html": "<style>#sk-container-id-2 {color: black;background-color: white;}#sk-container-id-2 pre{padding: 0;}#sk-container-id-2 div.sk-toggleable {background-color: white;}#sk-container-id-2 label.sk-toggleable__label {cursor: pointer;display: block;width: 100%;margin-bottom: 0;padding: 0.3em;box-sizing: border-box;text-align: center;}#sk-container-id-2 label.sk-toggleable__label-arrow:before {content: \"▸\";float: left;margin-right: 0.25em;color: #696969;}#sk-container-id-2 label.sk-toggleable__label-arrow:hover:before {color: black;}#sk-container-id-2 div.sk-estimator:hover label.sk-toggleable__label-arrow:before {color: black;}#sk-container-id-2 div.sk-toggleable__content {max-height: 0;max-width: 0;overflow: hidden;text-align: left;background-color: #f0f8ff;}#sk-container-id-2 div.sk-toggleable__content pre {margin: 0.2em;color: black;border-radius: 0.25em;background-color: #f0f8ff;}#sk-container-id-2 input.sk-toggleable__control:checked~div.sk-toggleable__content {max-height: 200px;max-width: 100%;overflow: auto;}#sk-container-id-2 input.sk-toggleable__control:checked~label.sk-toggleable__label-arrow:before {content: \"▾\";}#sk-container-id-2 div.sk-estimator input.sk-toggleable__control:checked~label.sk-toggleable__label {background-color: #d4ebff;}#sk-container-id-2 div.sk-label input.sk-toggleable__control:checked~label.sk-toggleable__label {background-color: #d4ebff;}#sk-container-id-2 input.sk-hidden--visually {border: 0;clip: rect(1px 1px 1px 1px);clip: rect(1px, 1px, 1px, 1px);height: 1px;margin: -1px;overflow: hidden;padding: 0;position: absolute;width: 1px;}#sk-container-id-2 div.sk-estimator {font-family: monospace;background-color: #f0f8ff;border: 1px dotted black;border-radius: 0.25em;box-sizing: border-box;margin-bottom: 0.5em;}#sk-container-id-2 div.sk-estimator:hover {background-color: #d4ebff;}#sk-container-id-2 div.sk-parallel-item::after {content: \"\";width: 100%;border-bottom: 1px solid gray;flex-grow: 1;}#sk-container-id-2 div.sk-label:hover label.sk-toggleable__label {background-color: #d4ebff;}#sk-container-id-2 div.sk-serial::before {content: \"\";position: absolute;border-left: 1px solid gray;box-sizing: border-box;top: 0;bottom: 0;left: 50%;z-index: 0;}#sk-container-id-2 div.sk-serial {display: flex;flex-direction: column;align-items: center;background-color: white;padding-right: 0.2em;padding-left: 0.2em;position: relative;}#sk-container-id-2 div.sk-item {position: relative;z-index: 1;}#sk-container-id-2 div.sk-parallel {display: flex;align-items: stretch;justify-content: center;background-color: white;position: relative;}#sk-container-id-2 div.sk-item::before, #sk-container-id-2 div.sk-parallel-item::before {content: \"\";position: absolute;border-left: 1px solid gray;box-sizing: border-box;top: 0;bottom: 0;left: 50%;z-index: -1;}#sk-container-id-2 div.sk-parallel-item {display: flex;flex-direction: column;z-index: 1;position: relative;background-color: white;}#sk-container-id-2 div.sk-parallel-item:first-child::after {align-self: flex-end;width: 50%;}#sk-container-id-2 div.sk-parallel-item:last-child::after {align-self: flex-start;width: 50%;}#sk-container-id-2 div.sk-parallel-item:only-child::after {width: 0;}#sk-container-id-2 div.sk-dashed-wrapped {border: 1px dashed gray;margin: 0 0.4em 0.5em 0.4em;box-sizing: border-box;padding-bottom: 0.4em;background-color: white;}#sk-container-id-2 div.sk-label label {font-family: monospace;font-weight: bold;display: inline-block;line-height: 1.2em;}#sk-container-id-2 div.sk-label-container {text-align: center;}#sk-container-id-2 div.sk-container {/* jupyter's `normalize.less` sets `[hidden] { display: none; }` but bootstrap.min.css set `[hidden] { display: none !important; }` so we also need the `!important` here to be able to override the default hidden behavior on the sphinx rendered scikit-learn.org. See: https://github.com/scikit-learn/scikit-learn/issues/21755 */display: inline-block !important;position: relative;}#sk-container-id-2 div.sk-text-repr-fallback {display: none;}</style><div id=\"sk-container-id-2\" class=\"sk-top-container\"><div class=\"sk-text-repr-fallback\"><pre>DecisionTreeClassifier()</pre><b>In a Jupyter environment, please rerun this cell to show the HTML representation or trust the notebook. <br />On GitHub, the HTML representation is unable to render, please try loading this page with nbviewer.org.</b></div><div class=\"sk-container\" hidden><div class=\"sk-item\"><div class=\"sk-estimator sk-toggleable\"><input class=\"sk-toggleable__control sk-hidden--visually\" id=\"sk-estimator-id-2\" type=\"checkbox\" checked><label for=\"sk-estimator-id-2\" class=\"sk-toggleable__label sk-toggleable__label-arrow\">DecisionTreeClassifier</label><div class=\"sk-toggleable__content\"><pre>DecisionTreeClassifier()</pre></div></div></div></div></div>"
     },
     "execution_count": 36,
     "metadata": {},
     "output_type": "execute_result"
    }
   ],
   "source": [
    "# Make a variable called gini_model, and assign it exactly what you assigned entr_model with above, but with the\n",
    "# criterion changed to 'gini'\n",
    "gini_model= tree.DecisionTreeClassifier(criterion='gini')\n",
    "\n",
    "# Call fit() on the gini_model as you did with the entr_model\n",
    "gini_model.fit(X_train, y_train)\n",
    "\n",
    "# Call predict() on the gini_model as you did with the entr_model \n",
    "y_pred= gini_model.predict(X_test)\n",
    "\n",
    "# Turn y_pred into a series, as before\n",
    "y_pred = pd.Series(y_pred)\n",
    "\n",
    "# Check out gini_model\n",
    "gini_model"
   ]
  },
  {
   "cell_type": "code",
   "execution_count": 37,
   "metadata": {
    "colab": {},
    "colab_type": "code",
    "id": "d20SMUmgDuWo",
    "ExecuteTime": {
     "end_time": "2024-02-06T03:31:30.683854Z",
     "start_time": "2024-02-06T03:31:30.539021Z"
    }
   },
   "outputs": [
    {
     "data": {
      "image/svg+xml": "<?xml version=\"1.0\" encoding=\"UTF-8\" standalone=\"no\"?>\n<!DOCTYPE svg PUBLIC \"-//W3C//DTD SVG 1.1//EN\"\n \"http://www.w3.org/Graphics/SVG/1.1/DTD/svg11.dtd\">\n<!-- Generated by graphviz version 9.0.0 (20230911.1827)\n -->\n<!-- Title: Tree Pages: 1 -->\n<svg width=\"815pt\" height=\"790pt\"\n viewBox=\"0.00 0.00 814.50 790.00\" xmlns=\"http://www.w3.org/2000/svg\" xmlns:xlink=\"http://www.w3.org/1999/xlink\">\n<g id=\"graph0\" class=\"graph\" transform=\"scale(1 1) rotate(0) translate(4 786)\">\n<title>Tree</title>\n<polygon fill=\"white\" stroke=\"none\" points=\"-4,4 -4,-786 810.5,-786 810.5,4 -4,4\"/>\n<!-- 0 -->\n<g id=\"node1\" class=\"node\">\n<title>0</title>\n<path fill=\"#abd6f4\" stroke=\"black\" d=\"M508.75,-782C508.75,-782 360.75,-782 360.75,-782 354.75,-782 348.75,-776 348.75,-770 348.75,-770 348.75,-711 348.75,-711 348.75,-705 354.75,-699 360.75,-699 360.75,-699 508.75,-699 508.75,-699 514.75,-699 520.75,-705 520.75,-711 520.75,-711 520.75,-770 520.75,-770 520.75,-776 514.75,-782 508.75,-782\"/>\n<text text-anchor=\"start\" x=\"356.75\" y=\"-764.7\" font-family=\"Helvetica,sans-Serif\" font-size=\"14.00\">spent_last_month ≤ 100.5</text>\n<text text-anchor=\"start\" x=\"399.5\" y=\"-749.7\" font-family=\"Helvetica,sans-Serif\" font-size=\"14.00\">gini = 0.464</text>\n<text text-anchor=\"start\" x=\"390.12\" y=\"-734.7\" font-family=\"Helvetica,sans-Serif\" font-size=\"14.00\">samples = 355</text>\n<text text-anchor=\"start\" x=\"380.75\" y=\"-719.7\" font-family=\"Helvetica,sans-Serif\" font-size=\"14.00\">value = [130, 225]</text>\n<text text-anchor=\"start\" x=\"398\" y=\"-704.7\" font-family=\"Helvetica,sans-Serif\" font-size=\"14.00\">class = YES</text>\n</g>\n<!-- 1 -->\n<g id=\"node2\" class=\"node\">\n<title>1</title>\n<path fill=\"#f0b48a\" stroke=\"black\" d=\"M414.38,-663C414.38,-663 321.12,-663 321.12,-663 315.12,-663 309.12,-657 309.12,-651 309.12,-651 309.12,-592 309.12,-592 309.12,-586 315.12,-580 321.12,-580 321.12,-580 414.38,-580 414.38,-580 420.38,-580 426.38,-586 426.38,-592 426.38,-592 426.38,-651 426.38,-651 426.38,-657 420.38,-663 414.38,-663\"/>\n<text text-anchor=\"start\" x=\"317.12\" y=\"-645.7\" font-family=\"Helvetica,sans-Serif\" font-size=\"14.00\">Distance ≤ 3.754</text>\n<text text-anchor=\"start\" x=\"332.5\" y=\"-630.7\" font-family=\"Helvetica,sans-Serif\" font-size=\"14.00\">gini = 0.411</text>\n<text text-anchor=\"start\" x=\"323.12\" y=\"-615.7\" font-family=\"Helvetica,sans-Serif\" font-size=\"14.00\">samples = 152</text>\n<text text-anchor=\"start\" x=\"317.5\" y=\"-600.7\" font-family=\"Helvetica,sans-Serif\" font-size=\"14.00\">value = [108, 44]</text>\n<text text-anchor=\"start\" x=\"334\" y=\"-585.7\" font-family=\"Helvetica,sans-Serif\" font-size=\"14.00\">class = NO</text>\n</g>\n<!-- 0&#45;&gt;1 -->\n<g id=\"edge1\" class=\"edge\">\n<title>0&#45;&gt;1</title>\n<path fill=\"none\" stroke=\"black\" d=\"M411.32,-698.58C406.6,-690.34 401.58,-681.58 396.7,-673.06\"/>\n<polygon fill=\"black\" stroke=\"black\" points=\"399.82,-671.45 391.81,-664.51 393.74,-674.93 399.82,-671.45\"/>\n<text text-anchor=\"middle\" x=\"384.5\" y=\"-681.53\" font-family=\"Helvetica,sans-Serif\" font-size=\"14.00\">True</text>\n</g>\n<!-- 16 -->\n<g id=\"node17\" class=\"node\">\n<title>16</title>\n<path fill=\"#51a9e8\" stroke=\"black\" d=\"M549.38,-663C549.38,-663 456.12,-663 456.12,-663 450.12,-663 444.12,-657 444.12,-651 444.12,-651 444.12,-592 444.12,-592 444.12,-586 450.12,-580 456.12,-580 456.12,-580 549.38,-580 549.38,-580 555.38,-580 561.38,-586 561.38,-592 561.38,-592 561.38,-651 561.38,-651 561.38,-657 555.38,-663 549.38,-663\"/>\n<text text-anchor=\"start\" x=\"452.12\" y=\"-645.7\" font-family=\"Helvetica,sans-Serif\" font-size=\"14.00\">Distance ≤ 8.047</text>\n<text text-anchor=\"start\" x=\"467.5\" y=\"-630.7\" font-family=\"Helvetica,sans-Serif\" font-size=\"14.00\">gini = 0.193</text>\n<text text-anchor=\"start\" x=\"458.12\" y=\"-615.7\" font-family=\"Helvetica,sans-Serif\" font-size=\"14.00\">samples = 203</text>\n<text text-anchor=\"start\" x=\"452.5\" y=\"-600.7\" font-family=\"Helvetica,sans-Serif\" font-size=\"14.00\">value = [22, 181]</text>\n<text text-anchor=\"start\" x=\"466\" y=\"-585.7\" font-family=\"Helvetica,sans-Serif\" font-size=\"14.00\">class = YES</text>\n</g>\n<!-- 0&#45;&gt;16 -->\n<g id=\"edge16\" class=\"edge\">\n<title>0&#45;&gt;16</title>\n<path fill=\"none\" stroke=\"black\" d=\"M458.53,-698.58C463.32,-690.34 468.41,-681.58 473.37,-673.06\"/>\n<polygon fill=\"black\" stroke=\"black\" points=\"476.34,-674.91 478.33,-664.51 470.28,-671.4 476.34,-674.91\"/>\n<text text-anchor=\"middle\" x=\"485.5\" y=\"-681.57\" font-family=\"Helvetica,sans-Serif\" font-size=\"14.00\">False</text>\n</g>\n<!-- 2 -->\n<g id=\"node3\" class=\"node\">\n<title>2</title>\n<path fill=\"#6cb6ec\" stroke=\"black\" d=\"M290,-544C290,-544 149.5,-544 149.5,-544 143.5,-544 137.5,-538 137.5,-532 137.5,-532 137.5,-473 137.5,-473 137.5,-467 143.5,-461 149.5,-461 149.5,-461 290,-461 290,-461 296,-461 302,-467 302,-473 302,-473 302,-532 302,-532 302,-538 296,-544 290,-544\"/>\n<text text-anchor=\"start\" x=\"145.5\" y=\"-526.7\" font-family=\"Helvetica,sans-Serif\" font-size=\"14.00\">spent_last_month ≤ 24.5</text>\n<text text-anchor=\"start\" x=\"184.5\" y=\"-511.7\" font-family=\"Helvetica,sans-Serif\" font-size=\"14.00\">gini = 0.324</text>\n<text text-anchor=\"start\" x=\"178.88\" y=\"-496.7\" font-family=\"Helvetica,sans-Serif\" font-size=\"14.00\">samples = 54</text>\n<text text-anchor=\"start\" x=\"173.25\" y=\"-481.7\" font-family=\"Helvetica,sans-Serif\" font-size=\"14.00\">value = [11, 43]</text>\n<text text-anchor=\"start\" x=\"183\" y=\"-466.7\" font-family=\"Helvetica,sans-Serif\" font-size=\"14.00\">class = YES</text>\n</g>\n<!-- 1&#45;&gt;2 -->\n<g id=\"edge2\" class=\"edge\">\n<title>1&#45;&gt;2</title>\n<path fill=\"none\" stroke=\"black\" d=\"M315.99,-579.58C304.5,-570.49 292.21,-560.79 280.4,-551.45\"/>\n<polygon fill=\"black\" stroke=\"black\" points=\"282.69,-548.79 272.67,-545.34 278.35,-554.28 282.69,-548.79\"/>\n</g>\n<!-- 11 -->\n<g id=\"node12\" class=\"node\">\n<title>11</title>\n<path fill=\"#e5823b\" stroke=\"black\" d=\"M409.88,-544C409.88,-544 331.62,-544 331.62,-544 325.62,-544 319.62,-538 319.62,-532 319.62,-532 319.62,-473 319.62,-473 319.62,-467 325.62,-461 331.62,-461 331.62,-461 409.88,-461 409.88,-461 415.88,-461 421.88,-467 421.88,-473 421.88,-473 421.88,-532 421.88,-532 421.88,-538 415.88,-544 409.88,-544\"/>\n<text text-anchor=\"start\" x=\"327.62\" y=\"-526.7\" font-family=\"Helvetica,sans-Serif\" font-size=\"14.00\">Distance ≤ 4.0</text>\n<text text-anchor=\"start\" x=\"339.25\" y=\"-511.7\" font-family=\"Helvetica,sans-Serif\" font-size=\"14.00\">gini = 0.02</text>\n<text text-anchor=\"start\" x=\"329.88\" y=\"-496.7\" font-family=\"Helvetica,sans-Serif\" font-size=\"14.00\">samples = 98</text>\n<text text-anchor=\"start\" x=\"328\" y=\"-481.7\" font-family=\"Helvetica,sans-Serif\" font-size=\"14.00\">value = [97, 1]</text>\n<text text-anchor=\"start\" x=\"337\" y=\"-466.7\" font-family=\"Helvetica,sans-Serif\" font-size=\"14.00\">class = NO</text>\n</g>\n<!-- 1&#45;&gt;11 -->\n<g id=\"edge11\" class=\"edge\">\n<title>1&#45;&gt;11</title>\n<path fill=\"none\" stroke=\"black\" d=\"M368.8,-579.58C369,-571.79 369.21,-563.53 369.42,-555.45\"/>\n<polygon fill=\"black\" stroke=\"black\" points=\"372.91,-555.8 369.67,-545.71 365.91,-555.62 372.91,-555.8\"/>\n</g>\n<!-- 3 -->\n<g id=\"node4\" class=\"node\">\n<title>3</title>\n<path fill=\"#e58139\" stroke=\"black\" d=\"M148.75,-417.5C148.75,-417.5 78.75,-417.5 78.75,-417.5 72.75,-417.5 66.75,-411.5 66.75,-405.5 66.75,-405.5 66.75,-361.5 66.75,-361.5 66.75,-355.5 72.75,-349.5 78.75,-349.5 78.75,-349.5 148.75,-349.5 148.75,-349.5 154.75,-349.5 160.75,-355.5 160.75,-361.5 160.75,-361.5 160.75,-405.5 160.75,-405.5 160.75,-411.5 154.75,-417.5 148.75,-417.5\"/>\n<text text-anchor=\"start\" x=\"86\" y=\"-400.2\" font-family=\"Helvetica,sans-Serif\" font-size=\"14.00\">gini = 0.0</text>\n<text text-anchor=\"start\" x=\"76.62\" y=\"-385.2\" font-family=\"Helvetica,sans-Serif\" font-size=\"14.00\">samples = 8</text>\n<text text-anchor=\"start\" x=\"74.75\" y=\"-370.2\" font-family=\"Helvetica,sans-Serif\" font-size=\"14.00\">value = [8, 0]</text>\n<text text-anchor=\"start\" x=\"80\" y=\"-355.2\" font-family=\"Helvetica,sans-Serif\" font-size=\"14.00\">class = NO</text>\n</g>\n<!-- 2&#45;&gt;3 -->\n<g id=\"edge3\" class=\"edge\">\n<title>2&#45;&gt;3</title>\n<path fill=\"none\" stroke=\"black\" d=\"M182.68,-460.58C172.59,-449.45 161.66,-437.38 151.53,-426.2\"/>\n<polygon fill=\"black\" stroke=\"black\" points=\"154.3,-424.04 144.99,-418.98 149.11,-428.74 154.3,-424.04\"/>\n</g>\n<!-- 4 -->\n<g id=\"node5\" class=\"node\">\n<title>4</title>\n<path fill=\"#47a4e7\" stroke=\"black\" d=\"M268.5,-425C268.5,-425 191,-425 191,-425 185,-425 179,-419 179,-413 179,-413 179,-354 179,-354 179,-348 185,-342 191,-342 191,-342 268.5,-342 268.5,-342 274.5,-342 280.5,-348 280.5,-354 280.5,-354 280.5,-413 280.5,-413 280.5,-419 274.5,-425 268.5,-425\"/>\n<text text-anchor=\"start\" x=\"197.12\" y=\"-407.7\" font-family=\"Helvetica,sans-Serif\" font-size=\"14.00\">Age ≤ 57.5</text>\n<text text-anchor=\"start\" x=\"194.5\" y=\"-392.7\" font-family=\"Helvetica,sans-Serif\" font-size=\"14.00\">gini = 0.122</text>\n<text text-anchor=\"start\" x=\"188.88\" y=\"-377.7\" font-family=\"Helvetica,sans-Serif\" font-size=\"14.00\">samples = 46</text>\n<text text-anchor=\"start\" x=\"187\" y=\"-362.7\" font-family=\"Helvetica,sans-Serif\" font-size=\"14.00\">value = [3, 43]</text>\n<text text-anchor=\"start\" x=\"193\" y=\"-347.7\" font-family=\"Helvetica,sans-Serif\" font-size=\"14.00\">class = YES</text>\n</g>\n<!-- 2&#45;&gt;4 -->\n<g id=\"edge4\" class=\"edge\">\n<title>2&#45;&gt;4</title>\n<path fill=\"none\" stroke=\"black\" d=\"M223.25,-460.58C223.91,-452.79 224.62,-444.53 225.31,-436.45\"/>\n<polygon fill=\"black\" stroke=\"black\" points=\"228.78,-436.97 226.14,-426.71 221.8,-436.37 228.78,-436.97\"/>\n</g>\n<!-- 5 -->\n<g id=\"node6\" class=\"node\">\n<title>5</title>\n<path fill=\"#3e9fe6\" stroke=\"black\" d=\"M155.38,-306C155.38,-306 62.12,-306 62.12,-306 56.12,-306 50.12,-300 50.12,-294 50.12,-294 50.12,-235 50.12,-235 50.12,-229 56.12,-223 62.12,-223 62.12,-223 155.38,-223 155.38,-223 161.38,-223 167.38,-229 167.38,-235 167.38,-235 167.38,-294 167.38,-294 167.38,-300 161.38,-306 155.38,-306\"/>\n<text text-anchor=\"start\" x=\"58.12\" y=\"-288.7\" font-family=\"Helvetica,sans-Serif\" font-size=\"14.00\">Distance ≤ 3.298</text>\n<text text-anchor=\"start\" x=\"73.5\" y=\"-273.7\" font-family=\"Helvetica,sans-Serif\" font-size=\"14.00\">gini = 0.044</text>\n<text text-anchor=\"start\" x=\"67.88\" y=\"-258.7\" font-family=\"Helvetica,sans-Serif\" font-size=\"14.00\">samples = 44</text>\n<text text-anchor=\"start\" x=\"66\" y=\"-243.7\" font-family=\"Helvetica,sans-Serif\" font-size=\"14.00\">value = [1, 43]</text>\n<text text-anchor=\"start\" x=\"72\" y=\"-228.7\" font-family=\"Helvetica,sans-Serif\" font-size=\"14.00\">class = YES</text>\n</g>\n<!-- 4&#45;&gt;5 -->\n<g id=\"edge5\" class=\"edge\">\n<title>4&#45;&gt;5</title>\n<path fill=\"none\" stroke=\"black\" d=\"M187.43,-341.58C178.26,-332.71 168.47,-323.25 159.03,-314.12\"/>\n<polygon fill=\"black\" stroke=\"black\" points=\"161.55,-311.69 151.93,-307.25 156.69,-316.72 161.55,-311.69\"/>\n</g>\n<!-- 10 -->\n<g id=\"node11\" class=\"node\">\n<title>10</title>\n<path fill=\"#e58139\" stroke=\"black\" d=\"M267.75,-298.5C267.75,-298.5 197.75,-298.5 197.75,-298.5 191.75,-298.5 185.75,-292.5 185.75,-286.5 185.75,-286.5 185.75,-242.5 185.75,-242.5 185.75,-236.5 191.75,-230.5 197.75,-230.5 197.75,-230.5 267.75,-230.5 267.75,-230.5 273.75,-230.5 279.75,-236.5 279.75,-242.5 279.75,-242.5 279.75,-286.5 279.75,-286.5 279.75,-292.5 273.75,-298.5 267.75,-298.5\"/>\n<text text-anchor=\"start\" x=\"205\" y=\"-281.2\" font-family=\"Helvetica,sans-Serif\" font-size=\"14.00\">gini = 0.0</text>\n<text text-anchor=\"start\" x=\"195.62\" y=\"-266.2\" font-family=\"Helvetica,sans-Serif\" font-size=\"14.00\">samples = 2</text>\n<text text-anchor=\"start\" x=\"193.75\" y=\"-251.2\" font-family=\"Helvetica,sans-Serif\" font-size=\"14.00\">value = [2, 0]</text>\n<text text-anchor=\"start\" x=\"199\" y=\"-236.2\" font-family=\"Helvetica,sans-Serif\" font-size=\"14.00\">class = NO</text>\n</g>\n<!-- 4&#45;&gt;10 -->\n<g id=\"edge10\" class=\"edge\">\n<title>4&#45;&gt;10</title>\n<path fill=\"none\" stroke=\"black\" d=\"M230.8,-341.58C231.06,-331.43 231.34,-320.5 231.6,-310.18\"/>\n<polygon fill=\"black\" stroke=\"black\" points=\"235.1,-310.46 231.86,-300.37 228.1,-310.28 235.1,-310.46\"/>\n</g>\n<!-- 6 -->\n<g id=\"node7\" class=\"node\">\n<title>6</title>\n<path fill=\"#399de5\" stroke=\"black\" d=\"M89.5,-179.5C89.5,-179.5 12,-179.5 12,-179.5 6,-179.5 0,-173.5 0,-167.5 0,-167.5 0,-123.5 0,-123.5 0,-117.5 6,-111.5 12,-111.5 12,-111.5 89.5,-111.5 89.5,-111.5 95.5,-111.5 101.5,-117.5 101.5,-123.5 101.5,-123.5 101.5,-167.5 101.5,-167.5 101.5,-173.5 95.5,-179.5 89.5,-179.5\"/>\n<text text-anchor=\"start\" x=\"23\" y=\"-162.2\" font-family=\"Helvetica,sans-Serif\" font-size=\"14.00\">gini = 0.0</text>\n<text text-anchor=\"start\" x=\"9.88\" y=\"-147.2\" font-family=\"Helvetica,sans-Serif\" font-size=\"14.00\">samples = 41</text>\n<text text-anchor=\"start\" x=\"8\" y=\"-132.2\" font-family=\"Helvetica,sans-Serif\" font-size=\"14.00\">value = [0, 41]</text>\n<text text-anchor=\"start\" x=\"14\" y=\"-117.2\" font-family=\"Helvetica,sans-Serif\" font-size=\"14.00\">class = YES</text>\n</g>\n<!-- 5&#45;&gt;6 -->\n<g id=\"edge6\" class=\"edge\">\n<title>5&#45;&gt;6</title>\n<path fill=\"none\" stroke=\"black\" d=\"M88.46,-222.58C83.22,-211.99 77.55,-200.56 72.24,-189.85\"/>\n<polygon fill=\"black\" stroke=\"black\" points=\"75.54,-188.62 67.96,-181.22 69.27,-191.73 75.54,-188.62\"/>\n</g>\n<!-- 7 -->\n<g id=\"node8\" class=\"node\">\n<title>7</title>\n<path fill=\"#9ccef2\" stroke=\"black\" d=\"M201.75,-187C201.75,-187 131.75,-187 131.75,-187 125.75,-187 119.75,-181 119.75,-175 119.75,-175 119.75,-116 119.75,-116 119.75,-110 125.75,-104 131.75,-104 131.75,-104 201.75,-104 201.75,-104 207.75,-104 213.75,-110 213.75,-116 213.75,-116 213.75,-175 213.75,-175 213.75,-181 207.75,-187 201.75,-187\"/>\n<text text-anchor=\"start\" x=\"134.12\" y=\"-169.7\" font-family=\"Helvetica,sans-Serif\" font-size=\"14.00\">Age ≤ 26.5</text>\n<text text-anchor=\"start\" x=\"131.5\" y=\"-154.7\" font-family=\"Helvetica,sans-Serif\" font-size=\"14.00\">gini = 0.444</text>\n<text text-anchor=\"start\" x=\"129.62\" y=\"-139.7\" font-family=\"Helvetica,sans-Serif\" font-size=\"14.00\">samples = 3</text>\n<text text-anchor=\"start\" x=\"127.75\" y=\"-124.7\" font-family=\"Helvetica,sans-Serif\" font-size=\"14.00\">value = [1, 2]</text>\n<text text-anchor=\"start\" x=\"130\" y=\"-109.7\" font-family=\"Helvetica,sans-Serif\" font-size=\"14.00\">class = YES</text>\n</g>\n<!-- 5&#45;&gt;7 -->\n<g id=\"edge7\" class=\"edge\">\n<title>5&#45;&gt;7</title>\n<path fill=\"none\" stroke=\"black\" d=\"M129.04,-222.58C133.08,-214.43 137.37,-205.77 141.55,-197.34\"/>\n<polygon fill=\"black\" stroke=\"black\" points=\"144.6,-199.07 145.9,-188.56 138.32,-195.96 144.6,-199.07\"/>\n</g>\n<!-- 8 -->\n<g id=\"node9\" class=\"node\">\n<title>8</title>\n<path fill=\"#399de5\" stroke=\"black\" d=\"M145.75,-68C145.75,-68 75.75,-68 75.75,-68 69.75,-68 63.75,-62 63.75,-56 63.75,-56 63.75,-12 63.75,-12 63.75,-6 69.75,0 75.75,0 75.75,0 145.75,0 145.75,0 151.75,0 157.75,-6 157.75,-12 157.75,-12 157.75,-56 157.75,-56 157.75,-62 151.75,-68 145.75,-68\"/>\n<text text-anchor=\"start\" x=\"83\" y=\"-50.7\" font-family=\"Helvetica,sans-Serif\" font-size=\"14.00\">gini = 0.0</text>\n<text text-anchor=\"start\" x=\"73.62\" y=\"-35.7\" font-family=\"Helvetica,sans-Serif\" font-size=\"14.00\">samples = 2</text>\n<text text-anchor=\"start\" x=\"71.75\" y=\"-20.7\" font-family=\"Helvetica,sans-Serif\" font-size=\"14.00\">value = [0, 2]</text>\n<text text-anchor=\"start\" x=\"74\" y=\"-5.7\" font-family=\"Helvetica,sans-Serif\" font-size=\"14.00\">class = YES</text>\n</g>\n<!-- 7&#45;&gt;8 -->\n<g id=\"edge8\" class=\"edge\">\n<title>7&#45;&gt;8</title>\n<path fill=\"none\" stroke=\"black\" d=\"M145.9,-103.73C141.65,-95.43 137.17,-86.67 132.89,-78.28\"/>\n<polygon fill=\"black\" stroke=\"black\" points=\"136.14,-76.96 128.47,-69.65 129.91,-80.14 136.14,-76.96\"/>\n</g>\n<!-- 9 -->\n<g id=\"node10\" class=\"node\">\n<title>9</title>\n<path fill=\"#e58139\" stroke=\"black\" d=\"M257.75,-68C257.75,-68 187.75,-68 187.75,-68 181.75,-68 175.75,-62 175.75,-56 175.75,-56 175.75,-12 175.75,-12 175.75,-6 181.75,0 187.75,0 187.75,0 257.75,0 257.75,0 263.75,0 269.75,-6 269.75,-12 269.75,-12 269.75,-56 269.75,-56 269.75,-62 263.75,-68 257.75,-68\"/>\n<text text-anchor=\"start\" x=\"195\" y=\"-50.7\" font-family=\"Helvetica,sans-Serif\" font-size=\"14.00\">gini = 0.0</text>\n<text text-anchor=\"start\" x=\"185.62\" y=\"-35.7\" font-family=\"Helvetica,sans-Serif\" font-size=\"14.00\">samples = 1</text>\n<text text-anchor=\"start\" x=\"183.75\" y=\"-20.7\" font-family=\"Helvetica,sans-Serif\" font-size=\"14.00\">value = [1, 0]</text>\n<text text-anchor=\"start\" x=\"189\" y=\"-5.7\" font-family=\"Helvetica,sans-Serif\" font-size=\"14.00\">class = NO</text>\n</g>\n<!-- 7&#45;&gt;9 -->\n<g id=\"edge9\" class=\"edge\">\n<title>7&#45;&gt;9</title>\n<path fill=\"none\" stroke=\"black\" d=\"M187.6,-103.73C191.85,-95.43 196.33,-86.67 200.61,-78.28\"/>\n<polygon fill=\"black\" stroke=\"black\" points=\"203.59,-80.14 205.03,-69.65 197.36,-76.96 203.59,-80.14\"/>\n</g>\n<!-- 12 -->\n<g id=\"node13\" class=\"node\">\n<title>12</title>\n<path fill=\"#f2c09c\" stroke=\"black\" d=\"M412.38,-425C412.38,-425 319.12,-425 319.12,-425 313.12,-425 307.12,-419 307.12,-413 307.12,-413 307.12,-354 307.12,-354 307.12,-348 313.12,-342 319.12,-342 319.12,-342 412.38,-342 412.38,-342 418.38,-342 424.38,-348 424.38,-354 424.38,-354 424.38,-413 424.38,-413 424.38,-419 418.38,-425 412.38,-425\"/>\n<text text-anchor=\"start\" x=\"315.12\" y=\"-407.7\" font-family=\"Helvetica,sans-Serif\" font-size=\"14.00\">Distance ≤ 3.913</text>\n<text text-anchor=\"start\" x=\"330.5\" y=\"-392.7\" font-family=\"Helvetica,sans-Serif\" font-size=\"14.00\">gini = 0.444</text>\n<text text-anchor=\"start\" x=\"328.62\" y=\"-377.7\" font-family=\"Helvetica,sans-Serif\" font-size=\"14.00\">samples = 3</text>\n<text text-anchor=\"start\" x=\"326.75\" y=\"-362.7\" font-family=\"Helvetica,sans-Serif\" font-size=\"14.00\">value = [2, 1]</text>\n<text text-anchor=\"start\" x=\"332\" y=\"-347.7\" font-family=\"Helvetica,sans-Serif\" font-size=\"14.00\">class = NO</text>\n</g>\n<!-- 11&#45;&gt;12 -->\n<g id=\"edge12\" class=\"edge\">\n<title>11&#45;&gt;12</title>\n<path fill=\"none\" stroke=\"black\" d=\"M369,-460.58C368.67,-452.79 368.32,-444.53 367.97,-436.45\"/>\n<polygon fill=\"black\" stroke=\"black\" points=\"371.48,-436.55 367.55,-426.71 364.48,-436.85 371.48,-436.55\"/>\n</g>\n<!-- 15 -->\n<g id=\"node16\" class=\"node\">\n<title>15</title>\n<path fill=\"#e58139\" stroke=\"black\" d=\"M531.5,-417.5C531.5,-417.5 454,-417.5 454,-417.5 448,-417.5 442,-411.5 442,-405.5 442,-405.5 442,-361.5 442,-361.5 442,-355.5 448,-349.5 454,-349.5 454,-349.5 531.5,-349.5 531.5,-349.5 537.5,-349.5 543.5,-355.5 543.5,-361.5 543.5,-361.5 543.5,-405.5 543.5,-405.5 543.5,-411.5 537.5,-417.5 531.5,-417.5\"/>\n<text text-anchor=\"start\" x=\"465\" y=\"-400.2\" font-family=\"Helvetica,sans-Serif\" font-size=\"14.00\">gini = 0.0</text>\n<text text-anchor=\"start\" x=\"451.88\" y=\"-385.2\" font-family=\"Helvetica,sans-Serif\" font-size=\"14.00\">samples = 95</text>\n<text text-anchor=\"start\" x=\"450\" y=\"-370.2\" font-family=\"Helvetica,sans-Serif\" font-size=\"14.00\">value = [95, 0]</text>\n<text text-anchor=\"start\" x=\"459\" y=\"-355.2\" font-family=\"Helvetica,sans-Serif\" font-size=\"14.00\">class = NO</text>\n</g>\n<!-- 11&#45;&gt;15 -->\n<g id=\"edge15\" class=\"edge\">\n<title>11&#45;&gt;15</title>\n<path fill=\"none\" stroke=\"black\" d=\"M413.42,-460.58C425.26,-449.23 438.11,-436.9 449.95,-425.55\"/>\n<polygon fill=\"black\" stroke=\"black\" points=\"452.08,-428.36 456.87,-418.91 447.23,-423.3 452.08,-428.36\"/>\n</g>\n<!-- 13 -->\n<g id=\"node14\" class=\"node\">\n<title>13</title>\n<path fill=\"#e58139\" stroke=\"black\" d=\"M398.75,-298.5C398.75,-298.5 328.75,-298.5 328.75,-298.5 322.75,-298.5 316.75,-292.5 316.75,-286.5 316.75,-286.5 316.75,-242.5 316.75,-242.5 316.75,-236.5 322.75,-230.5 328.75,-230.5 328.75,-230.5 398.75,-230.5 398.75,-230.5 404.75,-230.5 410.75,-236.5 410.75,-242.5 410.75,-242.5 410.75,-286.5 410.75,-286.5 410.75,-292.5 404.75,-298.5 398.75,-298.5\"/>\n<text text-anchor=\"start\" x=\"336\" y=\"-281.2\" font-family=\"Helvetica,sans-Serif\" font-size=\"14.00\">gini = 0.0</text>\n<text text-anchor=\"start\" x=\"326.62\" y=\"-266.2\" font-family=\"Helvetica,sans-Serif\" font-size=\"14.00\">samples = 2</text>\n<text text-anchor=\"start\" x=\"324.75\" y=\"-251.2\" font-family=\"Helvetica,sans-Serif\" font-size=\"14.00\">value = [2, 0]</text>\n<text text-anchor=\"start\" x=\"330\" y=\"-236.2\" font-family=\"Helvetica,sans-Serif\" font-size=\"14.00\">class = NO</text>\n</g>\n<!-- 12&#45;&gt;13 -->\n<g id=\"edge13\" class=\"edge\">\n<title>12&#45;&gt;13</title>\n<path fill=\"none\" stroke=\"black\" d=\"M365.05,-341.58C364.88,-331.43 364.69,-320.5 364.51,-310.18\"/>\n<polygon fill=\"black\" stroke=\"black\" points=\"368.02,-310.31 364.35,-300.37 361.02,-310.43 368.02,-310.31\"/>\n</g>\n<!-- 14 -->\n<g id=\"node15\" class=\"node\">\n<title>14</title>\n<path fill=\"#399de5\" stroke=\"black\" d=\"M510.75,-298.5C510.75,-298.5 440.75,-298.5 440.75,-298.5 434.75,-298.5 428.75,-292.5 428.75,-286.5 428.75,-286.5 428.75,-242.5 428.75,-242.5 428.75,-236.5 434.75,-230.5 440.75,-230.5 440.75,-230.5 510.75,-230.5 510.75,-230.5 516.75,-230.5 522.75,-236.5 522.75,-242.5 522.75,-242.5 522.75,-286.5 522.75,-286.5 522.75,-292.5 516.75,-298.5 510.75,-298.5\"/>\n<text text-anchor=\"start\" x=\"448\" y=\"-281.2\" font-family=\"Helvetica,sans-Serif\" font-size=\"14.00\">gini = 0.0</text>\n<text text-anchor=\"start\" x=\"438.62\" y=\"-266.2\" font-family=\"Helvetica,sans-Serif\" font-size=\"14.00\">samples = 1</text>\n<text text-anchor=\"start\" x=\"436.75\" y=\"-251.2\" font-family=\"Helvetica,sans-Serif\" font-size=\"14.00\">value = [0, 1]</text>\n<text text-anchor=\"start\" x=\"439\" y=\"-236.2\" font-family=\"Helvetica,sans-Serif\" font-size=\"14.00\">class = YES</text>\n</g>\n<!-- 12&#45;&gt;14 -->\n<g id=\"edge14\" class=\"edge\">\n<title>12&#45;&gt;14</title>\n<path fill=\"none\" stroke=\"black\" d=\"M404.22,-341.58C414.69,-330.45 426.04,-318.38 436.54,-307.2\"/>\n<polygon fill=\"black\" stroke=\"black\" points=\"439.05,-309.65 443.35,-299.96 433.95,-304.85 439.05,-309.65\"/>\n</g>\n<!-- 17 -->\n<g id=\"node18\" class=\"node\">\n<title>17</title>\n<path fill=\"#399de5\" stroke=\"black\" d=\"M542.25,-536.5C542.25,-536.5 457.25,-536.5 457.25,-536.5 451.25,-536.5 445.25,-530.5 445.25,-524.5 445.25,-524.5 445.25,-480.5 445.25,-480.5 445.25,-474.5 451.25,-468.5 457.25,-468.5 457.25,-468.5 542.25,-468.5 542.25,-468.5 548.25,-468.5 554.25,-474.5 554.25,-480.5 554.25,-480.5 554.25,-524.5 554.25,-524.5 554.25,-530.5 548.25,-536.5 542.25,-536.5\"/>\n<text text-anchor=\"start\" x=\"472\" y=\"-519.2\" font-family=\"Helvetica,sans-Serif\" font-size=\"14.00\">gini = 0.0</text>\n<text text-anchor=\"start\" x=\"455.12\" y=\"-504.2\" font-family=\"Helvetica,sans-Serif\" font-size=\"14.00\">samples = 158</text>\n<text text-anchor=\"start\" x=\"453.25\" y=\"-489.2\" font-family=\"Helvetica,sans-Serif\" font-size=\"14.00\">value = [0, 158]</text>\n<text text-anchor=\"start\" x=\"463\" y=\"-474.2\" font-family=\"Helvetica,sans-Serif\" font-size=\"14.00\">class = YES</text>\n</g>\n<!-- 16&#45;&gt;17 -->\n<g id=\"edge17\" class=\"edge\">\n<title>16&#45;&gt;17</title>\n<path fill=\"none\" stroke=\"black\" d=\"M501.7,-579.58C501.44,-569.43 501.16,-558.5 500.9,-548.18\"/>\n<polygon fill=\"black\" stroke=\"black\" points=\"504.4,-548.28 500.64,-538.37 497.4,-548.46 504.4,-548.28\"/>\n</g>\n<!-- 18 -->\n<g id=\"node19\" class=\"node\">\n<title>18</title>\n<path fill=\"#f6fbfe\" stroke=\"black\" d=\"M732.75,-544C732.75,-544 584.75,-544 584.75,-544 578.75,-544 572.75,-538 572.75,-532 572.75,-532 572.75,-473 572.75,-473 572.75,-467 578.75,-461 584.75,-461 584.75,-461 732.75,-461 732.75,-461 738.75,-461 744.75,-467 744.75,-473 744.75,-473 744.75,-532 744.75,-532 744.75,-538 738.75,-544 732.75,-544\"/>\n<text text-anchor=\"start\" x=\"580.75\" y=\"-526.7\" font-family=\"Helvetica,sans-Serif\" font-size=\"14.00\">spent_last_month ≤ 140.5</text>\n<text text-anchor=\"start\" x=\"631\" y=\"-511.7\" font-family=\"Helvetica,sans-Serif\" font-size=\"14.00\">gini = 0.5</text>\n<text text-anchor=\"start\" x=\"617.88\" y=\"-496.7\" font-family=\"Helvetica,sans-Serif\" font-size=\"14.00\">samples = 45</text>\n<text text-anchor=\"start\" x=\"612.25\" y=\"-481.7\" font-family=\"Helvetica,sans-Serif\" font-size=\"14.00\">value = [22, 23]</text>\n<text text-anchor=\"start\" x=\"622\" y=\"-466.7\" font-family=\"Helvetica,sans-Serif\" font-size=\"14.00\">class = YES</text>\n</g>\n<!-- 16&#45;&gt;18 -->\n<g id=\"edge18\" class=\"edge\">\n<title>16&#45;&gt;18</title>\n<path fill=\"none\" stroke=\"black\" d=\"M557.31,-579.58C569.54,-570.41 582.62,-560.6 595.18,-551.17\"/>\n<polygon fill=\"black\" stroke=\"black\" points=\"597.11,-554.11 603.01,-545.31 592.91,-548.51 597.11,-554.11\"/>\n</g>\n<!-- 19 -->\n<g id=\"node20\" class=\"node\">\n<title>19</title>\n<path fill=\"#e58139\" stroke=\"black\" d=\"M674.5,-417.5C674.5,-417.5 597,-417.5 597,-417.5 591,-417.5 585,-411.5 585,-405.5 585,-405.5 585,-361.5 585,-361.5 585,-355.5 591,-349.5 597,-349.5 597,-349.5 674.5,-349.5 674.5,-349.5 680.5,-349.5 686.5,-355.5 686.5,-361.5 686.5,-361.5 686.5,-405.5 686.5,-405.5 686.5,-411.5 680.5,-417.5 674.5,-417.5\"/>\n<text text-anchor=\"start\" x=\"608\" y=\"-400.2\" font-family=\"Helvetica,sans-Serif\" font-size=\"14.00\">gini = 0.0</text>\n<text text-anchor=\"start\" x=\"594.88\" y=\"-385.2\" font-family=\"Helvetica,sans-Serif\" font-size=\"14.00\">samples = 22</text>\n<text text-anchor=\"start\" x=\"593\" y=\"-370.2\" font-family=\"Helvetica,sans-Serif\" font-size=\"14.00\">value = [22, 0]</text>\n<text text-anchor=\"start\" x=\"602\" y=\"-355.2\" font-family=\"Helvetica,sans-Serif\" font-size=\"14.00\">class = NO</text>\n</g>\n<!-- 18&#45;&gt;19 -->\n<g id=\"edge19\" class=\"edge\">\n<title>18&#45;&gt;19</title>\n<path fill=\"none\" stroke=\"black\" d=\"M650.71,-460.58C648.69,-450.32 646.52,-439.27 644.47,-428.85\"/>\n<polygon fill=\"black\" stroke=\"black\" points=\"647.96,-428.48 642.6,-419.35 641.09,-429.83 647.96,-428.48\"/>\n</g>\n<!-- 20 -->\n<g id=\"node21\" class=\"node\">\n<title>20</title>\n<path fill=\"#399de5\" stroke=\"black\" d=\"M794.5,-417.5C794.5,-417.5 717,-417.5 717,-417.5 711,-417.5 705,-411.5 705,-405.5 705,-405.5 705,-361.5 705,-361.5 705,-355.5 711,-349.5 717,-349.5 717,-349.5 794.5,-349.5 794.5,-349.5 800.5,-349.5 806.5,-355.5 806.5,-361.5 806.5,-361.5 806.5,-405.5 806.5,-405.5 806.5,-411.5 800.5,-417.5 794.5,-417.5\"/>\n<text text-anchor=\"start\" x=\"728\" y=\"-400.2\" font-family=\"Helvetica,sans-Serif\" font-size=\"14.00\">gini = 0.0</text>\n<text text-anchor=\"start\" x=\"714.88\" y=\"-385.2\" font-family=\"Helvetica,sans-Serif\" font-size=\"14.00\">samples = 23</text>\n<text text-anchor=\"start\" x=\"713\" y=\"-370.2\" font-family=\"Helvetica,sans-Serif\" font-size=\"14.00\">value = [0, 23]</text>\n<text text-anchor=\"start\" x=\"719\" y=\"-355.2\" font-family=\"Helvetica,sans-Serif\" font-size=\"14.00\">class = YES</text>\n</g>\n<!-- 18&#45;&gt;20 -->\n<g id=\"edge20\" class=\"edge\">\n<title>18&#45;&gt;20</title>\n<path fill=\"none\" stroke=\"black\" d=\"M692.68,-460.58C701.81,-449.56 711.72,-437.61 720.9,-426.53\"/>\n<polygon fill=\"black\" stroke=\"black\" points=\"723.44,-428.96 727.13,-419.03 718.05,-424.49 723.44,-428.96\"/>\n</g>\n</g>\n</svg>\n",
      "text/plain": "<graphviz.sources.Source at 0x7f9cb9831a80>"
     },
     "execution_count": 37,
     "metadata": {},
     "output_type": "execute_result"
    }
   ],
   "source": [
    "# As before, but make the model name gini_model\n",
    "dot_data = tree.export_graphviz(gini_model, out_file=None,\n",
    "                                feature_names=gini_model.feature_names_in_,\n",
    "                                class_names=gini_model.classes_,\n",
    "                                filled=True, rounded=True,\n",
    "                                special_characters=True)\n",
    "graph = graphviz.Source(dot_data)\n",
    "graph\n"
   ]
  },
  {
   "cell_type": "code",
   "execution_count": 38,
   "metadata": {
    "colab": {},
    "colab_type": "code",
    "id": "T0RadBy0DuWp",
    "ExecuteTime": {
     "end_time": "2024-02-06T03:32:26.395548Z",
     "start_time": "2024-02-06T03:32:26.380366Z"
    }
   },
   "outputs": [
    {
     "name": "stdout",
     "output_type": "stream",
     "text": [
      "Model Gini impurity model\n",
      "Accuracy: 0.9831932773109243\n",
      "Balanced accuracy: 0.9813946216385241\n",
      "Precision score 0.9871794871794872\n",
      "Recall score 0.975609756097561\n"
     ]
    }
   ],
   "source": [
    "# Run this block for model evaluation\n",
    "print(\"Model Gini impurity model\")\n",
    "print(\"Accuracy:\", metrics.accuracy_score(y_test,y_pred))\n",
    "print(\"Balanced accuracy:\", metrics.balanced_accuracy_score(y_test,y_pred))\n",
    "print('Precision score' , metrics.precision_score(y_test,y_pred, pos_label = \"YES\"))\n",
    "print('Recall score' , metrics.recall_score(y_test,y_pred, pos_label = \"NO\"))"
   ]
  },
  {
   "cell_type": "markdown",
   "metadata": {
    "colab_type": "text",
    "id": "LR5LkC_yDuWs"
   },
   "source": [
    "How do the results here compare to the previous model? Write your judgements here:"
   ]
  },
  {
   "cell_type": "markdown",
   "source": [
    "The scores are overall good but a bit lower than the previous one"
   ],
   "metadata": {
    "collapsed": false
   }
  },
  {
   "cell_type": "markdown",
   "metadata": {
    "colab_type": "text",
    "id": "3PctBjTADuWs"
   },
   "source": [
    "## Model 3: Entropy model - max depth 3\n",
    "We're going to try to limit the depth of our decision tree, using entropy first.  \n",
    "\n",
    "As you know, we need to strike a balance with tree depth. \n",
    "\n",
    "Insufficiently deep, and we're not giving the tree the opportunity to spot the right patterns in the training data.\n",
    "\n",
    "Excessively deep, and we're probably going to make a tree that overfits to the training data, at the cost of very high error on the (hitherto unseen) test data. \n",
    "\n",
    "Sophisticated data scientists use methods like random search with cross-validation to systematically find a good depth for their tree. We'll start with picking 3, and see how that goes. "
   ]
  },
  {
   "cell_type": "code",
   "execution_count": 39,
   "metadata": {
    "colab": {},
    "colab_type": "code",
    "id": "cMiPjWClDuWt",
    "ExecuteTime": {
     "end_time": "2024-02-06T03:50:26.449404Z",
     "start_time": "2024-02-06T03:50:26.433643Z"
    }
   },
   "outputs": [
    {
     "data": {
      "text/plain": "DecisionTreeClassifier(criterion='entropy', max_depth=3)",
      "text/html": "<style>#sk-container-id-3 {color: black;background-color: white;}#sk-container-id-3 pre{padding: 0;}#sk-container-id-3 div.sk-toggleable {background-color: white;}#sk-container-id-3 label.sk-toggleable__label {cursor: pointer;display: block;width: 100%;margin-bottom: 0;padding: 0.3em;box-sizing: border-box;text-align: center;}#sk-container-id-3 label.sk-toggleable__label-arrow:before {content: \"▸\";float: left;margin-right: 0.25em;color: #696969;}#sk-container-id-3 label.sk-toggleable__label-arrow:hover:before {color: black;}#sk-container-id-3 div.sk-estimator:hover label.sk-toggleable__label-arrow:before {color: black;}#sk-container-id-3 div.sk-toggleable__content {max-height: 0;max-width: 0;overflow: hidden;text-align: left;background-color: #f0f8ff;}#sk-container-id-3 div.sk-toggleable__content pre {margin: 0.2em;color: black;border-radius: 0.25em;background-color: #f0f8ff;}#sk-container-id-3 input.sk-toggleable__control:checked~div.sk-toggleable__content {max-height: 200px;max-width: 100%;overflow: auto;}#sk-container-id-3 input.sk-toggleable__control:checked~label.sk-toggleable__label-arrow:before {content: \"▾\";}#sk-container-id-3 div.sk-estimator input.sk-toggleable__control:checked~label.sk-toggleable__label {background-color: #d4ebff;}#sk-container-id-3 div.sk-label input.sk-toggleable__control:checked~label.sk-toggleable__label {background-color: #d4ebff;}#sk-container-id-3 input.sk-hidden--visually {border: 0;clip: rect(1px 1px 1px 1px);clip: rect(1px, 1px, 1px, 1px);height: 1px;margin: -1px;overflow: hidden;padding: 0;position: absolute;width: 1px;}#sk-container-id-3 div.sk-estimator {font-family: monospace;background-color: #f0f8ff;border: 1px dotted black;border-radius: 0.25em;box-sizing: border-box;margin-bottom: 0.5em;}#sk-container-id-3 div.sk-estimator:hover {background-color: #d4ebff;}#sk-container-id-3 div.sk-parallel-item::after {content: \"\";width: 100%;border-bottom: 1px solid gray;flex-grow: 1;}#sk-container-id-3 div.sk-label:hover label.sk-toggleable__label {background-color: #d4ebff;}#sk-container-id-3 div.sk-serial::before {content: \"\";position: absolute;border-left: 1px solid gray;box-sizing: border-box;top: 0;bottom: 0;left: 50%;z-index: 0;}#sk-container-id-3 div.sk-serial {display: flex;flex-direction: column;align-items: center;background-color: white;padding-right: 0.2em;padding-left: 0.2em;position: relative;}#sk-container-id-3 div.sk-item {position: relative;z-index: 1;}#sk-container-id-3 div.sk-parallel {display: flex;align-items: stretch;justify-content: center;background-color: white;position: relative;}#sk-container-id-3 div.sk-item::before, #sk-container-id-3 div.sk-parallel-item::before {content: \"\";position: absolute;border-left: 1px solid gray;box-sizing: border-box;top: 0;bottom: 0;left: 50%;z-index: -1;}#sk-container-id-3 div.sk-parallel-item {display: flex;flex-direction: column;z-index: 1;position: relative;background-color: white;}#sk-container-id-3 div.sk-parallel-item:first-child::after {align-self: flex-end;width: 50%;}#sk-container-id-3 div.sk-parallel-item:last-child::after {align-self: flex-start;width: 50%;}#sk-container-id-3 div.sk-parallel-item:only-child::after {width: 0;}#sk-container-id-3 div.sk-dashed-wrapped {border: 1px dashed gray;margin: 0 0.4em 0.5em 0.4em;box-sizing: border-box;padding-bottom: 0.4em;background-color: white;}#sk-container-id-3 div.sk-label label {font-family: monospace;font-weight: bold;display: inline-block;line-height: 1.2em;}#sk-container-id-3 div.sk-label-container {text-align: center;}#sk-container-id-3 div.sk-container {/* jupyter's `normalize.less` sets `[hidden] { display: none; }` but bootstrap.min.css set `[hidden] { display: none !important; }` so we also need the `!important` here to be able to override the default hidden behavior on the sphinx rendered scikit-learn.org. See: https://github.com/scikit-learn/scikit-learn/issues/21755 */display: inline-block !important;position: relative;}#sk-container-id-3 div.sk-text-repr-fallback {display: none;}</style><div id=\"sk-container-id-3\" class=\"sk-top-container\"><div class=\"sk-text-repr-fallback\"><pre>DecisionTreeClassifier(criterion=&#x27;entropy&#x27;, max_depth=3)</pre><b>In a Jupyter environment, please rerun this cell to show the HTML representation or trust the notebook. <br />On GitHub, the HTML representation is unable to render, please try loading this page with nbviewer.org.</b></div><div class=\"sk-container\" hidden><div class=\"sk-item\"><div class=\"sk-estimator sk-toggleable\"><input class=\"sk-toggleable__control sk-hidden--visually\" id=\"sk-estimator-id-3\" type=\"checkbox\" checked><label for=\"sk-estimator-id-3\" class=\"sk-toggleable__label sk-toggleable__label-arrow\">DecisionTreeClassifier</label><div class=\"sk-toggleable__content\"><pre>DecisionTreeClassifier(criterion=&#x27;entropy&#x27;, max_depth=3)</pre></div></div></div></div></div>"
     },
     "execution_count": 39,
     "metadata": {},
     "output_type": "execute_result"
    }
   ],
   "source": [
    "# Made a model as before, but call it entr_model2, and make the max_depth parameter equal to 3. \n",
    "# Execute the fitting, predicting, and Series operations as before\n",
    "entr_model2 = tree.DecisionTreeClassifier(criterion='entropy', max_depth=3)\n",
    "entr_model2.fit(X_train, y_train)\n",
    "y_pred = entr_model2.predict(X_test)\n",
    "y_pred = pd.Series(y_pred)\n",
    "entr_model2"
   ]
  },
  {
   "cell_type": "code",
   "execution_count": 40,
   "metadata": {
    "colab": {},
    "colab_type": "code",
    "id": "IRuw72VMDuWv",
    "ExecuteTime": {
     "end_time": "2024-02-06T03:50:43.406096Z",
     "start_time": "2024-02-06T03:50:43.277228Z"
    }
   },
   "outputs": [
    {
     "data": {
      "image/svg+xml": "<?xml version=\"1.0\" encoding=\"UTF-8\" standalone=\"no\"?>\n<!DOCTYPE svg PUBLIC \"-//W3C//DTD SVG 1.1//EN\"\n \"http://www.w3.org/Graphics/SVG/1.1/DTD/svg11.dtd\">\n<!-- Generated by graphviz version 9.0.0 (20230911.1827)\n -->\n<!-- Title: Tree Pages: 1 -->\n<svg width=\"518pt\" height=\"433pt\"\n viewBox=\"0.00 0.00 518.00 433.00\" xmlns=\"http://www.w3.org/2000/svg\" xmlns:xlink=\"http://www.w3.org/1999/xlink\">\n<g id=\"graph0\" class=\"graph\" transform=\"scale(1 1) rotate(0) translate(4 429)\">\n<title>Tree</title>\n<polygon fill=\"white\" stroke=\"none\" points=\"-4,4 -4,-429 514,-429 514,4 -4,4\"/>\n<!-- 0 -->\n<g id=\"node1\" class=\"node\">\n<title>0</title>\n<path fill=\"#abd6f4\" stroke=\"black\" d=\"M387.75,-425C387.75,-425 239.75,-425 239.75,-425 233.75,-425 227.75,-419 227.75,-413 227.75,-413 227.75,-354 227.75,-354 227.75,-348 233.75,-342 239.75,-342 239.75,-342 387.75,-342 387.75,-342 393.75,-342 399.75,-348 399.75,-354 399.75,-354 399.75,-413 399.75,-413 399.75,-419 393.75,-425 387.75,-425\"/>\n<text text-anchor=\"start\" x=\"235.75\" y=\"-407.7\" font-family=\"Helvetica,sans-Serif\" font-size=\"14.00\">spent_last_month ≤ 138.0</text>\n<text text-anchor=\"start\" x=\"266.5\" y=\"-392.7\" font-family=\"Helvetica,sans-Serif\" font-size=\"14.00\">entropy = 0.948</text>\n<text text-anchor=\"start\" x=\"269.12\" y=\"-377.7\" font-family=\"Helvetica,sans-Serif\" font-size=\"14.00\">samples = 355</text>\n<text text-anchor=\"start\" x=\"259.75\" y=\"-362.7\" font-family=\"Helvetica,sans-Serif\" font-size=\"14.00\">value = [130, 225]</text>\n<text text-anchor=\"start\" x=\"277\" y=\"-347.7\" font-family=\"Helvetica,sans-Serif\" font-size=\"14.00\">class = YES</text>\n</g>\n<!-- 1 -->\n<g id=\"node2\" class=\"node\">\n<title>1</title>\n<path fill=\"#fae6d7\" stroke=\"black\" d=\"M296.75,-306C296.75,-306 196.75,-306 196.75,-306 190.75,-306 184.75,-300 184.75,-294 184.75,-294 184.75,-235 184.75,-235 184.75,-229 190.75,-223 196.75,-223 196.75,-223 296.75,-223 296.75,-223 302.75,-223 308.75,-229 308.75,-235 308.75,-235 308.75,-294 308.75,-294 308.75,-300 302.75,-306 296.75,-306\"/>\n<text text-anchor=\"start\" x=\"196.12\" y=\"-288.7\" font-family=\"Helvetica,sans-Serif\" font-size=\"14.00\">Distance ≤ 3.524</text>\n<text text-anchor=\"start\" x=\"199.5\" y=\"-273.7\" font-family=\"Helvetica,sans-Serif\" font-size=\"14.00\">entropy = 0.991</text>\n<text text-anchor=\"start\" x=\"202.12\" y=\"-258.7\" font-family=\"Helvetica,sans-Serif\" font-size=\"14.00\">samples = 234</text>\n<text text-anchor=\"start\" x=\"192.75\" y=\"-243.7\" font-family=\"Helvetica,sans-Serif\" font-size=\"14.00\">value = [130, 104]</text>\n<text text-anchor=\"start\" x=\"213\" y=\"-228.7\" font-family=\"Helvetica,sans-Serif\" font-size=\"14.00\">class = NO</text>\n</g>\n<!-- 0&#45;&gt;1 -->\n<g id=\"edge1\" class=\"edge\">\n<title>0&#45;&gt;1</title>\n<path fill=\"none\" stroke=\"black\" d=\"M290.32,-341.58C285.6,-333.34 280.58,-324.58 275.7,-316.06\"/>\n<polygon fill=\"black\" stroke=\"black\" points=\"278.82,-314.45 270.81,-307.51 272.74,-317.93 278.82,-314.45\"/>\n<text text-anchor=\"middle\" x=\"263.5\" y=\"-324.53\" font-family=\"Helvetica,sans-Serif\" font-size=\"14.00\">True</text>\n</g>\n<!-- 8 -->\n<g id=\"node9\" class=\"node\">\n<title>8</title>\n<path fill=\"#399de5\" stroke=\"black\" d=\"M424.25,-298.5C424.25,-298.5 339.25,-298.5 339.25,-298.5 333.25,-298.5 327.25,-292.5 327.25,-286.5 327.25,-286.5 327.25,-242.5 327.25,-242.5 327.25,-236.5 333.25,-230.5 339.25,-230.5 339.25,-230.5 424.25,-230.5 424.25,-230.5 430.25,-230.5 436.25,-236.5 436.25,-242.5 436.25,-242.5 436.25,-286.5 436.25,-286.5 436.25,-292.5 430.25,-298.5 424.25,-298.5\"/>\n<text text-anchor=\"start\" x=\"342\" y=\"-281.2\" font-family=\"Helvetica,sans-Serif\" font-size=\"14.00\">entropy = 0.0</text>\n<text text-anchor=\"start\" x=\"337.12\" y=\"-266.2\" font-family=\"Helvetica,sans-Serif\" font-size=\"14.00\">samples = 121</text>\n<text text-anchor=\"start\" x=\"335.25\" y=\"-251.2\" font-family=\"Helvetica,sans-Serif\" font-size=\"14.00\">value = [0, 121]</text>\n<text text-anchor=\"start\" x=\"345\" y=\"-236.2\" font-family=\"Helvetica,sans-Serif\" font-size=\"14.00\">class = YES</text>\n</g>\n<!-- 0&#45;&gt;8 -->\n<g id=\"edge8\" class=\"edge\">\n<title>0&#45;&gt;8</title>\n<path fill=\"none\" stroke=\"black\" d=\"M337.53,-341.58C343.75,-330.88 350.47,-319.32 356.75,-308.52\"/>\n<polygon fill=\"black\" stroke=\"black\" points=\"359.6,-310.57 361.6,-300.17 353.55,-307.06 359.6,-310.57\"/>\n<text text-anchor=\"middle\" x=\"368.76\" y=\"-317.23\" font-family=\"Helvetica,sans-Serif\" font-size=\"14.00\">False</text>\n</g>\n<!-- 2 -->\n<g id=\"node3\" class=\"node\">\n<title>2</title>\n<path fill=\"#52aae8\" stroke=\"black\" d=\"M224,-187C224,-187 83.5,-187 83.5,-187 77.5,-187 71.5,-181 71.5,-175 71.5,-175 71.5,-116 71.5,-116 71.5,-110 77.5,-104 83.5,-104 83.5,-104 224,-104 224,-104 230,-104 236,-110 236,-116 236,-116 236,-175 236,-175 236,-181 230,-187 224,-187\"/>\n<text text-anchor=\"start\" x=\"79.5\" y=\"-169.7\" font-family=\"Helvetica,sans-Serif\" font-size=\"14.00\">spent_last_month ≤ 24.5</text>\n<text text-anchor=\"start\" x=\"106.5\" y=\"-154.7\" font-family=\"Helvetica,sans-Serif\" font-size=\"14.00\">entropy = 0.512</text>\n<text text-anchor=\"start\" x=\"112.88\" y=\"-139.7\" font-family=\"Helvetica,sans-Serif\" font-size=\"14.00\">samples = 79</text>\n<text text-anchor=\"start\" x=\"111\" y=\"-124.7\" font-family=\"Helvetica,sans-Serif\" font-size=\"14.00\">value = [9, 70]</text>\n<text text-anchor=\"start\" x=\"117\" y=\"-109.7\" font-family=\"Helvetica,sans-Serif\" font-size=\"14.00\">class = YES</text>\n</g>\n<!-- 1&#45;&gt;2 -->\n<g id=\"edge2\" class=\"edge\">\n<title>1&#45;&gt;2</title>\n<path fill=\"none\" stroke=\"black\" d=\"M214.22,-222.58C207.39,-213.98 200.11,-204.82 193.05,-195.95\"/>\n<polygon fill=\"black\" stroke=\"black\" points=\"196.01,-194.04 187.04,-188.39 190.53,-198.39 196.01,-194.04\"/>\n</g>\n<!-- 5 -->\n<g id=\"node6\" class=\"node\">\n<title>5</title>\n<path fill=\"#eca471\" stroke=\"black\" d=\"M413.75,-187C413.75,-187 265.75,-187 265.75,-187 259.75,-187 253.75,-181 253.75,-175 253.75,-175 253.75,-116 253.75,-116 253.75,-110 259.75,-104 265.75,-104 265.75,-104 413.75,-104 413.75,-104 419.75,-104 425.75,-110 425.75,-116 425.75,-116 425.75,-175 425.75,-175 425.75,-181 419.75,-187 413.75,-187\"/>\n<text text-anchor=\"start\" x=\"261.75\" y=\"-169.7\" font-family=\"Helvetica,sans-Serif\" font-size=\"14.00\">spent_last_month ≤ 101.0</text>\n<text text-anchor=\"start\" x=\"292.5\" y=\"-154.7\" font-family=\"Helvetica,sans-Serif\" font-size=\"14.00\">entropy = 0.759</text>\n<text text-anchor=\"start\" x=\"295.12\" y=\"-139.7\" font-family=\"Helvetica,sans-Serif\" font-size=\"14.00\">samples = 155</text>\n<text text-anchor=\"start\" x=\"289.5\" y=\"-124.7\" font-family=\"Helvetica,sans-Serif\" font-size=\"14.00\">value = [121, 34]</text>\n<text text-anchor=\"start\" x=\"306\" y=\"-109.7\" font-family=\"Helvetica,sans-Serif\" font-size=\"14.00\">class = NO</text>\n</g>\n<!-- 1&#45;&gt;5 -->\n<g id=\"edge5\" class=\"edge\">\n<title>1&#45;&gt;5</title>\n<path fill=\"none\" stroke=\"black\" d=\"M279.28,-222.58C286.11,-213.98 293.39,-204.82 300.45,-195.95\"/>\n<polygon fill=\"black\" stroke=\"black\" points=\"302.97,-198.39 306.46,-188.39 297.49,-194.04 302.97,-198.39\"/>\n</g>\n<!-- 3 -->\n<g id=\"node4\" class=\"node\">\n<title>3</title>\n<path fill=\"#e58139\" stroke=\"black\" d=\"M83.5,-68C83.5,-68 12,-68 12,-68 6,-68 0,-62 0,-56 0,-56 0,-12 0,-12 0,-6 6,0 12,0 12,0 83.5,0 83.5,0 89.5,0 95.5,-6 95.5,-12 95.5,-12 95.5,-56 95.5,-56 95.5,-62 89.5,-68 83.5,-68\"/>\n<text text-anchor=\"start\" x=\"8\" y=\"-50.7\" font-family=\"Helvetica,sans-Serif\" font-size=\"14.00\">entropy = 0.0</text>\n<text text-anchor=\"start\" x=\"10.62\" y=\"-35.7\" font-family=\"Helvetica,sans-Serif\" font-size=\"14.00\">samples = 8</text>\n<text text-anchor=\"start\" x=\"8.75\" y=\"-20.7\" font-family=\"Helvetica,sans-Serif\" font-size=\"14.00\">value = [8, 0]</text>\n<text text-anchor=\"start\" x=\"14\" y=\"-5.7\" font-family=\"Helvetica,sans-Serif\" font-size=\"14.00\">class = NO</text>\n</g>\n<!-- 2&#45;&gt;3 -->\n<g id=\"edge3\" class=\"edge\">\n<title>2&#45;&gt;3</title>\n<path fill=\"none\" stroke=\"black\" d=\"M114.28,-103.73C105.63,-94.79 96.46,-85.32 87.78,-76.36\"/>\n<polygon fill=\"black\" stroke=\"black\" points=\"90.51,-74.14 81.04,-69.39 85.48,-79.01 90.51,-74.14\"/>\n</g>\n<!-- 4 -->\n<g id=\"node5\" class=\"node\">\n<title>4</title>\n<path fill=\"#3c9ee5\" stroke=\"black\" d=\"M212,-68C212,-68 125.5,-68 125.5,-68 119.5,-68 113.5,-62 113.5,-56 113.5,-56 113.5,-12 113.5,-12 113.5,-6 119.5,0 125.5,0 125.5,0 212,0 212,0 218,0 224,-6 224,-12 224,-12 224,-56 224,-56 224,-62 218,-68 212,-68\"/>\n<text text-anchor=\"start\" x=\"121.5\" y=\"-50.7\" font-family=\"Helvetica,sans-Serif\" font-size=\"14.00\">entropy = 0.107</text>\n<text text-anchor=\"start\" x=\"127.88\" y=\"-35.7\" font-family=\"Helvetica,sans-Serif\" font-size=\"14.00\">samples = 71</text>\n<text text-anchor=\"start\" x=\"126\" y=\"-20.7\" font-family=\"Helvetica,sans-Serif\" font-size=\"14.00\">value = [1, 70]</text>\n<text text-anchor=\"start\" x=\"132\" y=\"-5.7\" font-family=\"Helvetica,sans-Serif\" font-size=\"14.00\">class = YES</text>\n</g>\n<!-- 2&#45;&gt;4 -->\n<g id=\"edge4\" class=\"edge\">\n<title>2&#45;&gt;4</title>\n<path fill=\"none\" stroke=\"black\" d=\"M159.34,-103.73C160.41,-95.88 161.54,-87.63 162.63,-79.67\"/>\n<polygon fill=\"black\" stroke=\"black\" points=\"166.09,-80.18 163.98,-69.8 159.16,-79.23 166.09,-80.18\"/>\n</g>\n<!-- 6 -->\n<g id=\"node7\" class=\"node\">\n<title>6</title>\n<path fill=\"#e6853f\" stroke=\"black\" d=\"M369,-68C369,-68 282.5,-68 282.5,-68 276.5,-68 270.5,-62 270.5,-56 270.5,-56 270.5,-12 270.5,-12 270.5,-6 276.5,0 282.5,0 282.5,0 369,0 369,0 375,0 381,-6 381,-12 381,-12 381,-56 381,-56 381,-62 375,-68 369,-68\"/>\n<text text-anchor=\"start\" x=\"278.5\" y=\"-50.7\" font-family=\"Helvetica,sans-Serif\" font-size=\"14.00\">entropy = 0.191</text>\n<text text-anchor=\"start\" x=\"281.12\" y=\"-35.7\" font-family=\"Helvetica,sans-Serif\" font-size=\"14.00\">samples = 102</text>\n<text text-anchor=\"start\" x=\"283\" y=\"-20.7\" font-family=\"Helvetica,sans-Serif\" font-size=\"14.00\">value = [99, 3]</text>\n<text text-anchor=\"start\" x=\"292\" y=\"-5.7\" font-family=\"Helvetica,sans-Serif\" font-size=\"14.00\">class = NO</text>\n</g>\n<!-- 5&#45;&gt;6 -->\n<g id=\"edge6\" class=\"edge\">\n<title>5&#45;&gt;6</title>\n<path fill=\"none\" stroke=\"black\" d=\"M334.54,-103.73C333.53,-95.88 332.48,-87.63 331.46,-79.67\"/>\n<polygon fill=\"black\" stroke=\"black\" points=\"334.94,-79.28 330.2,-69.8 328,-80.16 334.94,-79.28\"/>\n</g>\n<!-- 7 -->\n<g id=\"node8\" class=\"node\">\n<title>7</title>\n<path fill=\"#c6e3f7\" stroke=\"black\" d=\"M498,-68C498,-68 411.5,-68 411.5,-68 405.5,-68 399.5,-62 399.5,-56 399.5,-56 399.5,-12 399.5,-12 399.5,-6 405.5,0 411.5,0 411.5,0 498,0 498,0 504,0 510,-6 510,-12 510,-12 510,-56 510,-56 510,-62 504,-68 498,-68\"/>\n<text text-anchor=\"start\" x=\"407.5\" y=\"-50.7\" font-family=\"Helvetica,sans-Serif\" font-size=\"14.00\">entropy = 0.979</text>\n<text text-anchor=\"start\" x=\"413.88\" y=\"-35.7\" font-family=\"Helvetica,sans-Serif\" font-size=\"14.00\">samples = 53</text>\n<text text-anchor=\"start\" x=\"408.25\" y=\"-20.7\" font-family=\"Helvetica,sans-Serif\" font-size=\"14.00\">value = [22, 31]</text>\n<text text-anchor=\"start\" x=\"418\" y=\"-5.7\" font-family=\"Helvetica,sans-Serif\" font-size=\"14.00\">class = YES</text>\n</g>\n<!-- 5&#45;&gt;7 -->\n<g id=\"edge7\" class=\"edge\">\n<title>5&#45;&gt;7</title>\n<path fill=\"none\" stroke=\"black\" d=\"M382.57,-103.73C392.05,-94.7 402.11,-85.12 411.6,-76.08\"/>\n<polygon fill=\"black\" stroke=\"black\" points=\"413.85,-78.77 418.68,-69.34 409.03,-73.7 413.85,-78.77\"/>\n</g>\n</g>\n</svg>\n",
      "text/plain": "<graphviz.sources.Source at 0x7f9cb98d8ca0>"
     },
     "execution_count": 40,
     "metadata": {},
     "output_type": "execute_result"
    }
   ],
   "source": [
    "\n",
    "\n",
    "# As before, we need to visualize the tree to grasp its nature\n",
    "\n",
    "# Alternatively for class_names use entr_model2.classes_\n",
    "dot_data = tree.export_graphviz(entr_model2, out_file=None,\n",
    "                                feature_names=entr_model2.feature_names_in_,\n",
    "                                class_names=entr_model2.classes_,\n",
    "                                filled=True, rounded=True,\n",
    "                                special_characters=True)\n",
    "graph = graphviz.Source(dot_data)\n",
    "graph\n",
    "\n"
   ]
  },
  {
   "cell_type": "code",
   "execution_count": 41,
   "metadata": {
    "colab": {},
    "colab_type": "code",
    "id": "29f4vmmMDuWy",
    "ExecuteTime": {
     "end_time": "2024-02-06T03:51:11.115243Z",
     "start_time": "2024-02-06T03:51:11.105175Z"
    }
   },
   "outputs": [
    {
     "name": "stdout",
     "output_type": "stream",
     "text": [
      "Model Entropy model max depth 3\n",
      "Accuracy: 0.907563025210084\n",
      "Balanced accuracy: 0.8658536585365854\n",
      "Precision score for \"Yes\" 0.8764044943820225\n",
      "Recall score for \"No\" 0.7317073170731707\n"
     ]
    }
   ],
   "source": [
    "# Run this block for model evaluation \n",
    "print(\"Model Entropy model max depth 3\")\n",
    "print(\"Accuracy:\", metrics.accuracy_score(y_test,y_pred))\n",
    "print(\"Balanced accuracy:\", metrics.balanced_accuracy_score(y_test,y_pred))\n",
    "print('Precision score for \"Yes\"' , metrics.precision_score(y_test,y_pred, pos_label = \"YES\"))\n",
    "print('Recall score for \"No\"' , metrics.recall_score(y_test,y_pred, pos_label = \"NO\"))"
   ]
  },
  {
   "cell_type": "markdown",
   "metadata": {
    "colab_type": "text",
    "id": "AG7S2YgUDuW4"
   },
   "source": [
    "So our accuracy decreased, but is this certainly an inferior tree to the max depth original tree we did with Model 1? Write your conclusions here:"
   ]
  },
  {
   "cell_type": "markdown",
   "source": [
    "The accuracy, Precision score and Recall score for test set are not very good compared with previous two. In this specific model, we only use 2 features instead on 3"
   ],
   "metadata": {
    "collapsed": false
   }
  },
  {
   "cell_type": "markdown",
   "metadata": {
    "colab_type": "text",
    "id": "FZTl4W3wDuW4"
   },
   "source": [
    "## Model 4: Gini impurity  model - max depth 3\n",
    "We're now going to try the same with the Gini impurity model. "
   ]
  },
  {
   "cell_type": "code",
   "execution_count": 42,
   "metadata": {
    "colab": {},
    "colab_type": "code",
    "id": "FJK1bkG3DuW5",
    "ExecuteTime": {
     "end_time": "2024-02-06T03:53:24.927624Z",
     "start_time": "2024-02-06T03:53:24.919858Z"
    }
   },
   "outputs": [
    {
     "data": {
      "text/plain": "DecisionTreeClassifier(max_depth=3, random_state=1234)",
      "text/html": "<style>#sk-container-id-4 {color: black;background-color: white;}#sk-container-id-4 pre{padding: 0;}#sk-container-id-4 div.sk-toggleable {background-color: white;}#sk-container-id-4 label.sk-toggleable__label {cursor: pointer;display: block;width: 100%;margin-bottom: 0;padding: 0.3em;box-sizing: border-box;text-align: center;}#sk-container-id-4 label.sk-toggleable__label-arrow:before {content: \"▸\";float: left;margin-right: 0.25em;color: #696969;}#sk-container-id-4 label.sk-toggleable__label-arrow:hover:before {color: black;}#sk-container-id-4 div.sk-estimator:hover label.sk-toggleable__label-arrow:before {color: black;}#sk-container-id-4 div.sk-toggleable__content {max-height: 0;max-width: 0;overflow: hidden;text-align: left;background-color: #f0f8ff;}#sk-container-id-4 div.sk-toggleable__content pre {margin: 0.2em;color: black;border-radius: 0.25em;background-color: #f0f8ff;}#sk-container-id-4 input.sk-toggleable__control:checked~div.sk-toggleable__content {max-height: 200px;max-width: 100%;overflow: auto;}#sk-container-id-4 input.sk-toggleable__control:checked~label.sk-toggleable__label-arrow:before {content: \"▾\";}#sk-container-id-4 div.sk-estimator input.sk-toggleable__control:checked~label.sk-toggleable__label {background-color: #d4ebff;}#sk-container-id-4 div.sk-label input.sk-toggleable__control:checked~label.sk-toggleable__label {background-color: #d4ebff;}#sk-container-id-4 input.sk-hidden--visually {border: 0;clip: rect(1px 1px 1px 1px);clip: rect(1px, 1px, 1px, 1px);height: 1px;margin: -1px;overflow: hidden;padding: 0;position: absolute;width: 1px;}#sk-container-id-4 div.sk-estimator {font-family: monospace;background-color: #f0f8ff;border: 1px dotted black;border-radius: 0.25em;box-sizing: border-box;margin-bottom: 0.5em;}#sk-container-id-4 div.sk-estimator:hover {background-color: #d4ebff;}#sk-container-id-4 div.sk-parallel-item::after {content: \"\";width: 100%;border-bottom: 1px solid gray;flex-grow: 1;}#sk-container-id-4 div.sk-label:hover label.sk-toggleable__label {background-color: #d4ebff;}#sk-container-id-4 div.sk-serial::before {content: \"\";position: absolute;border-left: 1px solid gray;box-sizing: border-box;top: 0;bottom: 0;left: 50%;z-index: 0;}#sk-container-id-4 div.sk-serial {display: flex;flex-direction: column;align-items: center;background-color: white;padding-right: 0.2em;padding-left: 0.2em;position: relative;}#sk-container-id-4 div.sk-item {position: relative;z-index: 1;}#sk-container-id-4 div.sk-parallel {display: flex;align-items: stretch;justify-content: center;background-color: white;position: relative;}#sk-container-id-4 div.sk-item::before, #sk-container-id-4 div.sk-parallel-item::before {content: \"\";position: absolute;border-left: 1px solid gray;box-sizing: border-box;top: 0;bottom: 0;left: 50%;z-index: -1;}#sk-container-id-4 div.sk-parallel-item {display: flex;flex-direction: column;z-index: 1;position: relative;background-color: white;}#sk-container-id-4 div.sk-parallel-item:first-child::after {align-self: flex-end;width: 50%;}#sk-container-id-4 div.sk-parallel-item:last-child::after {align-self: flex-start;width: 50%;}#sk-container-id-4 div.sk-parallel-item:only-child::after {width: 0;}#sk-container-id-4 div.sk-dashed-wrapped {border: 1px dashed gray;margin: 0 0.4em 0.5em 0.4em;box-sizing: border-box;padding-bottom: 0.4em;background-color: white;}#sk-container-id-4 div.sk-label label {font-family: monospace;font-weight: bold;display: inline-block;line-height: 1.2em;}#sk-container-id-4 div.sk-label-container {text-align: center;}#sk-container-id-4 div.sk-container {/* jupyter's `normalize.less` sets `[hidden] { display: none; }` but bootstrap.min.css set `[hidden] { display: none !important; }` so we also need the `!important` here to be able to override the default hidden behavior on the sphinx rendered scikit-learn.org. See: https://github.com/scikit-learn/scikit-learn/issues/21755 */display: inline-block !important;position: relative;}#sk-container-id-4 div.sk-text-repr-fallback {display: none;}</style><div id=\"sk-container-id-4\" class=\"sk-top-container\"><div class=\"sk-text-repr-fallback\"><pre>DecisionTreeClassifier(max_depth=3, random_state=1234)</pre><b>In a Jupyter environment, please rerun this cell to show the HTML representation or trust the notebook. <br />On GitHub, the HTML representation is unable to render, please try loading this page with nbviewer.org.</b></div><div class=\"sk-container\" hidden><div class=\"sk-item\"><div class=\"sk-estimator sk-toggleable\"><input class=\"sk-toggleable__control sk-hidden--visually\" id=\"sk-estimator-id-4\" type=\"checkbox\" checked><label for=\"sk-estimator-id-4\" class=\"sk-toggleable__label sk-toggleable__label-arrow\">DecisionTreeClassifier</label><div class=\"sk-toggleable__content\"><pre>DecisionTreeClassifier(max_depth=3, random_state=1234)</pre></div></div></div></div></div>"
     },
     "execution_count": 42,
     "metadata": {},
     "output_type": "execute_result"
    }
   ],
   "source": [
    "\n",
    "\n",
    "# As before, make a variable, but call it gini_model2, and ensure the max_depth parameter is set to 3\n",
    "gini_model2 = tree.DecisionTreeClassifier(criterion='gini', random_state=1234, max_depth=3)\n",
    "\n",
    "# Do the fit, predict, and series transformations as before.\n",
    "gini_model2.fit(X_train, y_train)\n",
    "y_pred = gini_model2.predict(X_test)\n",
    "y_pred = pd.Series(y_pred)\n",
    "gini_model2\n",
    "\n"
   ]
  },
  {
   "cell_type": "code",
   "execution_count": 43,
   "metadata": {
    "colab": {},
    "colab_type": "code",
    "id": "_UIWhKZBDuW7",
    "ExecuteTime": {
     "end_time": "2024-02-06T03:53:36.328219Z",
     "start_time": "2024-02-06T03:53:36.196872Z"
    }
   },
   "outputs": [
    {
     "data": {
      "image/svg+xml": "<?xml version=\"1.0\" encoding=\"UTF-8\" standalone=\"no\"?>\n<!DOCTYPE svg PUBLIC \"-//W3C//DTD SVG 1.1//EN\"\n \"http://www.w3.org/Graphics/SVG/1.1/DTD/svg11.dtd\">\n<!-- Generated by graphviz version 9.0.0 (20230911.1827)\n -->\n<!-- Title: Tree Pages: 1 -->\n<svg width=\"742pt\" height=\"493pt\"\n viewBox=\"0.00 0.00 741.75 493.00\" xmlns=\"http://www.w3.org/2000/svg\" xmlns:xlink=\"http://www.w3.org/1999/xlink\">\n<g id=\"graph0\" class=\"graph\" transform=\"scale(1 1) rotate(0) translate(4 489)\">\n<title>Tree</title>\n<polygon fill=\"white\" stroke=\"none\" points=\"-4,4 -4,-489 737.75,-489 737.75,4 -4,4\"/>\n<!-- 0 -->\n<g id=\"node1\" class=\"node\">\n<title>0</title>\n<path fill=\"#abd6f4\" stroke=\"black\" d=\"M443,-485C443,-485 295,-485 295,-485 289,-485 283,-479 283,-473 283,-473 283,-399 283,-399 283,-393 289,-387 295,-387 295,-387 443,-387 443,-387 449,-387 455,-393 455,-399 455,-399 455,-473 455,-473 455,-479 449,-485 443,-485\"/>\n<text text-anchor=\"start\" x=\"344.62\" y=\"-467.7\" font-family=\"Helvetica,sans-Serif\" font-size=\"14.00\">node #0</text>\n<text text-anchor=\"start\" x=\"291\" y=\"-452.7\" font-family=\"Helvetica,sans-Serif\" font-size=\"14.00\">spent_last_month ≤ 100.5</text>\n<text text-anchor=\"start\" x=\"333.75\" y=\"-437.7\" font-family=\"Helvetica,sans-Serif\" font-size=\"14.00\">gini = 0.464</text>\n<text text-anchor=\"start\" x=\"324.38\" y=\"-422.7\" font-family=\"Helvetica,sans-Serif\" font-size=\"14.00\">samples = 355</text>\n<text text-anchor=\"start\" x=\"315\" y=\"-407.7\" font-family=\"Helvetica,sans-Serif\" font-size=\"14.00\">value = [130, 225]</text>\n<text text-anchor=\"start\" x=\"332.25\" y=\"-392.7\" font-family=\"Helvetica,sans-Serif\" font-size=\"14.00\">class = YES</text>\n</g>\n<!-- 1 -->\n<g id=\"node2\" class=\"node\">\n<title>1</title>\n<path fill=\"#f0b48a\" stroke=\"black\" d=\"M348.62,-351C348.62,-351 255.38,-351 255.38,-351 249.38,-351 243.38,-345 243.38,-339 243.38,-339 243.38,-265 243.38,-265 243.38,-259 249.38,-253 255.38,-253 255.38,-253 348.62,-253 348.62,-253 354.62,-253 360.62,-259 360.62,-265 360.62,-265 360.62,-339 360.62,-339 360.62,-345 354.62,-351 348.62,-351\"/>\n<text text-anchor=\"start\" x=\"277.62\" y=\"-333.7\" font-family=\"Helvetica,sans-Serif\" font-size=\"14.00\">node #1</text>\n<text text-anchor=\"start\" x=\"251.38\" y=\"-318.7\" font-family=\"Helvetica,sans-Serif\" font-size=\"14.00\">Distance ≤ 3.754</text>\n<text text-anchor=\"start\" x=\"266.75\" y=\"-303.7\" font-family=\"Helvetica,sans-Serif\" font-size=\"14.00\">gini = 0.411</text>\n<text text-anchor=\"start\" x=\"257.38\" y=\"-288.7\" font-family=\"Helvetica,sans-Serif\" font-size=\"14.00\">samples = 152</text>\n<text text-anchor=\"start\" x=\"251.75\" y=\"-273.7\" font-family=\"Helvetica,sans-Serif\" font-size=\"14.00\">value = [108, 44]</text>\n<text text-anchor=\"start\" x=\"268.25\" y=\"-258.7\" font-family=\"Helvetica,sans-Serif\" font-size=\"14.00\">class = NO</text>\n</g>\n<!-- 0&#45;&gt;1 -->\n<g id=\"edge1\" class=\"edge\">\n<title>0&#45;&gt;1</title>\n<path fill=\"none\" stroke=\"black\" d=\"M344.43,-386.6C340.29,-378.44 335.95,-369.89 331.7,-361.51\"/>\n<polygon fill=\"black\" stroke=\"black\" points=\"334.9,-360.08 327.25,-352.75 328.66,-363.25 334.9,-360.08\"/>\n<text text-anchor=\"middle\" x=\"318.8\" y=\"-369.36\" font-family=\"Helvetica,sans-Serif\" font-size=\"14.00\">True</text>\n</g>\n<!-- 8 -->\n<g id=\"node9\" class=\"node\">\n<title>8</title>\n<path fill=\"#51a9e8\" stroke=\"black\" d=\"M483.62,-351C483.62,-351 390.38,-351 390.38,-351 384.38,-351 378.38,-345 378.38,-339 378.38,-339 378.38,-265 378.38,-265 378.38,-259 384.38,-253 390.38,-253 390.38,-253 483.62,-253 483.62,-253 489.62,-253 495.62,-259 495.62,-265 495.62,-265 495.62,-339 495.62,-339 495.62,-345 489.62,-351 483.62,-351\"/>\n<text text-anchor=\"start\" x=\"412.62\" y=\"-333.7\" font-family=\"Helvetica,sans-Serif\" font-size=\"14.00\">node #8</text>\n<text text-anchor=\"start\" x=\"386.38\" y=\"-318.7\" font-family=\"Helvetica,sans-Serif\" font-size=\"14.00\">Distance ≤ 8.047</text>\n<text text-anchor=\"start\" x=\"401.75\" y=\"-303.7\" font-family=\"Helvetica,sans-Serif\" font-size=\"14.00\">gini = 0.193</text>\n<text text-anchor=\"start\" x=\"392.38\" y=\"-288.7\" font-family=\"Helvetica,sans-Serif\" font-size=\"14.00\">samples = 203</text>\n<text text-anchor=\"start\" x=\"386.75\" y=\"-273.7\" font-family=\"Helvetica,sans-Serif\" font-size=\"14.00\">value = [22, 181]</text>\n<text text-anchor=\"start\" x=\"400.25\" y=\"-258.7\" font-family=\"Helvetica,sans-Serif\" font-size=\"14.00\">class = YES</text>\n</g>\n<!-- 0&#45;&gt;8 -->\n<g id=\"edge8\" class=\"edge\">\n<title>0&#45;&gt;8</title>\n<path fill=\"none\" stroke=\"black\" d=\"M393.93,-386.6C398.14,-378.44 402.54,-369.89 406.86,-361.51\"/>\n<polygon fill=\"black\" stroke=\"black\" points=\"409.91,-363.23 411.38,-352.74 403.68,-360.03 409.91,-363.23\"/>\n<text text-anchor=\"middle\" x=\"419.69\" y=\"-369.41\" font-family=\"Helvetica,sans-Serif\" font-size=\"14.00\">False</text>\n</g>\n<!-- 2 -->\n<g id=\"node3\" class=\"node\">\n<title>2</title>\n<path fill=\"#6cb6ec\" stroke=\"black\" d=\"M224.25,-217C224.25,-217 83.75,-217 83.75,-217 77.75,-217 71.75,-211 71.75,-205 71.75,-205 71.75,-131 71.75,-131 71.75,-125 77.75,-119 83.75,-119 83.75,-119 224.25,-119 224.25,-119 230.25,-119 236.25,-125 236.25,-131 236.25,-131 236.25,-205 236.25,-205 236.25,-211 230.25,-217 224.25,-217\"/>\n<text text-anchor=\"start\" x=\"129.62\" y=\"-199.7\" font-family=\"Helvetica,sans-Serif\" font-size=\"14.00\">node #2</text>\n<text text-anchor=\"start\" x=\"79.75\" y=\"-184.7\" font-family=\"Helvetica,sans-Serif\" font-size=\"14.00\">spent_last_month ≤ 24.5</text>\n<text text-anchor=\"start\" x=\"118.75\" y=\"-169.7\" font-family=\"Helvetica,sans-Serif\" font-size=\"14.00\">gini = 0.324</text>\n<text text-anchor=\"start\" x=\"113.12\" y=\"-154.7\" font-family=\"Helvetica,sans-Serif\" font-size=\"14.00\">samples = 54</text>\n<text text-anchor=\"start\" x=\"107.5\" y=\"-139.7\" font-family=\"Helvetica,sans-Serif\" font-size=\"14.00\">value = [11, 43]</text>\n<text text-anchor=\"start\" x=\"117.25\" y=\"-124.7\" font-family=\"Helvetica,sans-Serif\" font-size=\"14.00\">class = YES</text>\n</g>\n<!-- 1&#45;&gt;2 -->\n<g id=\"edge2\" class=\"edge\">\n<title>1&#45;&gt;2</title>\n<path fill=\"none\" stroke=\"black\" d=\"M247.73,-252.6C237.68,-243.63 227.1,-234.2 216.81,-225.02\"/>\n<polygon fill=\"black\" stroke=\"black\" points=\"219.18,-222.45 209.39,-218.4 214.53,-227.67 219.18,-222.45\"/>\n</g>\n<!-- 5 -->\n<g id=\"node6\" class=\"node\">\n<title>5</title>\n<path fill=\"#e5823b\" stroke=\"black\" d=\"M344.12,-217C344.12,-217 265.88,-217 265.88,-217 259.88,-217 253.88,-211 253.88,-205 253.88,-205 253.88,-131 253.88,-131 253.88,-125 259.88,-119 265.88,-119 265.88,-119 344.12,-119 344.12,-119 350.12,-119 356.12,-125 356.12,-131 356.12,-131 356.12,-205 356.12,-205 356.12,-211 350.12,-217 344.12,-217\"/>\n<text text-anchor=\"start\" x=\"280.62\" y=\"-199.7\" font-family=\"Helvetica,sans-Serif\" font-size=\"14.00\">node #5</text>\n<text text-anchor=\"start\" x=\"261.88\" y=\"-184.7\" font-family=\"Helvetica,sans-Serif\" font-size=\"14.00\">Distance ≤ 4.0</text>\n<text text-anchor=\"start\" x=\"273.5\" y=\"-169.7\" font-family=\"Helvetica,sans-Serif\" font-size=\"14.00\">gini = 0.02</text>\n<text text-anchor=\"start\" x=\"264.12\" y=\"-154.7\" font-family=\"Helvetica,sans-Serif\" font-size=\"14.00\">samples = 98</text>\n<text text-anchor=\"start\" x=\"262.25\" y=\"-139.7\" font-family=\"Helvetica,sans-Serif\" font-size=\"14.00\">value = [97, 1]</text>\n<text text-anchor=\"start\" x=\"271.25\" y=\"-124.7\" font-family=\"Helvetica,sans-Serif\" font-size=\"14.00\">class = NO</text>\n</g>\n<!-- 1&#45;&gt;5 -->\n<g id=\"edge5\" class=\"edge\">\n<title>1&#45;&gt;5</title>\n<path fill=\"none\" stroke=\"black\" d=\"M303.1,-252.6C303.28,-244.89 303.46,-236.83 303.64,-228.89\"/>\n<polygon fill=\"black\" stroke=\"black\" points=\"307.14,-228.99 303.87,-218.91 300.14,-228.83 307.14,-228.99\"/>\n</g>\n<!-- 3 -->\n<g id=\"node4\" class=\"node\">\n<title>3</title>\n<path fill=\"#e58139\" stroke=\"black\" d=\"M82,-83C82,-83 12,-83 12,-83 6,-83 0,-77 0,-71 0,-71 0,-12 0,-12 0,-6 6,0 12,0 12,0 82,0 82,0 88,0 94,-6 94,-12 94,-12 94,-71 94,-71 94,-77 88,-83 82,-83\"/>\n<text text-anchor=\"start\" x=\"22.62\" y=\"-65.7\" font-family=\"Helvetica,sans-Serif\" font-size=\"14.00\">node #3</text>\n<text text-anchor=\"start\" x=\"19.25\" y=\"-50.7\" font-family=\"Helvetica,sans-Serif\" font-size=\"14.00\">gini = 0.0</text>\n<text text-anchor=\"start\" x=\"9.88\" y=\"-35.7\" font-family=\"Helvetica,sans-Serif\" font-size=\"14.00\">samples = 8</text>\n<text text-anchor=\"start\" x=\"8\" y=\"-20.7\" font-family=\"Helvetica,sans-Serif\" font-size=\"14.00\">value = [8, 0]</text>\n<text text-anchor=\"start\" x=\"13.25\" y=\"-5.7\" font-family=\"Helvetica,sans-Serif\" font-size=\"14.00\">class = NO</text>\n</g>\n<!-- 2&#45;&gt;3 -->\n<g id=\"edge3\" class=\"edge\">\n<title>2&#45;&gt;3</title>\n<path fill=\"none\" stroke=\"black\" d=\"M112.32,-118.51C104.84,-109.8 97.04,-100.72 89.53,-91.99\"/>\n<polygon fill=\"black\" stroke=\"black\" points=\"92.31,-89.85 83.14,-84.55 87,-94.41 92.31,-89.85\"/>\n</g>\n<!-- 4 -->\n<g id=\"node5\" class=\"node\">\n<title>4</title>\n<path fill=\"#47a4e7\" stroke=\"black\" d=\"M201.75,-83C201.75,-83 124.25,-83 124.25,-83 118.25,-83 112.25,-77 112.25,-71 112.25,-71 112.25,-12 112.25,-12 112.25,-6 118.25,0 124.25,0 124.25,0 201.75,0 201.75,0 207.75,0 213.75,-6 213.75,-12 213.75,-12 213.75,-71 213.75,-71 213.75,-77 207.75,-83 201.75,-83\"/>\n<text text-anchor=\"start\" x=\"138.62\" y=\"-65.7\" font-family=\"Helvetica,sans-Serif\" font-size=\"14.00\">node #4</text>\n<text text-anchor=\"start\" x=\"127.75\" y=\"-50.7\" font-family=\"Helvetica,sans-Serif\" font-size=\"14.00\">gini = 0.122</text>\n<text text-anchor=\"start\" x=\"122.12\" y=\"-35.7\" font-family=\"Helvetica,sans-Serif\" font-size=\"14.00\">samples = 46</text>\n<text text-anchor=\"start\" x=\"120.25\" y=\"-20.7\" font-family=\"Helvetica,sans-Serif\" font-size=\"14.00\">value = [3, 43]</text>\n<text text-anchor=\"start\" x=\"126.25\" y=\"-5.7\" font-family=\"Helvetica,sans-Serif\" font-size=\"14.00\">class = YES</text>\n</g>\n<!-- 2&#45;&gt;4 -->\n<g id=\"edge4\" class=\"edge\">\n<title>2&#45;&gt;4</title>\n<path fill=\"none\" stroke=\"black\" d=\"M157.51,-118.51C158.07,-110.71 158.65,-102.61 159.22,-94.73\"/>\n<polygon fill=\"black\" stroke=\"black\" points=\"162.7,-95.13 159.93,-84.91 155.72,-94.63 162.7,-95.13\"/>\n</g>\n<!-- 6 -->\n<g id=\"node7\" class=\"node\">\n<title>6</title>\n<path fill=\"#f2c09c\" stroke=\"black\" d=\"M331,-83C331,-83 261,-83 261,-83 255,-83 249,-77 249,-71 249,-71 249,-12 249,-12 249,-6 255,0 261,0 261,0 331,0 331,0 337,0 343,-6 343,-12 343,-12 343,-71 343,-71 343,-77 337,-83 331,-83\"/>\n<text text-anchor=\"start\" x=\"271.62\" y=\"-65.7\" font-family=\"Helvetica,sans-Serif\" font-size=\"14.00\">node #6</text>\n<text text-anchor=\"start\" x=\"260.75\" y=\"-50.7\" font-family=\"Helvetica,sans-Serif\" font-size=\"14.00\">gini = 0.444</text>\n<text text-anchor=\"start\" x=\"258.88\" y=\"-35.7\" font-family=\"Helvetica,sans-Serif\" font-size=\"14.00\">samples = 3</text>\n<text text-anchor=\"start\" x=\"257\" y=\"-20.7\" font-family=\"Helvetica,sans-Serif\" font-size=\"14.00\">value = [2, 1]</text>\n<text text-anchor=\"start\" x=\"262.25\" y=\"-5.7\" font-family=\"Helvetica,sans-Serif\" font-size=\"14.00\">class = NO</text>\n</g>\n<!-- 5&#45;&gt;6 -->\n<g id=\"edge6\" class=\"edge\">\n<title>5&#45;&gt;6</title>\n<path fill=\"none\" stroke=\"black\" d=\"M301.49,-118.51C300.93,-110.71 300.35,-102.61 299.78,-94.73\"/>\n<polygon fill=\"black\" stroke=\"black\" points=\"303.28,-94.63 299.07,-84.91 296.3,-95.13 303.28,-94.63\"/>\n</g>\n<!-- 7 -->\n<g id=\"node8\" class=\"node\">\n<title>7</title>\n<path fill=\"#e58139\" stroke=\"black\" d=\"M450.75,-83C450.75,-83 373.25,-83 373.25,-83 367.25,-83 361.25,-77 361.25,-71 361.25,-71 361.25,-12 361.25,-12 361.25,-6 367.25,0 373.25,0 373.25,0 450.75,0 450.75,0 456.75,0 462.75,-6 462.75,-12 462.75,-12 462.75,-71 462.75,-71 462.75,-77 456.75,-83 450.75,-83\"/>\n<text text-anchor=\"start\" x=\"387.62\" y=\"-65.7\" font-family=\"Helvetica,sans-Serif\" font-size=\"14.00\">node #7</text>\n<text text-anchor=\"start\" x=\"384.25\" y=\"-50.7\" font-family=\"Helvetica,sans-Serif\" font-size=\"14.00\">gini = 0.0</text>\n<text text-anchor=\"start\" x=\"371.12\" y=\"-35.7\" font-family=\"Helvetica,sans-Serif\" font-size=\"14.00\">samples = 95</text>\n<text text-anchor=\"start\" x=\"369.25\" y=\"-20.7\" font-family=\"Helvetica,sans-Serif\" font-size=\"14.00\">value = [95, 0]</text>\n<text text-anchor=\"start\" x=\"378.25\" y=\"-5.7\" font-family=\"Helvetica,sans-Serif\" font-size=\"14.00\">class = NO</text>\n</g>\n<!-- 5&#45;&gt;7 -->\n<g id=\"edge7\" class=\"edge\">\n<title>5&#45;&gt;7</title>\n<path fill=\"none\" stroke=\"black\" d=\"M346.68,-118.51C354.16,-109.8 361.96,-100.72 369.47,-91.99\"/>\n<polygon fill=\"black\" stroke=\"black\" points=\"372,-94.41 375.86,-84.55 366.69,-89.85 372,-94.41\"/>\n</g>\n<!-- 9 -->\n<g id=\"node10\" class=\"node\">\n<title>9</title>\n<path fill=\"#399de5\" stroke=\"black\" d=\"M476.5,-209.5C476.5,-209.5 391.5,-209.5 391.5,-209.5 385.5,-209.5 379.5,-203.5 379.5,-197.5 379.5,-197.5 379.5,-138.5 379.5,-138.5 379.5,-132.5 385.5,-126.5 391.5,-126.5 391.5,-126.5 476.5,-126.5 476.5,-126.5 482.5,-126.5 488.5,-132.5 488.5,-138.5 488.5,-138.5 488.5,-197.5 488.5,-197.5 488.5,-203.5 482.5,-209.5 476.5,-209.5\"/>\n<text text-anchor=\"start\" x=\"409.62\" y=\"-192.2\" font-family=\"Helvetica,sans-Serif\" font-size=\"14.00\">node #9</text>\n<text text-anchor=\"start\" x=\"406.25\" y=\"-177.2\" font-family=\"Helvetica,sans-Serif\" font-size=\"14.00\">gini = 0.0</text>\n<text text-anchor=\"start\" x=\"389.38\" y=\"-162.2\" font-family=\"Helvetica,sans-Serif\" font-size=\"14.00\">samples = 158</text>\n<text text-anchor=\"start\" x=\"387.5\" y=\"-147.2\" font-family=\"Helvetica,sans-Serif\" font-size=\"14.00\">value = [0, 158]</text>\n<text text-anchor=\"start\" x=\"397.25\" y=\"-132.2\" font-family=\"Helvetica,sans-Serif\" font-size=\"14.00\">class = YES</text>\n</g>\n<!-- 8&#45;&gt;9 -->\n<g id=\"edge9\" class=\"edge\">\n<title>8&#45;&gt;9</title>\n<path fill=\"none\" stroke=\"black\" d=\"M435.9,-252.6C435.67,-242.33 435.42,-231.46 435.18,-221.06\"/>\n<polygon fill=\"black\" stroke=\"black\" points=\"438.68,-221.02 434.96,-211.1 431.69,-221.18 438.68,-221.02\"/>\n</g>\n<!-- 10 -->\n<g id=\"node11\" class=\"node\">\n<title>10</title>\n<path fill=\"#f6fbfe\" stroke=\"black\" d=\"M667,-217C667,-217 519,-217 519,-217 513,-217 507,-211 507,-205 507,-205 507,-131 507,-131 507,-125 513,-119 519,-119 519,-119 667,-119 667,-119 673,-119 679,-125 679,-131 679,-131 679,-205 679,-205 679,-211 673,-217 667,-217\"/>\n<text text-anchor=\"start\" x=\"564.88\" y=\"-199.7\" font-family=\"Helvetica,sans-Serif\" font-size=\"14.00\">node #10</text>\n<text text-anchor=\"start\" x=\"515\" y=\"-184.7\" font-family=\"Helvetica,sans-Serif\" font-size=\"14.00\">spent_last_month ≤ 140.5</text>\n<text text-anchor=\"start\" x=\"565.25\" y=\"-169.7\" font-family=\"Helvetica,sans-Serif\" font-size=\"14.00\">gini = 0.5</text>\n<text text-anchor=\"start\" x=\"552.12\" y=\"-154.7\" font-family=\"Helvetica,sans-Serif\" font-size=\"14.00\">samples = 45</text>\n<text text-anchor=\"start\" x=\"546.5\" y=\"-139.7\" font-family=\"Helvetica,sans-Serif\" font-size=\"14.00\">value = [22, 23]</text>\n<text text-anchor=\"start\" x=\"556.25\" y=\"-124.7\" font-family=\"Helvetica,sans-Serif\" font-size=\"14.00\">class = YES</text>\n</g>\n<!-- 8&#45;&gt;10 -->\n<g id=\"edge10\" class=\"edge\">\n<title>8&#45;&gt;10</title>\n<path fill=\"none\" stroke=\"black\" d=\"M494.2,-252.6C504.91,-243.54 516.17,-234.01 527.12,-224.75\"/>\n<polygon fill=\"black\" stroke=\"black\" points=\"529.28,-227.51 534.65,-218.37 524.75,-222.16 529.28,-227.51\"/>\n</g>\n<!-- 11 -->\n<g id=\"node12\" class=\"node\">\n<title>11</title>\n<path fill=\"#e58139\" stroke=\"black\" d=\"M601.75,-83C601.75,-83 524.25,-83 524.25,-83 518.25,-83 512.25,-77 512.25,-71 512.25,-71 512.25,-12 512.25,-12 512.25,-6 518.25,0 524.25,0 524.25,0 601.75,0 601.75,0 607.75,0 613.75,-6 613.75,-12 613.75,-12 613.75,-71 613.75,-71 613.75,-77 607.75,-83 601.75,-83\"/>\n<text text-anchor=\"start\" x=\"534.88\" y=\"-65.7\" font-family=\"Helvetica,sans-Serif\" font-size=\"14.00\">node #11</text>\n<text text-anchor=\"start\" x=\"535.25\" y=\"-50.7\" font-family=\"Helvetica,sans-Serif\" font-size=\"14.00\">gini = 0.0</text>\n<text text-anchor=\"start\" x=\"522.12\" y=\"-35.7\" font-family=\"Helvetica,sans-Serif\" font-size=\"14.00\">samples = 22</text>\n<text text-anchor=\"start\" x=\"520.25\" y=\"-20.7\" font-family=\"Helvetica,sans-Serif\" font-size=\"14.00\">value = [22, 0]</text>\n<text text-anchor=\"start\" x=\"529.25\" y=\"-5.7\" font-family=\"Helvetica,sans-Serif\" font-size=\"14.00\">class = NO</text>\n</g>\n<!-- 10&#45;&gt;11 -->\n<g id=\"edge11\" class=\"edge\">\n<title>10&#45;&gt;11</title>\n<path fill=\"none\" stroke=\"black\" d=\"M581.32,-118.51C579.41,-110.62 577.44,-102.42 575.52,-94.45\"/>\n<polygon fill=\"black\" stroke=\"black\" points=\"578.95,-93.77 573.21,-84.87 572.15,-95.41 578.95,-93.77\"/>\n</g>\n<!-- 12 -->\n<g id=\"node13\" class=\"node\">\n<title>12</title>\n<path fill=\"#399de5\" stroke=\"black\" d=\"M721.75,-83C721.75,-83 644.25,-83 644.25,-83 638.25,-83 632.25,-77 632.25,-71 632.25,-71 632.25,-12 632.25,-12 632.25,-6 638.25,0 644.25,0 644.25,0 721.75,0 721.75,0 727.75,0 733.75,-6 733.75,-12 733.75,-12 733.75,-71 733.75,-71 733.75,-77 727.75,-83 721.75,-83\"/>\n<text text-anchor=\"start\" x=\"654.88\" y=\"-65.7\" font-family=\"Helvetica,sans-Serif\" font-size=\"14.00\">node #12</text>\n<text text-anchor=\"start\" x=\"655.25\" y=\"-50.7\" font-family=\"Helvetica,sans-Serif\" font-size=\"14.00\">gini = 0.0</text>\n<text text-anchor=\"start\" x=\"642.12\" y=\"-35.7\" font-family=\"Helvetica,sans-Serif\" font-size=\"14.00\">samples = 23</text>\n<text text-anchor=\"start\" x=\"640.25\" y=\"-20.7\" font-family=\"Helvetica,sans-Serif\" font-size=\"14.00\">value = [0, 23]</text>\n<text text-anchor=\"start\" x=\"646.25\" y=\"-5.7\" font-family=\"Helvetica,sans-Serif\" font-size=\"14.00\">class = YES</text>\n</g>\n<!-- 10&#45;&gt;12 -->\n<g id=\"edge12\" class=\"edge\">\n<title>10&#45;&gt;12</title>\n<path fill=\"none\" stroke=\"black\" d=\"M628.05,-118.51C634.22,-109.98 640.64,-101.1 646.83,-92.53\"/>\n<polygon fill=\"black\" stroke=\"black\" points=\"649.53,-94.78 652.55,-84.62 643.85,-90.68 649.53,-94.78\"/>\n</g>\n</g>\n</svg>\n",
      "text/plain": "<graphviz.sources.Source at 0x7f9cb98301f0>"
     },
     "execution_count": 43,
     "metadata": {},
     "output_type": "execute_result"
    }
   ],
   "source": [
    "\n",
    "\n",
    "# Alternatively for class_names use gini_model2.classes_\n",
    "dot_data = StringIO()\n",
    "\n",
    "dot_data = tree.export_graphviz(gini_model2, out_file=None, node_ids=True,\n",
    "                                feature_names=gini_model2.feature_names_in_,\n",
    "                                class_names=gini_model2.classes_,\n",
    "                                filled=True, rounded=True,\n",
    "                                special_characters=True)\n",
    "graph = graphviz.Source(dot_data)\n",
    "graph\n",
    "\n"
   ]
  },
  {
   "cell_type": "code",
   "execution_count": 44,
   "metadata": {
    "colab": {},
    "colab_type": "code",
    "id": "R4t7e9-GDuW9",
    "ExecuteTime": {
     "end_time": "2024-02-06T03:54:06.890087Z",
     "start_time": "2024-02-06T03:54:06.876529Z"
    }
   },
   "outputs": [
    {
     "name": "stdout",
     "output_type": "stream",
     "text": [
      "Gini impurity  model - max depth 3\n",
      "Accuracy: 0.9747899159663865\n",
      "Balanced accuracy: 0.9691994996873046\n",
      "Precision score 0.9746835443037974\n",
      "Recall score 0.9512195121951219\n"
     ]
    }
   ],
   "source": [
    "print(\"Gini impurity  model - max depth 3\")\n",
    "print(\"Accuracy:\", metrics.accuracy_score(y_test,y_pred))\n",
    "print(\"Balanced accuracy:\", metrics.balanced_accuracy_score(y_test,y_pred))\n",
    "print('Precision score' , metrics.precision_score(y_test,y_pred, pos_label = \"YES\"))\n",
    "print('Recall score' , metrics.recall_score(y_test,y_pred, pos_label = \"NO\"))"
   ]
  },
  {
   "cell_type": "markdown",
   "metadata": {
    "colab_type": "text",
    "id": "UzGThBXSDuW-"
   },
   "source": [
    "Now this is an elegant tree. Its accuracy might not be the highest, but it's still the best model we've produced so far. Why is that? Write your answer here:"
   ]
  },
  {
   "cell_type": "markdown",
   "source": [
    "The accuracy, Precision score and Recall score for test set are not the best but very close"
   ],
   "metadata": {
    "collapsed": false
   }
  },
  {
   "cell_type": "markdown",
   "metadata": {
    "colab_type": "text",
    "id": "jS1niFlCDuW_"
   },
   "source": [
    "# 4. Evaluating and concluding\n",
    "## 4a. How many customers will buy Hidden Farm coffee? \n",
    "Let's first ascertain how many loyal customers claimed, in the survey, that they will purchase the Hidden Farm coffee. "
   ]
  },
  {
   "cell_type": "code",
   "execution_count": 45,
   "metadata": {
    "colab": {},
    "colab_type": "code",
    "id": "QPHXnHZvDuXC",
    "ExecuteTime": {
     "end_time": "2024-02-06T03:55:47.946051Z",
     "start_time": "2024-02-06T03:55:47.924493Z"
    }
   },
   "outputs": [
    {
     "data": {
      "text/plain": "YES    303\nNO     171\nName: Decision, dtype: int64"
     },
     "execution_count": 45,
     "metadata": {},
     "output_type": "execute_result"
    }
   ],
   "source": [
    "# Call value_counts() on the 'Decision' column of the original coffeeData\n",
    "coffeeData.Decision.value_counts()"
   ]
  },
  {
   "cell_type": "markdown",
   "metadata": {
    "colab_type": "text",
    "id": "kw_5g_ZEDuXD"
   },
   "source": [
    "Let's now determine the number of people that, according to the model, will be willing to buy the Hidden Farm coffee. \n",
    "1. First we subset the Prediction dataset into `new_X` considering all the variables except `Decision` \n",
    "2. Use that dataset to predict a new variable called `potential_buyers`"
   ]
  },
  {
   "cell_type": "code",
   "execution_count": 46,
   "metadata": {
    "colab": {},
    "colab_type": "code",
    "id": "mwypR8ymDuXE",
    "ExecuteTime": {
     "end_time": "2024-02-06T03:57:44.586019Z",
     "start_time": "2024-02-06T03:57:44.579371Z"
    }
   },
   "outputs": [],
   "source": [
    "# Feature selection\n",
    "# Make a variable called feature_cols, and assign it a list containing all the column names except 'Decision'\n",
    "feature_cols = ['Age', 'Gender', 'num_coffeeBags_per_year', 'spent_last_week',\n",
    "                'spent_last_month', 'salary', 'Distance', 'Online']\n",
    "# Make a variable called new_X, and assign it the subset of Prediction, containing just the feature_cols\n",
    "new_X = Prediction[feature_cols]\n"
   ]
  },
  {
   "cell_type": "code",
   "execution_count": 47,
   "metadata": {
    "colab": {},
    "colab_type": "code",
    "id": "0ajvbeRSDuXG",
    "ExecuteTime": {
     "end_time": "2024-02-06T03:59:24.917036Z",
     "start_time": "2024-02-06T03:59:24.911663Z"
    }
   },
   "outputs": [],
   "source": [
    "# Call get_dummies() on the Pandas object pd, with new_X plugged in, to one-hot encode all features in the training set\n",
    "new_X = pd.get_dummies(new_X)\n",
    "\n",
    "# Make a variable called potential_buyers, and assign it the result of calling predict() on a model of your choice; \n",
    "# don't forget to pass new_X to predict()\n",
    "potential_buyers = gini_model2.predict(new_X)"
   ]
  },
  {
   "cell_type": "code",
   "execution_count": 48,
   "metadata": {
    "colab": {},
    "colab_type": "code",
    "id": "-MO_KWT9DuXI",
    "ExecuteTime": {
     "end_time": "2024-02-06T03:59:59.236370Z",
     "start_time": "2024-02-06T03:59:59.221388Z"
    }
   },
   "outputs": [
    {
     "data": {
      "text/plain": "(array(['NO', 'YES'], dtype=object), array([ 45, 183]))"
     },
     "execution_count": 48,
     "metadata": {},
     "output_type": "execute_result"
    }
   ],
   "source": [
    "# Let's get the numbers of YES's and NO's in the potential buyers \n",
    "# Call unique() on np, and pass potential_buyers and return_counts=True \n",
    "np.unique(potential_buyers, return_counts=True)"
   ]
  },
  {
   "cell_type": "markdown",
   "metadata": {
    "colab_type": "text",
    "id": "3CB7HbiTDuXJ"
   },
   "source": [
    "The total number of potential buyers is 303 + 183 = 486"
   ]
  },
  {
   "cell_type": "code",
   "execution_count": 49,
   "metadata": {
    "colab": {},
    "colab_type": "code",
    "id": "9EGFQcTuDuXK",
    "ExecuteTime": {
     "end_time": "2024-02-06T04:01:52.491242Z",
     "start_time": "2024-02-06T04:01:52.483748Z"
    }
   },
   "outputs": [
    {
     "data": {
      "text/plain": "(702, 9)"
     },
     "execution_count": 49,
     "metadata": {},
     "output_type": "execute_result"
    }
   ],
   "source": [
    "# Print the total number of surveyed people \n",
    "coffeeData.shape\n"
   ]
  },
  {
   "cell_type": "code",
   "execution_count": 50,
   "metadata": {
    "colab": {},
    "colab_type": "code",
    "id": "22_KRMX4DuXM",
    "ExecuteTime": {
     "end_time": "2024-02-06T04:02:09.233893Z",
     "start_time": "2024-02-06T04:02:09.225774Z"
    }
   },
   "outputs": [
    {
     "data": {
      "text/plain": "0.6923076923076923"
     },
     "execution_count": 50,
     "metadata": {},
     "output_type": "execute_result"
    }
   ],
   "source": [
    "# Let's calculate the proportion of buyers\n",
    "486/702"
   ]
  },
  {
   "cell_type": "code",
   "execution_count": 54,
   "metadata": {
    "colab": {},
    "colab_type": "code",
    "id": "xLMCDMpmDuXO",
    "ExecuteTime": {
     "end_time": "2024-02-06T04:03:53.524990Z",
     "start_time": "2024-02-06T04:03:53.510726Z"
    }
   },
   "outputs": [
    {
     "data": {
      "text/plain": "69.23076923076923"
     },
     "execution_count": 54,
     "metadata": {},
     "output_type": "execute_result"
    }
   ],
   "source": [
    "# Print the percentage of people who want to buy the Hidden Farm coffee, by our model \n",
    "486/702 * 100"
   ]
  },
  {
   "cell_type": "markdown",
   "metadata": {
    "colab_type": "text",
    "id": "9bRDyi6rDuXQ"
   },
   "source": [
    "## 4b. Decision\n",
    "Remember how you thought at the start: if more than 70% of the interviewed customers are likely to buy the Hidden Farm coffee, you will strike the deal with the local Hidden Farm farmers and sell the coffee. Otherwise, you won't strike the deal and the Hidden Farm coffee will remain in legends only. Well now's crunch time. Are you going to go ahead with that idea? If so, you won't be striking the deal with the Chinese farmers. \n",
    "\n",
    "They're called `decision trees`, aren't they? So where's the decision? What should you do? (Cue existential cat emoji). \n",
    "\n",
    "Ultimately, though, we can't write an algorithm to actually *make the business decision* for us. This is because such decisions depend on our values, what risks we are willing to take, the stakes of our decisions, and how important it us for us to *know* that we will succeed. What are you going to do with the models you've made? Are you going to risk everything, strike the deal with the *Hidden Farm* farmers, and sell the coffee? \n",
    "\n",
    "The philosopher of language Jason Stanley once wrote that the number of doubts our evidence has to rule out in order for us to know a given proposition depends on our stakes: the higher our stakes, the more doubts our evidence has to rule out, and therefore the harder it is for us to know things. We can end up paralyzed in predicaments; sometimes, we can act to better our situation only if we already know certain things, which we can only if our stakes were lower and we'd *already* bettered our situation. \n",
    "\n",
    "Data science and machine learning can't solve such problems. But what it can do is help us make great use of our data to help *inform* our decisions."
   ]
  },
  {
   "cell_type": "markdown",
   "metadata": {
    "colab_type": "text",
    "id": "crWWrpdox8i-"
   },
   "source": [
    "## 5. Random Forest\n",
    "You might have noticed an important fact about decision trees. Each time we run a given decision tree algorithm to make a prediction (such as whether customers will buy the Hidden Farm coffee) we will actually get a slightly different result. This might seem weird, but it has a simple explanation: machine learning algorithms are by definition ***stochastic***, in that their output is at least partly determined by randomness. \n",
    "\n",
    "To account for this variability and ensure that we get the most accurate prediction, we might want to actually make lots of decision trees, and get a value that captures the centre or average of the outputs of those trees. Luckily, there's a method for this, known as the ***Random Forest***. \n",
    "\n",
    "Essentially, Random Forest involves making lots of trees with similar properties, and then performing summary statistics on the outputs of those trees to reach that central value. Random forests are hugely powerful classifers, and they can improve predictive accuracy and control over-fitting. \n",
    "\n",
    "Why not try to inform your decision with random forest? You'll need to make use of the RandomForestClassifier function within the sklearn.ensemble module, found [here](https://scikit-learn.org/stable/modules/generated/sklearn.ensemble.RandomForestClassifier.html). "
   ]
  },
  {
   "cell_type": "markdown",
   "metadata": {
    "colab_type": "text",
    "id": "fI4fiVWq0IH9"
   },
   "source": [
    "### 5a. Import necessary modules"
   ]
  },
  {
   "cell_type": "code",
   "execution_count": 55,
   "metadata": {
    "colab": {},
    "colab_type": "code",
    "id": "vSRTnHnD0D-O",
    "ExecuteTime": {
     "end_time": "2024-02-06T04:06:23.474898Z",
     "start_time": "2024-02-06T04:06:22.956969Z"
    }
   },
   "outputs": [],
   "source": [
    "from sklearn.ensemble import RandomForestClassifier\n",
    "from sklearn.datasets import make_classification"
   ]
  },
  {
   "cell_type": "markdown",
   "metadata": {
    "colab_type": "text",
    "id": "jKmFvvjb0WB9"
   },
   "source": [
    "### 5b. Model\n",
    "You'll use your X_train and y_train variables just as before.\n",
    "\n",
    "You'll then need to make a variable (call it firstRFModel) to store your new Random Forest model. You'll assign this variable the result of calling RandomForestClassifier().\n",
    "\n",
    "Then, just as before, you'll call fit() on that firstRFModel variable, and plug in X_train and y_train.\n",
    "\n",
    "Finally, you should make a variable called y_pred, and assign it the result of calling the predict() method on your new firstRFModel, with the X_test data passed to it. "
   ]
  },
  {
   "cell_type": "code",
   "execution_count": 56,
   "metadata": {
    "colab": {},
    "colab_type": "code",
    "id": "OQEeTiRG1aSm",
    "ExecuteTime": {
     "end_time": "2024-02-06T04:07:44.823690Z",
     "start_time": "2024-02-06T04:07:44.697721Z"
    }
   },
   "outputs": [
    {
     "data": {
      "text/plain": "RandomForestClassifier(max_depth=3, random_state=1234)",
      "text/html": "<style>#sk-container-id-5 {color: black;background-color: white;}#sk-container-id-5 pre{padding: 0;}#sk-container-id-5 div.sk-toggleable {background-color: white;}#sk-container-id-5 label.sk-toggleable__label {cursor: pointer;display: block;width: 100%;margin-bottom: 0;padding: 0.3em;box-sizing: border-box;text-align: center;}#sk-container-id-5 label.sk-toggleable__label-arrow:before {content: \"▸\";float: left;margin-right: 0.25em;color: #696969;}#sk-container-id-5 label.sk-toggleable__label-arrow:hover:before {color: black;}#sk-container-id-5 div.sk-estimator:hover label.sk-toggleable__label-arrow:before {color: black;}#sk-container-id-5 div.sk-toggleable__content {max-height: 0;max-width: 0;overflow: hidden;text-align: left;background-color: #f0f8ff;}#sk-container-id-5 div.sk-toggleable__content pre {margin: 0.2em;color: black;border-radius: 0.25em;background-color: #f0f8ff;}#sk-container-id-5 input.sk-toggleable__control:checked~div.sk-toggleable__content {max-height: 200px;max-width: 100%;overflow: auto;}#sk-container-id-5 input.sk-toggleable__control:checked~label.sk-toggleable__label-arrow:before {content: \"▾\";}#sk-container-id-5 div.sk-estimator input.sk-toggleable__control:checked~label.sk-toggleable__label {background-color: #d4ebff;}#sk-container-id-5 div.sk-label input.sk-toggleable__control:checked~label.sk-toggleable__label {background-color: #d4ebff;}#sk-container-id-5 input.sk-hidden--visually {border: 0;clip: rect(1px 1px 1px 1px);clip: rect(1px, 1px, 1px, 1px);height: 1px;margin: -1px;overflow: hidden;padding: 0;position: absolute;width: 1px;}#sk-container-id-5 div.sk-estimator {font-family: monospace;background-color: #f0f8ff;border: 1px dotted black;border-radius: 0.25em;box-sizing: border-box;margin-bottom: 0.5em;}#sk-container-id-5 div.sk-estimator:hover {background-color: #d4ebff;}#sk-container-id-5 div.sk-parallel-item::after {content: \"\";width: 100%;border-bottom: 1px solid gray;flex-grow: 1;}#sk-container-id-5 div.sk-label:hover label.sk-toggleable__label {background-color: #d4ebff;}#sk-container-id-5 div.sk-serial::before {content: \"\";position: absolute;border-left: 1px solid gray;box-sizing: border-box;top: 0;bottom: 0;left: 50%;z-index: 0;}#sk-container-id-5 div.sk-serial {display: flex;flex-direction: column;align-items: center;background-color: white;padding-right: 0.2em;padding-left: 0.2em;position: relative;}#sk-container-id-5 div.sk-item {position: relative;z-index: 1;}#sk-container-id-5 div.sk-parallel {display: flex;align-items: stretch;justify-content: center;background-color: white;position: relative;}#sk-container-id-5 div.sk-item::before, #sk-container-id-5 div.sk-parallel-item::before {content: \"\";position: absolute;border-left: 1px solid gray;box-sizing: border-box;top: 0;bottom: 0;left: 50%;z-index: -1;}#sk-container-id-5 div.sk-parallel-item {display: flex;flex-direction: column;z-index: 1;position: relative;background-color: white;}#sk-container-id-5 div.sk-parallel-item:first-child::after {align-self: flex-end;width: 50%;}#sk-container-id-5 div.sk-parallel-item:last-child::after {align-self: flex-start;width: 50%;}#sk-container-id-5 div.sk-parallel-item:only-child::after {width: 0;}#sk-container-id-5 div.sk-dashed-wrapped {border: 1px dashed gray;margin: 0 0.4em 0.5em 0.4em;box-sizing: border-box;padding-bottom: 0.4em;background-color: white;}#sk-container-id-5 div.sk-label label {font-family: monospace;font-weight: bold;display: inline-block;line-height: 1.2em;}#sk-container-id-5 div.sk-label-container {text-align: center;}#sk-container-id-5 div.sk-container {/* jupyter's `normalize.less` sets `[hidden] { display: none; }` but bootstrap.min.css set `[hidden] { display: none !important; }` so we also need the `!important` here to be able to override the default hidden behavior on the sphinx rendered scikit-learn.org. See: https://github.com/scikit-learn/scikit-learn/issues/21755 */display: inline-block !important;position: relative;}#sk-container-id-5 div.sk-text-repr-fallback {display: none;}</style><div id=\"sk-container-id-5\" class=\"sk-top-container\"><div class=\"sk-text-repr-fallback\"><pre>RandomForestClassifier(max_depth=3, random_state=1234)</pre><b>In a Jupyter environment, please rerun this cell to show the HTML representation or trust the notebook. <br />On GitHub, the HTML representation is unable to render, please try loading this page with nbviewer.org.</b></div><div class=\"sk-container\" hidden><div class=\"sk-item\"><div class=\"sk-estimator sk-toggleable\"><input class=\"sk-toggleable__control sk-hidden--visually\" id=\"sk-estimator-id-5\" type=\"checkbox\" checked><label for=\"sk-estimator-id-5\" class=\"sk-toggleable__label sk-toggleable__label-arrow\">RandomForestClassifier</label><div class=\"sk-toggleable__content\"><pre>RandomForestClassifier(max_depth=3, random_state=1234)</pre></div></div></div></div></div>"
     },
     "execution_count": 56,
     "metadata": {},
     "output_type": "execute_result"
    }
   ],
   "source": [
    "# Plug in appropriate max_depth and random_state parameters \n",
    "firstRFmodel = RandomForestClassifier(max_depth=3, random_state=1234)\n",
    "\n",
    "firstRFmodel.fit(X_train, y_train)\n",
    "y_pred = firstRFmodel.predict(X_test)\n",
    "y_pred = pd.Series(y_pred)\n",
    "firstRFmodel\n"
   ]
  },
  {
   "cell_type": "code",
   "execution_count": 57,
   "outputs": [
    {
     "name": "stdout",
     "output_type": "stream",
     "text": [
      "firstRFmodel - max depth 3\n",
      "Accuracy: 0.9411764705882353\n",
      "Balanced accuracy: 0.9204190118824265\n",
      "Precision score 0.927710843373494\n",
      "Recall score 0.8536585365853658\n"
     ]
    }
   ],
   "source": [
    "print(\"firstRFmodel - max depth 3\")\n",
    "print(\"Accuracy:\", metrics.accuracy_score(y_test,y_pred))\n",
    "print(\"Balanced accuracy:\", metrics.balanced_accuracy_score(y_test,y_pred))\n",
    "print('Precision score' , metrics.precision_score(y_test,y_pred, pos_label = \"YES\"))\n",
    "print('Recall score' , metrics.recall_score(y_test,y_pred, pos_label = \"NO\"))"
   ],
   "metadata": {
    "collapsed": false,
    "ExecuteTime": {
     "end_time": "2024-02-06T04:08:03.701323Z",
     "start_time": "2024-02-06T04:08:03.687491Z"
    }
   }
  },
  {
   "cell_type": "markdown",
   "metadata": {
    "colab_type": "text",
    "id": "sCIt6pyn1zpb"
   },
   "source": [
    "### 5c. Revise conclusion\n",
    "\n",
    "Has your conclusion changed? Or is the result of executing random forest the same as your best model reached by a single decision tree?"
   ]
  },
  {
   "cell_type": "code",
   "execution_count": 58,
   "outputs": [
    {
     "data": {
      "text/plain": "(array(['NO', 'YES'], dtype=object), array([ 39, 189]))"
     },
     "execution_count": 58,
     "metadata": {},
     "output_type": "execute_result"
    }
   ],
   "source": [
    "potential_buyers = firstRFmodel.predict(new_X)\n",
    "np.unique(potential_buyers, return_counts=True)"
   ],
   "metadata": {
    "collapsed": false,
    "ExecuteTime": {
     "end_time": "2024-02-06T04:14:56.758280Z",
     "start_time": "2024-02-06T04:14:56.745199Z"
    }
   }
  },
  {
   "cell_type": "code",
   "execution_count": 59,
   "outputs": [
    {
     "name": "stdout",
     "output_type": "stream",
     "text": [
      "By our model firstRFmodel, the percentage of people who want to buy the Hidden Farm coffee is 70.09%\n"
     ]
    }
   ],
   "source": [
    "print(f\"By our model firstRFmodel, the percentage of people who want to buy the Hidden Farm coffee is {round((303+189)/702*100, 2)}%\")\n"
   ],
   "metadata": {
    "collapsed": false,
    "ExecuteTime": {
     "end_time": "2024-02-06T04:15:23.831321Z",
     "start_time": "2024-02-06T04:15:23.823171Z"
    }
   }
  },
  {
   "cell_type": "markdown",
   "source": [
    "The conclusion is the same, there is no much significant difference. The deal depends on management and the risks it represents to the business."
   ],
   "metadata": {
    "collapsed": false
   }
  },
  {
   "cell_type": "markdown",
   "source": [],
   "metadata": {
    "collapsed": false
   }
  }
 ],
 "metadata": {
  "colab": {
   "collapsed_sections": [],
   "name": "Springboard Decision Tree Specialty Coffee Case Study - Tier 3.ipynb",
   "provenance": []
  },
  "kernelspec": {
   "display_name": "Python 3",
   "language": "python",
   "name": "python3"
  },
  "language_info": {
   "codemirror_mode": {
    "name": "ipython",
    "version": 3
   },
   "file_extension": ".py",
   "mimetype": "text/x-python",
   "name": "python",
   "nbconvert_exporter": "python",
   "pygments_lexer": "ipython3",
   "version": "3.7.3"
  }
 },
 "nbformat": 4,
 "nbformat_minor": 4
}
