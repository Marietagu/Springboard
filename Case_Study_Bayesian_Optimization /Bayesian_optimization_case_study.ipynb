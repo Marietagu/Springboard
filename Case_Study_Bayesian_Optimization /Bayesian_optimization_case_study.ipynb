{
 "cells": [
  {
   "cell_type": "markdown",
   "metadata": {
    "colab_type": "text",
    "id": "WNK7vbHo-KYU"
   },
   "source": [
    "## Bayesian methods of hyperparameter optimization"
   ]
  },
  {
   "cell_type": "markdown",
   "metadata": {
    "colab_type": "text",
    "id": "BlFdvPwF-KYW"
   },
   "source": [
    "In addition to the random search and the grid search methods for selecting optimal hyperparameters, we can use Bayesian methods of probabilities to select the optimal hyperparameters for an algorithm.\n",
    "\n",
    "In this case study, we will be using the BayesianOptimization library to perform hyperparmater tuning. This library has very good documentation which you can find here: https://github.com/fmfn/BayesianOptimization\n",
    "\n",
    "You will need to install the Bayesian optimization module. Running a cell with an exclamation point in the beginning of the command will run it as a shell command — please do this to install this module from our notebook in the cell below."
   ]
  },
  {
   "cell_type": "code",
   "execution_count": 1,
   "metadata": {
    "colab": {},
    "colab_type": "code",
    "id": "Pssx080d-Ulf",
    "ExecuteTime": {
     "end_time": "2024-03-19T01:18:45.869526Z",
     "start_time": "2024-03-19T01:18:42.584195Z"
    }
   },
   "outputs": [
    {
     "name": "stdout",
     "output_type": "stream",
     "text": [
      "Requirement already satisfied: bayesian-optimization in /Users/carambolas/anaconda3/lib/python3.10/site-packages (1.4.3)\r\n",
      "Requirement already satisfied: scikit-learn>=0.18.0 in /Users/carambolas/anaconda3/lib/python3.10/site-packages (from bayesian-optimization) (1.2.1)\r\n",
      "Requirement already satisfied: colorama>=0.4.6 in /Users/carambolas/anaconda3/lib/python3.10/site-packages (from bayesian-optimization) (0.4.6)\r\n",
      "Requirement already satisfied: numpy>=1.9.0 in /Users/carambolas/anaconda3/lib/python3.10/site-packages (from bayesian-optimization) (1.26.4)\r\n",
      "Requirement already satisfied: scipy>=1.0.0 in /Users/carambolas/anaconda3/lib/python3.10/site-packages (from bayesian-optimization) (1.12.0)\r\n",
      "Requirement already satisfied: joblib>=1.1.1 in /Users/carambolas/anaconda3/lib/python3.10/site-packages (from scikit-learn>=0.18.0->bayesian-optimization) (1.2.0)\r\n",
      "Requirement already satisfied: threadpoolctl>=2.0.0 in /Users/carambolas/anaconda3/lib/python3.10/site-packages (from scikit-learn>=0.18.0->bayesian-optimization) (2.2.0)\r\n"
     ]
    }
   ],
   "source": [
    "! pip install bayesian-optimization"
   ]
  },
  {
   "cell_type": "code",
   "execution_count": 2,
   "metadata": {
    "_kg_hide-input": true,
    "colab": {},
    "colab_type": "code",
    "id": "l9nfFTyj-KYY",
    "ExecuteTime": {
     "end_time": "2024-03-19T01:18:47.321176Z",
     "start_time": "2024-03-19T01:18:45.871858Z"
    }
   },
   "outputs": [],
   "source": [
    "import warnings\n",
    "warnings.filterwarnings('ignore')\n",
    "from sklearn.preprocessing import LabelEncoder\n",
    "import numpy as np\n",
    "import pandas as pd\n",
    "import lightgbm\n",
    "from bayes_opt import BayesianOptimization\n"
   ]
  },
  {
   "cell_type": "code",
   "execution_count": 3,
   "metadata": {
    "colab": {
     "base_uri": "https://localhost:8080/",
     "height": 85
    },
    "colab_type": "code",
    "id": "D16Dquw1AAK0",
    "outputId": "44167587-f22e-4bf5-a816-e2bcfdc6c4ee",
    "ExecuteTime": {
     "end_time": "2024-03-19T01:18:48.185876Z",
     "start_time": "2024-03-19T01:18:48.180037Z"
    }
   },
   "outputs": [
    {
     "data": {
      "text/plain": "['.DS_Store',\n 'flight_delays_test.csv',\n 'Bayesian_optimization_case_study.ipynb',\n 'flight_delays_train.csv',\n '.idea']"
     },
     "execution_count": 3,
     "metadata": {},
     "output_type": "execute_result"
    }
   ],
   "source": [
    "import os\n",
    "os.listdir()"
   ]
  },
  {
   "cell_type": "markdown",
   "metadata": {
    "colab_type": "text",
    "id": "AkBt3yds-KYu",
    "ExecuteTime": {
     "end_time": "2024-03-18T01:20:31.427814Z",
     "start_time": "2024-03-18T01:20:30.961432Z"
    }
   },
   "source": [
    "## How does Bayesian optimization work?"
   ],
   "outputs": [],
   "execution_count": 2
  },
  {
   "cell_type": "markdown",
   "metadata": {
    "colab_type": "text",
    "id": "E1kyBCUs-KYv",
    "ExecuteTime": {
     "end_time": "2024-03-18T01:20:32.165621Z",
     "start_time": "2024-03-18T01:20:32.161476Z"
    }
   },
   "source": [
    "Bayesian optimization works by constructing a posterior distribution of functions (Gaussian process) that best describes the function you want to optimize. As the number of observations grows, the posterior distribution improves, and the algorithm becomes more certain of which regions in parameter space are worth exploring and which are not, as seen in the picture below."
   ],
   "outputs": [],
   "execution_count": 3
  },
  {
   "cell_type": "markdown",
   "metadata": {
    "colab_type": "text",
    "id": "gAdHF72R-KYw",
    "ExecuteTime": {
     "end_time": "2024-03-18T01:20:33.561676Z",
     "start_time": "2024-03-18T01:20:32.837006Z"
    }
   },
   "source": [
    "<img src=\"https://github.com/fmfn/BayesianOptimization/blob/master/examples/bo_example.png?raw=true\" />\n",
    "As you iterate over and over, the algorithm balances its needs of exploration and exploitation while taking into account what it knows about the target function. At each step, a Gaussian Process is fitted to the known samples (points previously explored), and the posterior distribution, combined with an exploration strategy (such as UCB — aka Upper Confidence Bound), or EI (Expected Improvement). This process is used to determine the next point that should be explored (see the gif below).\n",
    "<img src=\"https://github.com/fmfn/BayesianOptimization/raw/master/examples/bayesian_optimization.gif\" />"
   ],
   "outputs": [],
   "execution_count": 4
  },
  {
   "cell_type": "markdown",
   "metadata": {
    "colab_type": "text",
    "id": "RTP8KUlLoYzu",
    "ExecuteTime": {
     "end_time": "2024-03-18T01:20:33.569903Z",
     "start_time": "2024-03-18T01:20:33.565829Z"
    }
   },
   "source": [
    "## Let's look at a simple example"
   ],
   "outputs": [
    {
     "data": {
      "text/plain": "['.DS_Store',\n 'flight_delays_test.csv',\n 'Bayesian_optimization_case_study.ipynb',\n 'flight_delays_train.csv',\n '.idea']"
     },
     "execution_count": 5,
     "metadata": {},
     "output_type": "execute_result"
    }
   ],
   "execution_count": 5
  },
  {
   "cell_type": "markdown",
   "metadata": {
    "colab_type": "text",
    "id": "crpPqKdC-KYx",
    "ExecuteTime": {
     "end_time": "2024-03-17T23:13:03.902908Z",
     "start_time": "2024-03-17T23:13:03.890009Z"
    }
   },
   "source": [
    "The first step is to create an optimizer. It uses two items:\n",
    "* function to optimize\n",
    "* bounds of parameters\n",
    "\n",
    "The function is the procedure that counts metrics of our model quality. The important thing is that our optimization will maximize the value on function. Smaller metrics are best. Hint: don't forget to use negative metric values."
   ],
   "outputs": [
    {
     "data": {
      "text/plain": "['flight_delays_test.csv.zip',\n '.DS_Store',\n 'Bayesian_optimization_case_study.ipynb',\n 'flight_delays_train.csv.zip',\n '.idea']"
     },
     "execution_count": 17,
     "metadata": {},
     "output_type": "execute_result"
    }
   ],
   "execution_count": 17
  },
  {
   "cell_type": "markdown",
   "metadata": {
    "colab_type": "text",
    "id": "e09ciF8gpTfr"
   },
   "source": [
    "Here we define our simple function we want to optimize."
   ]
  },
  {
   "cell_type": "code",
   "execution_count": 4,
   "metadata": {
    "colab": {},
    "colab_type": "code",
    "id": "ofwvnfEwo5mG",
    "ExecuteTime": {
     "end_time": "2024-03-19T01:18:52.365924Z",
     "start_time": "2024-03-19T01:18:52.359608Z"
    }
   },
   "outputs": [],
   "source": [
    "def simple_func(a, b):\n",
    "    return a + b"
   ]
  },
  {
   "cell_type": "markdown",
   "metadata": {
    "colab_type": "text",
    "id": "XCGsdciCpeI3"
   },
   "source": [
    "Now, we define our bounds of the parameters to optimize, within the Bayesian optimizer."
   ]
  },
  {
   "cell_type": "code",
   "execution_count": 5,
   "outputs": [],
   "source": [
    "optimizer = BayesianOptimization(\n",
    "    f=simple_func,\n",
    "    pbounds={'a': (1, 3),'b': (4, 7)},\n",
    "    allow_duplicate_points=True)"
   ],
   "metadata": {
    "collapsed": false,
    "ExecuteTime": {
     "end_time": "2024-03-19T01:18:53.403011Z",
     "start_time": "2024-03-19T01:18:53.395702Z"
    }
   }
  },
  {
   "cell_type": "markdown",
   "source": [
    "These are the main parameters of this function:\n",
    "\n",
    "* **n_iter:** This is how many steps of Bayesian optimization you want to perform. The more steps, the more likely you are to find a good maximum.\n",
    "\n",
    "* **init_points:** This is how many steps of random exploration you want to perform. Random exploration can help by diversifying the exploration space."
   ],
   "metadata": {
    "collapsed": false
   }
  },
  {
   "cell_type": "markdown",
   "source": [
    "Let's run an example where we use the optimizer to find the best values to maximize the target value for a and b given the inputs of 3 and 2."
   ],
   "metadata": {
    "collapsed": false
   }
  },
  {
   "cell_type": "code",
   "execution_count": 6,
   "outputs": [
    {
     "name": "stdout",
     "output_type": "stream",
     "text": [
      "|   iter    |  target   |     a     |     b     |\n",
      "-------------------------------------------------\n",
      "| \u001B[0m1        \u001B[0m | \u001B[0m8.613    \u001B[0m | \u001B[0m2.036    \u001B[0m | \u001B[0m6.577    \u001B[0m |\n",
      "| \u001B[0m2        \u001B[0m | \u001B[0m7.413    \u001B[0m | \u001B[0m1.84     \u001B[0m | \u001B[0m5.573    \u001B[0m |\n",
      "| \u001B[0m3        \u001B[0m | \u001B[0m6.547    \u001B[0m | \u001B[0m1.079    \u001B[0m | \u001B[0m5.468    \u001B[0m |\n",
      "| \u001B[95m4        \u001B[0m | \u001B[95m9.281    \u001B[0m | \u001B[95m2.393    \u001B[0m | \u001B[95m6.888    \u001B[0m |\n",
      "| \u001B[95m5        \u001B[0m | \u001B[95m9.422    \u001B[0m | \u001B[95m3.0      \u001B[0m | \u001B[95m6.422    \u001B[0m |\n",
      "=================================================\n"
     ]
    }
   ],
   "source": [
    "optimizer.maximize(init_points=3, n_iter=2)"
   ],
   "metadata": {
    "collapsed": false,
    "ExecuteTime": {
     "end_time": "2024-03-19T01:18:55.187168Z",
     "start_time": "2024-03-19T01:18:54.974512Z"
    }
   }
  },
  {
   "cell_type": "markdown",
   "source": [
    "Great, now let's print the best parameters and the associated maximized target."
   ],
   "metadata": {
    "collapsed": false
   }
  },
  {
   "cell_type": "code",
   "execution_count": 7,
   "outputs": [
    {
     "name": "stdout",
     "output_type": "stream",
     "text": [
      "{'a': 3.0, 'b': 6.421704691399312}\n"
     ]
    },
    {
     "data": {
      "text/plain": "9.421704691399313"
     },
     "execution_count": 7,
     "metadata": {},
     "output_type": "execute_result"
    }
   ],
   "source": [
    "print(optimizer.max['params']);optimizer.max['target']"
   ],
   "metadata": {
    "collapsed": false,
    "ExecuteTime": {
     "end_time": "2024-03-19T01:18:56.733131Z",
     "start_time": "2024-03-19T01:18:56.725590Z"
    }
   }
  },
  {
   "cell_type": "markdown",
   "source": [
    "## Test it on real data using the Light GBM"
   ],
   "metadata": {
    "collapsed": false
   }
  },
  {
   "cell_type": "markdown",
   "source": [
    "The dataset we will be working with is the famous flight departures dataset. Our modeling goal will be to predict if a flight departure is going to be delayed by 15 minutes based on the other attributes in our dataset. As part of this modeling exercise, we will use Bayesian hyperparameter optimization to identify the best parameters for our model."
   ],
   "metadata": {
    "collapsed": false
   }
  },
  {
   "cell_type": "markdown",
   "source": [
    "**<font color='teal'> You can load the zipped csv files just as you would regular csv files using Pandas read_csv. In the next cell load the train and test data into two seperate dataframes. </font>**\n"
   ],
   "metadata": {
    "collapsed": false
   }
  },
  {
   "cell_type": "code",
   "execution_count": 8,
   "outputs": [],
   "source": [
    "train_df = pd.read_csv('flight_delays_train.csv')\n",
    "test_df = pd.read_csv('flight_delays_test.csv')"
   ],
   "metadata": {
    "collapsed": false,
    "ExecuteTime": {
     "end_time": "2024-03-19T01:18:59.278562Z",
     "start_time": "2024-03-19T01:18:59.124003Z"
    }
   }
  },
  {
   "cell_type": "markdown",
   "source": [
    "**<font color='teal'> Print the top five rows of the train dataframe and review the columns in the data. </font>**"
   ],
   "metadata": {
    "collapsed": false
   }
  },
  {
   "cell_type": "code",
   "execution_count": 9,
   "outputs": [
    {
     "data": {
      "text/plain": "  Month DayofMonth DayOfWeek  DepTime UniqueCarrier Origin Dest  Distance  \\\n0   c-8       c-21       c-7     1934            AA    ATL  DFW       732   \n1   c-4       c-20       c-3     1548            US    PIT  MCO       834   \n2   c-9        c-2       c-5     1422            XE    RDU  CLE       416   \n3  c-11       c-25       c-6     1015            OO    DEN  MEM       872   \n4  c-10        c-7       c-6     1828            WN    MDW  OMA       423   \n\n  dep_delayed_15min  \n0                 N  \n1                 N  \n2                 N  \n3                 N  \n4                 Y  ",
      "text/html": "<div>\n<style scoped>\n    .dataframe tbody tr th:only-of-type {\n        vertical-align: middle;\n    }\n\n    .dataframe tbody tr th {\n        vertical-align: top;\n    }\n\n    .dataframe thead th {\n        text-align: right;\n    }\n</style>\n<table border=\"1\" class=\"dataframe\">\n  <thead>\n    <tr style=\"text-align: right;\">\n      <th></th>\n      <th>Month</th>\n      <th>DayofMonth</th>\n      <th>DayOfWeek</th>\n      <th>DepTime</th>\n      <th>UniqueCarrier</th>\n      <th>Origin</th>\n      <th>Dest</th>\n      <th>Distance</th>\n      <th>dep_delayed_15min</th>\n    </tr>\n  </thead>\n  <tbody>\n    <tr>\n      <th>0</th>\n      <td>c-8</td>\n      <td>c-21</td>\n      <td>c-7</td>\n      <td>1934</td>\n      <td>AA</td>\n      <td>ATL</td>\n      <td>DFW</td>\n      <td>732</td>\n      <td>N</td>\n    </tr>\n    <tr>\n      <th>1</th>\n      <td>c-4</td>\n      <td>c-20</td>\n      <td>c-3</td>\n      <td>1548</td>\n      <td>US</td>\n      <td>PIT</td>\n      <td>MCO</td>\n      <td>834</td>\n      <td>N</td>\n    </tr>\n    <tr>\n      <th>2</th>\n      <td>c-9</td>\n      <td>c-2</td>\n      <td>c-5</td>\n      <td>1422</td>\n      <td>XE</td>\n      <td>RDU</td>\n      <td>CLE</td>\n      <td>416</td>\n      <td>N</td>\n    </tr>\n    <tr>\n      <th>3</th>\n      <td>c-11</td>\n      <td>c-25</td>\n      <td>c-6</td>\n      <td>1015</td>\n      <td>OO</td>\n      <td>DEN</td>\n      <td>MEM</td>\n      <td>872</td>\n      <td>N</td>\n    </tr>\n    <tr>\n      <th>4</th>\n      <td>c-10</td>\n      <td>c-7</td>\n      <td>c-6</td>\n      <td>1828</td>\n      <td>WN</td>\n      <td>MDW</td>\n      <td>OMA</td>\n      <td>423</td>\n      <td>Y</td>\n    </tr>\n  </tbody>\n</table>\n</div>"
     },
     "execution_count": 9,
     "metadata": {},
     "output_type": "execute_result"
    }
   ],
   "source": [
    "train_df.head()"
   ],
   "metadata": {
    "collapsed": false,
    "ExecuteTime": {
     "end_time": "2024-03-19T01:19:00.303620Z",
     "start_time": "2024-03-19T01:19:00.296911Z"
    }
   }
  },
  {
   "cell_type": "markdown",
   "source": [
    "**<font color='teal'> Use the describe function to review the numeric columns in the train dataframe. </font>**"
   ],
   "metadata": {
    "collapsed": false
   }
  },
  {
   "cell_type": "code",
   "execution_count": 10,
   "outputs": [
    {
     "data": {
      "text/plain": "             DepTime      Distance\ncount  100000.000000  100000.00000\nmean     1341.523880     729.39716\nstd       476.378445     574.61686\nmin         1.000000      30.00000\n25%       931.000000     317.00000\n50%      1330.000000     575.00000\n75%      1733.000000     957.00000\nmax      2534.000000    4962.00000",
      "text/html": "<div>\n<style scoped>\n    .dataframe tbody tr th:only-of-type {\n        vertical-align: middle;\n    }\n\n    .dataframe tbody tr th {\n        vertical-align: top;\n    }\n\n    .dataframe thead th {\n        text-align: right;\n    }\n</style>\n<table border=\"1\" class=\"dataframe\">\n  <thead>\n    <tr style=\"text-align: right;\">\n      <th></th>\n      <th>DepTime</th>\n      <th>Distance</th>\n    </tr>\n  </thead>\n  <tbody>\n    <tr>\n      <th>count</th>\n      <td>100000.000000</td>\n      <td>100000.00000</td>\n    </tr>\n    <tr>\n      <th>mean</th>\n      <td>1341.523880</td>\n      <td>729.39716</td>\n    </tr>\n    <tr>\n      <th>std</th>\n      <td>476.378445</td>\n      <td>574.61686</td>\n    </tr>\n    <tr>\n      <th>min</th>\n      <td>1.000000</td>\n      <td>30.00000</td>\n    </tr>\n    <tr>\n      <th>25%</th>\n      <td>931.000000</td>\n      <td>317.00000</td>\n    </tr>\n    <tr>\n      <th>50%</th>\n      <td>1330.000000</td>\n      <td>575.00000</td>\n    </tr>\n    <tr>\n      <th>75%</th>\n      <td>1733.000000</td>\n      <td>957.00000</td>\n    </tr>\n    <tr>\n      <th>max</th>\n      <td>2534.000000</td>\n      <td>4962.00000</td>\n    </tr>\n  </tbody>\n</table>\n</div>"
     },
     "execution_count": 10,
     "metadata": {},
     "output_type": "execute_result"
    }
   ],
   "source": [
    "train_df.describe()"
   ],
   "metadata": {
    "collapsed": false,
    "ExecuteTime": {
     "end_time": "2024-03-19T01:19:01.375169Z",
     "start_time": "2024-03-19T01:19:01.358566Z"
    }
   }
  },
  {
   "cell_type": "markdown",
   "source": [
    "Notice, `DepTime` is the departure time in a numeric representation in 2400 hours."
   ],
   "metadata": {
    "collapsed": false
   }
  },
  {
   "cell_type": "code",
   "execution_count": 11,
   "outputs": [
    {
     "data": {
      "text/plain": "0"
     },
     "execution_count": 11,
     "metadata": {},
     "output_type": "execute_result"
    }
   ],
   "source": [
    "DepTime = train_df['DepTime'].unique()\n",
    "DepTime_min = [int(str(time)[-2:]) for time in DepTime]\n",
    "sum(np.array(DepTime_min)>=60)"
   ],
   "metadata": {
    "collapsed": false,
    "ExecuteTime": {
     "end_time": "2024-03-19T01:19:02.479282Z",
     "start_time": "2024-03-19T01:19:02.469006Z"
    }
   }
  },
  {
   "cell_type": "code",
   "execution_count": 12,
   "outputs": [
    {
     "data": {
      "text/plain": "16"
     },
     "execution_count": 12,
     "metadata": {},
     "output_type": "execute_result"
    }
   ],
   "source": [
    "sum(np.array(DepTime)>2400)"
   ],
   "metadata": {
    "collapsed": false,
    "ExecuteTime": {
     "end_time": "2024-03-19T01:19:02.901178Z",
     "start_time": "2024-03-19T01:19:02.893002Z"
    }
   }
  },
  {
   "cell_type": "code",
   "execution_count": 13,
   "outputs": [
    {
     "data": {
      "text/plain": "      Month DayofMonth DayOfWeek  DepTime UniqueCarrier Origin Dest  Distance  \\\n8189    c-6       c-14       c-2     2435            EV    CVG  AVL       275   \n20766   c-5       c-31       c-2     2534            EV    ATL  HSV       151   \n27391   c-3       c-23       c-4     2505            EV    ATL  AGS       143   \n44332   c-7       c-15       c-5     2440            EV    ATL  SHV       552   \n45796   c-8       c-18       c-4     2447            EV    ATL  JAN       341   \n\n      dep_delayed_15min  \n8189                  Y  \n20766                 Y  \n27391                 Y  \n44332                 Y  \n45796                 Y  ",
      "text/html": "<div>\n<style scoped>\n    .dataframe tbody tr th:only-of-type {\n        vertical-align: middle;\n    }\n\n    .dataframe tbody tr th {\n        vertical-align: top;\n    }\n\n    .dataframe thead th {\n        text-align: right;\n    }\n</style>\n<table border=\"1\" class=\"dataframe\">\n  <thead>\n    <tr style=\"text-align: right;\">\n      <th></th>\n      <th>Month</th>\n      <th>DayofMonth</th>\n      <th>DayOfWeek</th>\n      <th>DepTime</th>\n      <th>UniqueCarrier</th>\n      <th>Origin</th>\n      <th>Dest</th>\n      <th>Distance</th>\n      <th>dep_delayed_15min</th>\n    </tr>\n  </thead>\n  <tbody>\n    <tr>\n      <th>8189</th>\n      <td>c-6</td>\n      <td>c-14</td>\n      <td>c-2</td>\n      <td>2435</td>\n      <td>EV</td>\n      <td>CVG</td>\n      <td>AVL</td>\n      <td>275</td>\n      <td>Y</td>\n    </tr>\n    <tr>\n      <th>20766</th>\n      <td>c-5</td>\n      <td>c-31</td>\n      <td>c-2</td>\n      <td>2534</td>\n      <td>EV</td>\n      <td>ATL</td>\n      <td>HSV</td>\n      <td>151</td>\n      <td>Y</td>\n    </tr>\n    <tr>\n      <th>27391</th>\n      <td>c-3</td>\n      <td>c-23</td>\n      <td>c-4</td>\n      <td>2505</td>\n      <td>EV</td>\n      <td>ATL</td>\n      <td>AGS</td>\n      <td>143</td>\n      <td>Y</td>\n    </tr>\n    <tr>\n      <th>44332</th>\n      <td>c-7</td>\n      <td>c-15</td>\n      <td>c-5</td>\n      <td>2440</td>\n      <td>EV</td>\n      <td>ATL</td>\n      <td>SHV</td>\n      <td>552</td>\n      <td>Y</td>\n    </tr>\n    <tr>\n      <th>45796</th>\n      <td>c-8</td>\n      <td>c-18</td>\n      <td>c-4</td>\n      <td>2447</td>\n      <td>EV</td>\n      <td>ATL</td>\n      <td>JAN</td>\n      <td>341</td>\n      <td>Y</td>\n    </tr>\n  </tbody>\n</table>\n</div>"
     },
     "execution_count": 13,
     "metadata": {},
     "output_type": "execute_result"
    }
   ],
   "source": [
    "train_df[train_df.DepTime > 2400].head()"
   ],
   "metadata": {
    "collapsed": false,
    "ExecuteTime": {
     "end_time": "2024-03-19T01:19:03.324987Z",
     "start_time": "2024-03-19T01:19:03.319442Z"
    }
   }
  },
  {
   "cell_type": "code",
   "execution_count": 14,
   "outputs": [],
   "source": [
    "train_df = train_df[train_df.DepTime <= 2400].copy()"
   ],
   "metadata": {
    "collapsed": false,
    "ExecuteTime": {
     "end_time": "2024-03-19T01:19:03.869622Z",
     "start_time": "2024-03-19T01:19:03.849817Z"
    }
   }
  },
  {
   "cell_type": "code",
   "execution_count": 15,
   "outputs": [],
   "source": [
    "train_df['dep_delayed_15min'] = train_df['dep_delayed_15min'].map({'Y': 1, 'N': 0})"
   ],
   "metadata": {
    "collapsed": false,
    "ExecuteTime": {
     "end_time": "2024-03-19T01:19:04.304003Z",
     "start_time": "2024-03-19T01:19:04.291945Z"
    }
   }
  },
  {
   "cell_type": "markdown",
   "source": [
    " **<font color='teal'>The response variable is 'dep_delayed_15min' which is a categorical column, so we need to map the Y for yes and N for no values to 1 and 0. Run the code in the next cell to do this.</font>**"
   ],
   "metadata": {
    "collapsed": false
   }
  },
  {
   "cell_type": "code",
   "execution_count": 16,
   "outputs": [
    {
     "data": {
      "text/plain": "  Month DayofMonth DayOfWeek  DepTime UniqueCarrier Origin Dest  Distance  \\\n0   c-8       c-21       c-7     1934            AA    ATL  DFW       732   \n1   c-4       c-20       c-3     1548            US    PIT  MCO       834   \n2   c-9        c-2       c-5     1422            XE    RDU  CLE       416   \n3  c-11       c-25       c-6     1015            OO    DEN  MEM       872   \n4  c-10        c-7       c-6     1828            WN    MDW  OMA       423   \n\n   dep_delayed_15min  \n0                  0  \n1                  0  \n2                  0  \n3                  0  \n4                  1  ",
      "text/html": "<div>\n<style scoped>\n    .dataframe tbody tr th:only-of-type {\n        vertical-align: middle;\n    }\n\n    .dataframe tbody tr th {\n        vertical-align: top;\n    }\n\n    .dataframe thead th {\n        text-align: right;\n    }\n</style>\n<table border=\"1\" class=\"dataframe\">\n  <thead>\n    <tr style=\"text-align: right;\">\n      <th></th>\n      <th>Month</th>\n      <th>DayofMonth</th>\n      <th>DayOfWeek</th>\n      <th>DepTime</th>\n      <th>UniqueCarrier</th>\n      <th>Origin</th>\n      <th>Dest</th>\n      <th>Distance</th>\n      <th>dep_delayed_15min</th>\n    </tr>\n  </thead>\n  <tbody>\n    <tr>\n      <th>0</th>\n      <td>c-8</td>\n      <td>c-21</td>\n      <td>c-7</td>\n      <td>1934</td>\n      <td>AA</td>\n      <td>ATL</td>\n      <td>DFW</td>\n      <td>732</td>\n      <td>0</td>\n    </tr>\n    <tr>\n      <th>1</th>\n      <td>c-4</td>\n      <td>c-20</td>\n      <td>c-3</td>\n      <td>1548</td>\n      <td>US</td>\n      <td>PIT</td>\n      <td>MCO</td>\n      <td>834</td>\n      <td>0</td>\n    </tr>\n    <tr>\n      <th>2</th>\n      <td>c-9</td>\n      <td>c-2</td>\n      <td>c-5</td>\n      <td>1422</td>\n      <td>XE</td>\n      <td>RDU</td>\n      <td>CLE</td>\n      <td>416</td>\n      <td>0</td>\n    </tr>\n    <tr>\n      <th>3</th>\n      <td>c-11</td>\n      <td>c-25</td>\n      <td>c-6</td>\n      <td>1015</td>\n      <td>OO</td>\n      <td>DEN</td>\n      <td>MEM</td>\n      <td>872</td>\n      <td>0</td>\n    </tr>\n    <tr>\n      <th>4</th>\n      <td>c-10</td>\n      <td>c-7</td>\n      <td>c-6</td>\n      <td>1828</td>\n      <td>WN</td>\n      <td>MDW</td>\n      <td>OMA</td>\n      <td>423</td>\n      <td>1</td>\n    </tr>\n  </tbody>\n</table>\n</div>"
     },
     "execution_count": 16,
     "metadata": {},
     "output_type": "execute_result"
    }
   ],
   "source": [
    "train_df.head()"
   ],
   "metadata": {
    "collapsed": false,
    "ExecuteTime": {
     "end_time": "2024-03-19T01:19:05.209285Z",
     "start_time": "2024-03-19T01:19:05.202162Z"
    }
   }
  },
  {
   "cell_type": "markdown",
   "source": [
    "## Feature Engineering\n",
    "Use these defined functions to create additional features for the model. Run the cell to add the functions to your workspace."
   ],
   "metadata": {
    "collapsed": false
   }
  },
  {
   "cell_type": "code",
   "execution_count": 17,
   "outputs": [],
   "source": [
    "def label_enc(df_column):\n",
    "    df_column = LabelEncoder().fit_transform(df_column)\n",
    "    return df_column\n",
    "\n",
    "def make_harmonic_features_sin(value, period=2400):\n",
    "    value *= 2 * np.pi / period\n",
    "    return np.sin(value)\n",
    "\n",
    "def make_harmonic_features_cos(value, period=2400):\n",
    "    value *= 2 * np.pi / period\n",
    "    return np.cos(value)\n",
    "\n",
    "def feature_eng(df):\n",
    "    df['flight'] = df['Origin']+df['Dest']\n",
    "    df['Month'] = df.Month.map(lambda x: x.split('-')[-1]).astype('int32')\n",
    "    df['DayofMonth'] = df.DayofMonth.map(lambda x: x.split('-')[-1]).astype('uint8')\n",
    "    df['begin_of_month'] = (df['DayofMonth'] < 10).astype('uint8')                               # use astype('uint8') change True/False to 1/0\n",
    "    df['midddle_of_month'] = ((df['DayofMonth'] >= 10)&(df['DayofMonth'] < 20)).astype('uint8')  # use astype('uint8') change True/False to 1/0\n",
    "    df['end_of_month'] = (df['DayofMonth'] >= 20).astype('uint8')                                # use astype('uint8') change True/False to 1/0\n",
    "    df['DayOfWeek'] = df.DayOfWeek.map(lambda x: x.split('-')[-1]).astype('uint8')\n",
    "    df['hour'] = df.DepTime.map(lambda x: x/100).astype('int32')\n",
    "    df['morning'] = df['hour'].map(lambda x: 1 if (x <= 11)& (x >= 7) else 0).astype('uint8')\n",
    "    df['day'] = df['hour'].map(lambda x: 1 if (x >= 12) & (x <= 18) else 0).astype('uint8')\n",
    "    df['evening'] = df['hour'].map(lambda x: 1 if (x >= 19) & (x <= 23) else 0).astype('uint8')\n",
    "    df['night'] = df['hour'].map(lambda x: 1 if (x >= 0) & (x <= 6) else 0).astype('int32')\n",
    "    df['winter'] = df['Month'].map(lambda x: x in [12, 1, 2]).astype('int32')                    # use astype('int32') change True/False to 1/0\n",
    "    df['spring'] = df['Month'].map(lambda x: x in [3, 4, 5]).astype('int32')                     # use astype('int32') change True/False to 1/0\n",
    "    df['summer'] = df['Month'].map(lambda x: x in [6, 7, 8]).astype('int32')                     # use astype('int32') change True/False to 1/0\n",
    "    df['autumn'] = df['Month'].map(lambda x: x in [9, 10, 11]).astype('int32')                   # use astype('int32') change True/False to 1/0\n",
    "    df['holiday'] = (df['DayOfWeek'] >= 5).astype(int)                 # use astype(int) change True/False to 1/0\n",
    "    df['weekday'] = (df['DayOfWeek'] < 5).astype(int)                  # use astype(int) change True/False to 1/0\n",
    "    df['airport_dest_per_month'] = df.groupby(['Dest', 'Month'])['Dest'].transform('count')\n",
    "    df['airport_origin_per_month'] = df.groupby(['Origin', 'Month'])['Origin'].transform('count')\n",
    "    df['airport_dest_count'] = df.groupby(['Dest'])['Dest'].transform('count')\n",
    "    df['airport_origin_count'] = df.groupby(['Origin'])['Origin'].transform('count')\n",
    "    df['carrier_count'] = df.groupby(['UniqueCarrier'])['Dest'].transform('count')\n",
    "    df['carrier_count_per month'] = df.groupby(['UniqueCarrier', 'Month'])['Dest'].transform('count')\n",
    "    df['deptime_cos'] = df['DepTime'].map(make_harmonic_features_cos)\n",
    "    df['deptime_sin'] = df['DepTime'].map(make_harmonic_features_sin)\n",
    "    df['flightUC'] = df['flight']+df['UniqueCarrier']\n",
    "    df['DestUC'] = df['Dest']+df['UniqueCarrier']\n",
    "    df['OriginUC'] = df['Origin']+df['UniqueCarrier']\n",
    "    return df.drop('DepTime', axis=1)"
   ],
   "metadata": {
    "collapsed": false,
    "ExecuteTime": {
     "end_time": "2024-03-19T01:19:06.099979Z",
     "start_time": "2024-03-19T01:19:06.091490Z"
    }
   }
  },
  {
   "cell_type": "markdown",
   "source": [
    "Concatenate the training and testing dataframes.\n"
   ],
   "metadata": {
    "collapsed": false
   }
  },
  {
   "cell_type": "code",
   "execution_count": 18,
   "outputs": [],
   "source": [
    "full_df = pd.concat([train_df, test_df])\n",
    "full_df = feature_eng(full_df)"
   ],
   "metadata": {
    "collapsed": false,
    "ExecuteTime": {
     "end_time": "2024-03-19T01:19:08.715381Z",
     "start_time": "2024-03-19T01:19:07.457508Z"
    }
   }
  },
  {
   "cell_type": "code",
   "execution_count": 19,
   "outputs": [
    {
     "data": {
      "text/plain": "Month                            0\nDayofMonth                       0\nDayOfWeek                        0\nUniqueCarrier                    0\nOrigin                           0\nDest                             0\nDistance                         0\ndep_delayed_15min           100000\nflight                           0\nbegin_of_month                   0\nmidddle_of_month                 0\nend_of_month                     0\nhour                             0\nmorning                          0\nday                              0\nevening                          0\nnight                            0\nwinter                           0\nspring                           0\nsummer                           0\nautumn                           0\nholiday                          0\nweekday                          0\nairport_dest_per_month           0\nairport_origin_per_month         0\nairport_dest_count               0\nairport_origin_count             0\ncarrier_count                    0\ncarrier_count_per month          0\ndeptime_cos                      0\ndeptime_sin                      0\nflightUC                         0\nDestUC                           0\nOriginUC                         0\ndtype: int64"
     },
     "execution_count": 19,
     "metadata": {},
     "output_type": "execute_result"
    }
   ],
   "source": [
    "full_df.isna().sum()"
   ],
   "metadata": {
    "collapsed": false,
    "ExecuteTime": {
     "end_time": "2024-03-19T01:19:08.868906Z",
     "start_time": "2024-03-19T01:19:08.716768Z"
    }
   }
  },
  {
   "cell_type": "markdown",
   "source": [
    "Apply the earlier defined feature engineering functions to the full dataframe."
   ],
   "metadata": {
    "collapsed": false
   }
  },
  {
   "cell_type": "code",
   "execution_count": 20,
   "outputs": [],
   "source": [
    "for column in ['UniqueCarrier', 'Origin', 'Dest','flight',  'flightUC', 'DestUC', 'OriginUC']:\n",
    "    full_df[column] = label_enc(full_df[column])"
   ],
   "metadata": {
    "collapsed": false,
    "ExecuteTime": {
     "end_time": "2024-03-19T01:19:10.741081Z",
     "start_time": "2024-03-19T01:19:10.519291Z"
    }
   }
  },
  {
   "cell_type": "code",
   "execution_count": 21,
   "outputs": [
    {
     "data": {
      "text/plain": "Month                         12\nDayofMonth                    31\nDayOfWeek                      7\nUniqueCarrier                 23\nOrigin                       307\nDest                         307\nDistance                    1390\ndep_delayed_15min              2\nflight                      5048\nbegin_of_month                 2\nmidddle_of_month               2\nend_of_month                   2\nhour                          25\nmorning                        2\nday                            2\nevening                        2\nnight                          2\nwinter                         2\nspring                         2\nsummer                         2\nautumn                         2\nholiday                        2\nweekday                        2\nairport_dest_per_month       396\nairport_origin_per_month     388\nairport_dest_count           228\nairport_origin_count         221\ncarrier_count                 23\ncarrier_count_per month      248\ndeptime_cos                 1315\ndeptime_sin                 1310\nflightUC                    8593\nDestUC                      1956\nOriginUC                    1944\ndtype: int64"
     },
     "execution_count": 21,
     "metadata": {},
     "output_type": "execute_result"
    }
   ],
   "source": [
    "full_df.nunique()"
   ],
   "metadata": {
    "collapsed": false,
    "ExecuteTime": {
     "end_time": "2024-03-19T01:19:11.654063Z",
     "start_time": "2024-03-19T01:19:11.607987Z"
    }
   }
  },
  {
   "cell_type": "markdown",
   "source": [
    "\n",
    "Split the new full dataframe into X_train and X_test."
   ],
   "metadata": {
    "collapsed": false
   }
  },
  {
   "cell_type": "code",
   "execution_count": 22,
   "outputs": [],
   "source": [
    "train_df_new = full_df[:train_df.shape[0]]\n",
    "test_df_new= full_df[train_df.shape[0]:]"
   ],
   "metadata": {
    "collapsed": false,
    "ExecuteTime": {
     "end_time": "2024-03-19T01:19:13.286253Z",
     "start_time": "2024-03-19T01:19:13.283658Z"
    }
   }
  },
  {
   "cell_type": "code",
   "execution_count": 23,
   "outputs": [
    {
     "data": {
      "text/plain": "   Month  DayofMonth  DayOfWeek  UniqueCarrier  Origin  Dest  Distance  \\\n0      8          21          7              1      19    82       732   \n1      4          20          3             19     226   180       834   \n2      9           2          5             21     239    62       416   \n3     11          25          6             16      81   184       872   \n4     10           7          6             20     182   210       423   \n\n   dep_delayed_15min  flight  begin_of_month  ...  airport_origin_per_month  \\\n0                0.0     171               0  ...                      1016   \n1                0.0    3986               0  ...                       105   \n2                0.0    4091               1  ...                       136   \n3                0.0    1304               0  ...                       514   \n4                1.0    2979               1  ...                       226   \n\n   airport_dest_count  airport_origin_count  carrier_count  \\\n0                8290                 11375          18024   \n1                3523                  1390          13069   \n2                2246                  1747          11737   \n3                1785                  6222          15343   \n4                 687                  2571          30958   \n\n   carrier_count_per month  deptime_cos  deptime_sin  flightUC  DestUC  \\\n0                     1569     0.343660    -0.939094       265     494   \n1                     1094    -0.612907    -0.790155      6907    1085   \n2                      977    -0.835807    -0.549023      7064     359   \n3                     1242    -0.884988     0.465615      2258    1122   \n4                     2674     0.073238    -0.997314      5144    1313   \n\n   OriginUC  \n0        67  \n1      1441  \n2      1518  \n3       484  \n4      1103  \n\n[5 rows x 34 columns]",
      "text/html": "<div>\n<style scoped>\n    .dataframe tbody tr th:only-of-type {\n        vertical-align: middle;\n    }\n\n    .dataframe tbody tr th {\n        vertical-align: top;\n    }\n\n    .dataframe thead th {\n        text-align: right;\n    }\n</style>\n<table border=\"1\" class=\"dataframe\">\n  <thead>\n    <tr style=\"text-align: right;\">\n      <th></th>\n      <th>Month</th>\n      <th>DayofMonth</th>\n      <th>DayOfWeek</th>\n      <th>UniqueCarrier</th>\n      <th>Origin</th>\n      <th>Dest</th>\n      <th>Distance</th>\n      <th>dep_delayed_15min</th>\n      <th>flight</th>\n      <th>begin_of_month</th>\n      <th>...</th>\n      <th>airport_origin_per_month</th>\n      <th>airport_dest_count</th>\n      <th>airport_origin_count</th>\n      <th>carrier_count</th>\n      <th>carrier_count_per month</th>\n      <th>deptime_cos</th>\n      <th>deptime_sin</th>\n      <th>flightUC</th>\n      <th>DestUC</th>\n      <th>OriginUC</th>\n    </tr>\n  </thead>\n  <tbody>\n    <tr>\n      <th>0</th>\n      <td>8</td>\n      <td>21</td>\n      <td>7</td>\n      <td>1</td>\n      <td>19</td>\n      <td>82</td>\n      <td>732</td>\n      <td>0.0</td>\n      <td>171</td>\n      <td>0</td>\n      <td>...</td>\n      <td>1016</td>\n      <td>8290</td>\n      <td>11375</td>\n      <td>18024</td>\n      <td>1569</td>\n      <td>0.343660</td>\n      <td>-0.939094</td>\n      <td>265</td>\n      <td>494</td>\n      <td>67</td>\n    </tr>\n    <tr>\n      <th>1</th>\n      <td>4</td>\n      <td>20</td>\n      <td>3</td>\n      <td>19</td>\n      <td>226</td>\n      <td>180</td>\n      <td>834</td>\n      <td>0.0</td>\n      <td>3986</td>\n      <td>0</td>\n      <td>...</td>\n      <td>105</td>\n      <td>3523</td>\n      <td>1390</td>\n      <td>13069</td>\n      <td>1094</td>\n      <td>-0.612907</td>\n      <td>-0.790155</td>\n      <td>6907</td>\n      <td>1085</td>\n      <td>1441</td>\n    </tr>\n    <tr>\n      <th>2</th>\n      <td>9</td>\n      <td>2</td>\n      <td>5</td>\n      <td>21</td>\n      <td>239</td>\n      <td>62</td>\n      <td>416</td>\n      <td>0.0</td>\n      <td>4091</td>\n      <td>1</td>\n      <td>...</td>\n      <td>136</td>\n      <td>2246</td>\n      <td>1747</td>\n      <td>11737</td>\n      <td>977</td>\n      <td>-0.835807</td>\n      <td>-0.549023</td>\n      <td>7064</td>\n      <td>359</td>\n      <td>1518</td>\n    </tr>\n    <tr>\n      <th>3</th>\n      <td>11</td>\n      <td>25</td>\n      <td>6</td>\n      <td>16</td>\n      <td>81</td>\n      <td>184</td>\n      <td>872</td>\n      <td>0.0</td>\n      <td>1304</td>\n      <td>0</td>\n      <td>...</td>\n      <td>514</td>\n      <td>1785</td>\n      <td>6222</td>\n      <td>15343</td>\n      <td>1242</td>\n      <td>-0.884988</td>\n      <td>0.465615</td>\n      <td>2258</td>\n      <td>1122</td>\n      <td>484</td>\n    </tr>\n    <tr>\n      <th>4</th>\n      <td>10</td>\n      <td>7</td>\n      <td>6</td>\n      <td>20</td>\n      <td>182</td>\n      <td>210</td>\n      <td>423</td>\n      <td>1.0</td>\n      <td>2979</td>\n      <td>1</td>\n      <td>...</td>\n      <td>226</td>\n      <td>687</td>\n      <td>2571</td>\n      <td>30958</td>\n      <td>2674</td>\n      <td>0.073238</td>\n      <td>-0.997314</td>\n      <td>5144</td>\n      <td>1313</td>\n      <td>1103</td>\n    </tr>\n  </tbody>\n</table>\n<p>5 rows × 34 columns</p>\n</div>"
     },
     "execution_count": 23,
     "metadata": {},
     "output_type": "execute_result"
    }
   ],
   "source": [
    "train_df_new.head()"
   ],
   "metadata": {
    "collapsed": false,
    "ExecuteTime": {
     "end_time": "2024-03-19T01:19:14.037229Z",
     "start_time": "2024-03-19T01:19:14.032967Z"
    }
   }
  },
  {
   "cell_type": "code",
   "execution_count": 24,
   "outputs": [
    {
     "data": {
      "text/plain": "   Month  DayofMonth  DayOfWeek  UniqueCarrier  Origin  Dest  Distance  \\\n0      7          25          3             22     198   222       598   \n1      4          17          2             20     159   132      1235   \n2     12           2          7             13     122   213       577   \n3      3          25          7             20      49   188       377   \n4      6           6          3             18     213   276       258   \n\n   dep_delayed_15min  flight  begin_of_month  ...  airport_origin_per_month  \\\n0                NaN    3228               0  ...                        22   \n1                NaN    2523               0  ...                       427   \n2                NaN    1955               1  ...                        27   \n3                NaN     694               0  ...                       253   \n4                NaN    3697               1  ...                       849   \n\n   airport_dest_count  airport_origin_count  carrier_count  \\\n0                5571                   221           6029   \n1                1513                  4932          30958   \n2                9877                   339          14424   \n3                 571                  3029          30958   \n4                1763                  9823          13311   \n\n   carrier_count_per month  deptime_cos  deptime_sin  flightUC  DestUC  \\\n0                      518    -0.039260     0.999229      5514    1432   \n1                     2578    -0.355923     0.934515      4285     766   \n2                     1194    -0.133121     0.991100      3307    1340   \n3                     2570    -0.467930    -0.883766      1183    1145   \n4                     1125    -0.697790    -0.716302      6348    1829   \n\n   OriginUC  \n0      1190  \n1       950  \n2       714  \n3       287  \n4      1331  \n\n[5 rows x 34 columns]",
      "text/html": "<div>\n<style scoped>\n    .dataframe tbody tr th:only-of-type {\n        vertical-align: middle;\n    }\n\n    .dataframe tbody tr th {\n        vertical-align: top;\n    }\n\n    .dataframe thead th {\n        text-align: right;\n    }\n</style>\n<table border=\"1\" class=\"dataframe\">\n  <thead>\n    <tr style=\"text-align: right;\">\n      <th></th>\n      <th>Month</th>\n      <th>DayofMonth</th>\n      <th>DayOfWeek</th>\n      <th>UniqueCarrier</th>\n      <th>Origin</th>\n      <th>Dest</th>\n      <th>Distance</th>\n      <th>dep_delayed_15min</th>\n      <th>flight</th>\n      <th>begin_of_month</th>\n      <th>...</th>\n      <th>airport_origin_per_month</th>\n      <th>airport_dest_count</th>\n      <th>airport_origin_count</th>\n      <th>carrier_count</th>\n      <th>carrier_count_per month</th>\n      <th>deptime_cos</th>\n      <th>deptime_sin</th>\n      <th>flightUC</th>\n      <th>DestUC</th>\n      <th>OriginUC</th>\n    </tr>\n  </thead>\n  <tbody>\n    <tr>\n      <th>0</th>\n      <td>7</td>\n      <td>25</td>\n      <td>3</td>\n      <td>22</td>\n      <td>198</td>\n      <td>222</td>\n      <td>598</td>\n      <td>NaN</td>\n      <td>3228</td>\n      <td>0</td>\n      <td>...</td>\n      <td>22</td>\n      <td>5571</td>\n      <td>221</td>\n      <td>6029</td>\n      <td>518</td>\n      <td>-0.039260</td>\n      <td>0.999229</td>\n      <td>5514</td>\n      <td>1432</td>\n      <td>1190</td>\n    </tr>\n    <tr>\n      <th>1</th>\n      <td>4</td>\n      <td>17</td>\n      <td>2</td>\n      <td>20</td>\n      <td>159</td>\n      <td>132</td>\n      <td>1235</td>\n      <td>NaN</td>\n      <td>2523</td>\n      <td>0</td>\n      <td>...</td>\n      <td>427</td>\n      <td>1513</td>\n      <td>4932</td>\n      <td>30958</td>\n      <td>2578</td>\n      <td>-0.355923</td>\n      <td>0.934515</td>\n      <td>4285</td>\n      <td>766</td>\n      <td>950</td>\n    </tr>\n    <tr>\n      <th>2</th>\n      <td>12</td>\n      <td>2</td>\n      <td>7</td>\n      <td>13</td>\n      <td>122</td>\n      <td>213</td>\n      <td>577</td>\n      <td>NaN</td>\n      <td>1955</td>\n      <td>1</td>\n      <td>...</td>\n      <td>27</td>\n      <td>9877</td>\n      <td>339</td>\n      <td>14424</td>\n      <td>1194</td>\n      <td>-0.133121</td>\n      <td>0.991100</td>\n      <td>3307</td>\n      <td>1340</td>\n      <td>714</td>\n    </tr>\n    <tr>\n      <th>3</th>\n      <td>3</td>\n      <td>25</td>\n      <td>7</td>\n      <td>20</td>\n      <td>49</td>\n      <td>188</td>\n      <td>377</td>\n      <td>NaN</td>\n      <td>694</td>\n      <td>0</td>\n      <td>...</td>\n      <td>253</td>\n      <td>571</td>\n      <td>3029</td>\n      <td>30958</td>\n      <td>2570</td>\n      <td>-0.467930</td>\n      <td>-0.883766</td>\n      <td>1183</td>\n      <td>1145</td>\n      <td>287</td>\n    </tr>\n    <tr>\n      <th>4</th>\n      <td>6</td>\n      <td>6</td>\n      <td>3</td>\n      <td>18</td>\n      <td>213</td>\n      <td>276</td>\n      <td>258</td>\n      <td>NaN</td>\n      <td>3697</td>\n      <td>1</td>\n      <td>...</td>\n      <td>849</td>\n      <td>1763</td>\n      <td>9823</td>\n      <td>13311</td>\n      <td>1125</td>\n      <td>-0.697790</td>\n      <td>-0.716302</td>\n      <td>6348</td>\n      <td>1829</td>\n      <td>1331</td>\n    </tr>\n  </tbody>\n</table>\n<p>5 rows × 34 columns</p>\n</div>"
     },
     "execution_count": 24,
     "metadata": {},
     "output_type": "execute_result"
    }
   ],
   "source": [
    "test_df_new.head()"
   ],
   "metadata": {
    "collapsed": false,
    "ExecuteTime": {
     "end_time": "2024-03-19T01:19:14.665593Z",
     "start_time": "2024-03-19T01:19:14.657984Z"
    }
   }
  },
  {
   "cell_type": "markdown",
   "source": [
    "Create a list of the categorical features."
   ],
   "metadata": {
    "collapsed": false
   }
  },
  {
   "cell_type": "code",
   "execution_count": 25,
   "outputs": [],
   "source": [
    "categorical_features = ['Month',  'DayOfWeek', 'UniqueCarrier', 'Origin', 'Dest','flight',  'flightUC', 'DestUC', 'OriginUC']"
   ],
   "metadata": {
    "collapsed": false,
    "ExecuteTime": {
     "end_time": "2024-03-19T01:19:16.202771Z",
     "start_time": "2024-03-19T01:19:16.196227Z"
    }
   }
  },
  {
   "cell_type": "markdown",
   "source": [
    "Let's build a light GBM model to test the bayesian optimizer."
   ],
   "metadata": {
    "collapsed": false
   }
  },
  {
   "cell_type": "markdown",
   "source": [
    "### [LightGBM](https://lightgbm.readthedocs.io/en/latest/) is a gradient boosting framework that uses tree-based learning algorithms. It is designed to be distributed and efficient with the following advantages:\n",
    "\n",
    "* Faster training speed and higher efficiency.\n",
    "* Lower memory usage.\n",
    "* Better accuracy.\n",
    "* Support of parallel and GPU learning.\n",
    "* Capable of handling large-scale data."
   ],
   "metadata": {
    "collapsed": false
   }
  },
  {
   "cell_type": "markdown",
   "source": [
    "First, we define the function we want to maximize and that will count cross-validation metrics of lightGBM for our parameters.\n",
    "\n",
    "Some params such as num_leaves, max_depth, min_child_samples, min_data_in_leaf should be integers."
   ],
   "metadata": {
    "collapsed": false
   }
  },
  {
   "cell_type": "code",
   "execution_count": 26,
   "outputs": [],
   "source": [
    "from sklearn.model_selection import train_test_split\n",
    "\n",
    "X = train_df_new.drop('dep_delayed_15min', axis=1)\n",
    "y = train_df_new['dep_delayed_15min']\n",
    "\n",
    "X_train, X_valid, y_train, y_valid = train_test_split(X, y, test_size=0.30, random_state=42)"
   ],
   "metadata": {
    "collapsed": false,
    "ExecuteTime": {
     "end_time": "2024-03-19T01:19:18.497446Z",
     "start_time": "2024-03-19T01:19:18.444142Z"
    }
   }
  },
  {
   "cell_type": "code",
   "execution_count": 27,
   "outputs": [],
   "source": [
    "lgtrain = lightgbm.Dataset(X_train, y_train, categorical_feature=categorical_features, free_raw_data=False)"
   ],
   "metadata": {
    "collapsed": false,
    "ExecuteTime": {
     "end_time": "2024-03-19T01:19:19.005167Z",
     "start_time": "2024-03-19T01:19:19.003165Z"
    }
   }
  },
  {
   "cell_type": "code",
   "execution_count": 28,
   "outputs": [],
   "source": [
    "def lgb_eval(num_leaves,max_depth,lambda_l2,lambda_l1,min_child_samples, min_data_in_leaf):\n",
    "    params = {\n",
    "        \"objective\" : \"binary\",\n",
    "        \"metric\" : \"auc\",\n",
    "        'is_unbalance': True,\n",
    "        \"num_leaves\" : int(num_leaves),\n",
    "        \"max_depth\" : int(max_depth),\n",
    "        \"lambda_l2\" : lambda_l2,\n",
    "        \"lambda_l1\" : lambda_l1,\n",
    "        \"num_threads\" : 20,\n",
    "        \"min_child_samples\" : int(min_child_samples),\n",
    "        'min_data_in_leaf': int(min_data_in_leaf),\n",
    "        \"learning_rate\" : 0.03,\n",
    "        \"subsample_freq\" : 5,\n",
    "        \"bagging_seed\" : 42,\n",
    "        \"verbosity\" : -1,\n",
    "        \"feature_pre_filter\": False}\n",
    "\n",
    "    cv_result = lightgbm.cv(params=params,\n",
    "                            train_set=lgtrain,\n",
    "                            num_boost_round=1000,\n",
    "                            stratified=True,\n",
    "                            nfold=3)\n",
    "    return cv_result['valid auc-mean'][-1]"
   ],
   "metadata": {
    "collapsed": false,
    "ExecuteTime": {
     "end_time": "2024-03-19T01:19:19.550176Z",
     "start_time": "2024-03-19T01:19:19.544273Z"
    }
   }
  },
  {
   "cell_type": "markdown",
   "source": [
    "Apply the Bayesian optimizer to the function we created in the previous step to identify the best hyperparameters. We will run 10 iterations and set init_points = 2.\n"
   ],
   "metadata": {
    "collapsed": false
   }
  },
  {
   "cell_type": "code",
   "execution_count": 29,
   "outputs": [],
   "source": [
    "lgbBO = BayesianOptimization(f=lgb_eval, pbounds={'num_leaves': (25, 4000),\n",
    "                                                  'max_depth': (5, 63),\n",
    "                                                  'lambda_l2': (0.0, 0.05),\n",
    "                                                  'lambda_l1': (0.0, 0.05),\n",
    "                                                  'min_child_samples': (50, 10000),\n",
    "                                                  'min_data_in_leaf': (100, 2000)})"
   ],
   "metadata": {
    "collapsed": false,
    "ExecuteTime": {
     "end_time": "2024-03-19T01:19:22.338389Z",
     "start_time": "2024-03-19T01:19:22.331191Z"
    }
   }
  },
  {
   "cell_type": "code",
   "execution_count": null,
   "outputs": [],
   "source": [
    "lgbBO.maximize(n_iter=10, init_points=2)"
   ],
   "metadata": {
    "collapsed": false,
    "is_executing": true,
    "ExecuteTime": {
     "start_time": "2024-03-19T01:19:23.277895Z"
    }
   }
  },
  {
   "cell_type": "markdown",
   "source": [
    "|   iter    |  target   | lambda_l1 | lambda_l2 | max_depth | min_ch... | min_da... | num_le... |\n",
    "-------------------------------------------------------------------------------------------------\n",
    "| 1         | 0.733     | 0.04892   | 0.02947   | 22.78     | 5.682e+03 | 1.104e+03 | 2.024e+03 |\n",
    "| 2         | 0.7367    | 0.03834   | 0.03857   | 20.32     | 4.986e+03 | 1.897e+03 | 2.497e+03 |\n",
    "| 3         | 0.7362    | 0.009514  | 0.03317   | 12.08     | 3.672e+03 | 1.249e+03 | 563.6     |\n",
    "| 4         | 0.7328    | 0.0471    | 0.04525   | 33.99     | 4.898e+03 | 1.164e+03 | 2.608e+03 |\n",
    "| 5         | 0.7365    | 0.03901   | 0.01233   | 47.95     | 7.984e+03 | 1.958e+03 | 629.4     |\n",
    "| 6         | 0.7369    | 0.02775   | 0.03885   | 17.19     | 2.776e+03 | 1.832e+03 | 2.226e+03 |\n",
    "| 7         | 0.7082    | 0.002291  | 0.04103   | 15.92     | 396.9     | 662.4     | 3.162e+03 |\n",
    "| 8         | 0.736     | 0.006403  | 0.03412   | 42.17     | 9.939e+03 | 1.966e+03 | 3.742e+03 |\n",
    "| 9         | 0.6957    | 0.01423   | 0.01937   | 8.699     | 9.923e+03 | 119.7     | 198.1     |\n",
    "| 10        | 0.7365    | 0.04182   | 0.02257   | 22.99     | 7.499e+03 | 1.95e+03  | 3.755e+03 |\n",
    "| 11        | 0.7366    | 0.04948   | 0.02525   | 48.22     | 5.867e+03 | 1.974e+03 | 181.4     |\n",
    "| 12        | 0.7365    | 0.0277    | 0.03409   | 41.23     | 2.663e+03 | 1.861e+03 | 2.383e+03 |\n",
    "================================================================================================="
   ],
   "metadata": {
    "collapsed": false
   }
  },
  {
   "cell_type": "code",
   "execution_count": null,
   "outputs": [],
   "source": [
    "lgbBO.max"
   ],
   "metadata": {
    "collapsed": false
   }
  },
  {
   "cell_type": "markdown",
   "source": [
    "\n",
    "{'target': 0.7369473908252746,\n",
    " 'params': {'lambda_l1': 0.02774976553924449,\n",
    "  'lambda_l2': 0.03884635036275905,\n",
    "  'max_depth': 17.191792483278753,\n",
    "  'min_child_samples': 2775.6558710962963,\n",
    "  'min_data_in_leaf': 1831.602834072356,\n",
    "  'num_leaves': 2225.829374770909}}"
   ],
   "metadata": {
    "collapsed": false
   }
  },
  {
   "cell_type": "markdown",
   "source": [],
   "metadata": {
    "collapsed": false
   }
  }
 ],
 "metadata": {
  "colab": {
   "name": "Bayesian_optimization_exercise.ipynb",
   "provenance": []
  },
  "deepnote_execution_queue": [],
  "kernelspec": {
   "display_name": "Python 3",
   "language": "python",
   "name": "python3"
  },
  "language_info": {
   "codemirror_mode": {
    "name": "ipython",
    "version": 3
   },
   "file_extension": ".py",
   "mimetype": "text/x-python",
   "name": "python",
   "nbconvert_exporter": "python",
   "pygments_lexer": "ipython3",
   "version": "3.7.3"
  },
  "varInspector": {
   "cols": {
    "lenName": 16,
    "lenType": 16,
    "lenVar": 40
   },
   "kernels_config": {
    "python": {
     "delete_cmd_postfix": "",
     "delete_cmd_prefix": "del ",
     "library": "var_list.py",
     "varRefreshCmd": "print(var_dic_list())"
    },
    "r": {
     "delete_cmd_postfix": ") ",
     "delete_cmd_prefix": "rm(",
     "library": "var_list.r",
     "varRefreshCmd": "cat(var_dic_list()) "
    }
   },
   "types_to_exclude": [
    "module",
    "function",
    "builtin_function_or_method",
    "instance",
    "_Feature"
   ],
   "window_display": false
  }
 },
 "nbformat": 4,
 "nbformat_minor": 1
}
