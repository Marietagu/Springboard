{
 "cells": [
  {
   "cell_type": "code",
   "execution_count": 1,
   "metadata": {
    "collapsed": true,
    "ExecuteTime": {
     "end_time": "2023-12-14T17:50:00.980454Z",
     "start_time": "2023-12-14T17:49:57.559111Z"
    }
   },
   "outputs": [
    {
     "name": "stdout",
     "output_type": "stream",
     "text": [
      "Requirement already satisfied: ipython-sql in /Users/carambolas/anaconda3/lib/python3.10/site-packages (0.5.0)\r\n",
      "Requirement already satisfied: prettytable in /Users/carambolas/anaconda3/lib/python3.10/site-packages (from ipython-sql) (3.9.0)\r\n",
      "Requirement already satisfied: six in /Users/carambolas/anaconda3/lib/python3.10/site-packages (from ipython-sql) (1.16.0)\r\n",
      "Requirement already satisfied: sqlparse in /Users/carambolas/anaconda3/lib/python3.10/site-packages (from ipython-sql) (0.4.4)\r\n",
      "Requirement already satisfied: sqlalchemy>=2.0 in /Users/carambolas/anaconda3/lib/python3.10/site-packages (from ipython-sql) (2.0.23)\r\n",
      "Requirement already satisfied: ipython-genutils in /Users/carambolas/anaconda3/lib/python3.10/site-packages (from ipython-sql) (0.2.0)\r\n",
      "Requirement already satisfied: ipython in /Users/carambolas/anaconda3/lib/python3.10/site-packages (from ipython-sql) (8.10.0)\r\n",
      "Requirement already satisfied: greenlet!=0.4.17 in /Users/carambolas/anaconda3/lib/python3.10/site-packages (from sqlalchemy>=2.0->ipython-sql) (2.0.1)\r\n",
      "Requirement already satisfied: typing-extensions>=4.2.0 in /Users/carambolas/anaconda3/lib/python3.10/site-packages (from sqlalchemy>=2.0->ipython-sql) (4.4.0)\r\n",
      "Requirement already satisfied: matplotlib-inline in /Users/carambolas/anaconda3/lib/python3.10/site-packages (from ipython->ipython-sql) (0.1.6)\r\n",
      "Requirement already satisfied: appnope in /Users/carambolas/anaconda3/lib/python3.10/site-packages (from ipython->ipython-sql) (0.1.3)\r\n",
      "Requirement already satisfied: pygments>=2.4.0 in /Users/carambolas/anaconda3/lib/python3.10/site-packages (from ipython->ipython-sql) (2.14.0)\r\n",
      "Requirement already satisfied: prompt-toolkit<3.1.0,>=3.0.30 in /Users/carambolas/anaconda3/lib/python3.10/site-packages (from ipython->ipython-sql) (3.0.38)\r\n",
      "Requirement already satisfied: pickleshare in /Users/carambolas/anaconda3/lib/python3.10/site-packages (from ipython->ipython-sql) (0.7.5)\r\n",
      "Requirement already satisfied: jedi>=0.16 in /Users/carambolas/anaconda3/lib/python3.10/site-packages (from ipython->ipython-sql) (0.18.2)\r\n",
      "Requirement already satisfied: traitlets>=5 in /Users/carambolas/anaconda3/lib/python3.10/site-packages (from ipython->ipython-sql) (5.7.1)\r\n",
      "Requirement already satisfied: pexpect>4.3 in /Users/carambolas/anaconda3/lib/python3.10/site-packages (from ipython->ipython-sql) (4.8.0)\r\n",
      "Requirement already satisfied: stack-data in /Users/carambolas/anaconda3/lib/python3.10/site-packages (from ipython->ipython-sql) (0.2.0)\r\n",
      "Requirement already satisfied: decorator in /Users/carambolas/anaconda3/lib/python3.10/site-packages (from ipython->ipython-sql) (5.1.1)\r\n",
      "Requirement already satisfied: backcall in /Users/carambolas/anaconda3/lib/python3.10/site-packages (from ipython->ipython-sql) (0.2.0)\r\n",
      "Requirement already satisfied: wcwidth in /Users/carambolas/anaconda3/lib/python3.10/site-packages (from prettytable->ipython-sql) (0.2.6)\r\n",
      "Requirement already satisfied: parso<0.9.0,>=0.8.0 in /Users/carambolas/anaconda3/lib/python3.10/site-packages (from jedi>=0.16->ipython->ipython-sql) (0.8.3)\r\n",
      "Requirement already satisfied: ptyprocess>=0.5 in /Users/carambolas/anaconda3/lib/python3.10/site-packages (from pexpect>4.3->ipython->ipython-sql) (0.7.0)\r\n",
      "Requirement already satisfied: pure-eval in /Users/carambolas/anaconda3/lib/python3.10/site-packages (from stack-data->ipython->ipython-sql) (0.2.2)\r\n",
      "Requirement already satisfied: executing in /Users/carambolas/anaconda3/lib/python3.10/site-packages (from stack-data->ipython->ipython-sql) (1.2.0)\r\n",
      "Requirement already satisfied: asttokens in /Users/carambolas/anaconda3/lib/python3.10/site-packages (from stack-data->ipython->ipython-sql) (2.0.5)\r\n"
     ]
    }
   ],
   "source": [
    "!pip install ipython-sql"
   ]
  },
  {
   "cell_type": "code",
   "execution_count": 2,
   "outputs": [],
   "source": [
    "%load_ext sql"
   ],
   "metadata": {
    "collapsed": false,
    "ExecuteTime": {
     "end_time": "2023-12-14T17:50:01.400302Z",
     "start_time": "2023-12-14T17:50:00.980698Z"
    }
   }
  },
  {
   "cell_type": "code",
   "execution_count": 3,
   "outputs": [],
   "source": [
    "%sql sqlite:///sqlite_db_pythonsqlite.db\n"
   ],
   "metadata": {
    "collapsed": false,
    "ExecuteTime": {
     "end_time": "2023-12-14T17:50:01.412522Z",
     "start_time": "2023-12-14T17:50:01.402657Z"
    }
   }
  },
  {
   "cell_type": "code",
   "execution_count": 4,
   "outputs": [
    {
     "name": "stdout",
     "output_type": "stream",
     "text": [
      " * sqlite:///sqlite_db_pythonsqlite.db\n",
      "Done.\n"
     ]
    },
    {
     "data": {
      "text/plain": "[('Bookings',), ('Facilities',), ('Members',)]",
      "text/html": "<table>\n    <thead>\n        <tr>\n            <th>name</th>\n        </tr>\n    </thead>\n    <tbody>\n        <tr>\n            <td>Bookings</td>\n        </tr>\n        <tr>\n            <td>Facilities</td>\n        </tr>\n        <tr>\n            <td>Members</td>\n        </tr>\n    </tbody>\n</table>"
     },
     "execution_count": 4,
     "metadata": {},
     "output_type": "execute_result"
    }
   ],
   "source": [
    "%%sql\n",
    "SELECT name FROM sqlite_master WHERE type='table';\n",
    "\n"
   ],
   "metadata": {
    "collapsed": false,
    "ExecuteTime": {
     "end_time": "2023-12-14T02:59:35.743520Z",
     "start_time": "2023-12-14T02:59:35.693653Z"
    }
   }
  },
  {
   "cell_type": "code",
   "execution_count": 5,
   "outputs": [
    {
     "name": "stdout",
     "output_type": "stream",
     "text": [
      " * sqlite:///sqlite_db_pythonsqlite.db\n",
      "Done.\n"
     ]
    },
    {
     "data": {
      "text/plain": "[(0, 'Tennis Court 1', 5, 25, 10000, 200),\n (1, 'Tennis Court 2', 5, 25, 8000, 200),\n (2, 'Badminton Court', 0, 15.5, 4000, 50),\n (3, 'Table Tennis', 0, 5, 320, 10),\n (4, 'Massage Room 1', 9.9, 80, 4000, 3000)]",
      "text/html": "<table>\n    <thead>\n        <tr>\n            <th>facid</th>\n            <th>name</th>\n            <th>membercost</th>\n            <th>guestcost</th>\n            <th>initialoutlay</th>\n            <th>monthlymaintenance</th>\n        </tr>\n    </thead>\n    <tbody>\n        <tr>\n            <td>0</td>\n            <td>Tennis Court 1</td>\n            <td>5</td>\n            <td>25</td>\n            <td>10000</td>\n            <td>200</td>\n        </tr>\n        <tr>\n            <td>1</td>\n            <td>Tennis Court 2</td>\n            <td>5</td>\n            <td>25</td>\n            <td>8000</td>\n            <td>200</td>\n        </tr>\n        <tr>\n            <td>2</td>\n            <td>Badminton Court</td>\n            <td>0</td>\n            <td>15.5</td>\n            <td>4000</td>\n            <td>50</td>\n        </tr>\n        <tr>\n            <td>3</td>\n            <td>Table Tennis</td>\n            <td>0</td>\n            <td>5</td>\n            <td>320</td>\n            <td>10</td>\n        </tr>\n        <tr>\n            <td>4</td>\n            <td>Massage Room 1</td>\n            <td>9.9</td>\n            <td>80</td>\n            <td>4000</td>\n            <td>3000</td>\n        </tr>\n    </tbody>\n</table>"
     },
     "execution_count": 5,
     "metadata": {},
     "output_type": "execute_result"
    }
   ],
   "source": [
    "%%sql\n",
    "SELECT * FROM Facilities LIMIT 5;"
   ],
   "metadata": {
    "collapsed": false,
    "ExecuteTime": {
     "end_time": "2023-12-14T02:59:37.041833Z",
     "start_time": "2023-12-14T02:59:37.035400Z"
    }
   }
  },
  {
   "cell_type": "code",
   "execution_count": 6,
   "outputs": [
    {
     "name": "stdout",
     "output_type": "stream",
     "text": [
      " * sqlite:///sqlite_db_pythonsqlite.db\n",
      "Done.\n"
     ]
    },
    {
     "data": {
      "text/plain": "[(0, 3, 1, '2012-07-03 11:00:00', 2),\n (1, 4, 1, '2012-07-03 08:00:00', 2),\n (2, 6, 0, '2012-07-03 18:00:00', 2),\n (3, 7, 1, '2012-07-03 19:00:00', 2),\n (4, 8, 1, '2012-07-03 10:00:00', 1)]",
      "text/html": "<table>\n    <thead>\n        <tr>\n            <th>bookid</th>\n            <th>facid</th>\n            <th>memid</th>\n            <th>starttime</th>\n            <th>slots</th>\n        </tr>\n    </thead>\n    <tbody>\n        <tr>\n            <td>0</td>\n            <td>3</td>\n            <td>1</td>\n            <td>2012-07-03 11:00:00</td>\n            <td>2</td>\n        </tr>\n        <tr>\n            <td>1</td>\n            <td>4</td>\n            <td>1</td>\n            <td>2012-07-03 08:00:00</td>\n            <td>2</td>\n        </tr>\n        <tr>\n            <td>2</td>\n            <td>6</td>\n            <td>0</td>\n            <td>2012-07-03 18:00:00</td>\n            <td>2</td>\n        </tr>\n        <tr>\n            <td>3</td>\n            <td>7</td>\n            <td>1</td>\n            <td>2012-07-03 19:00:00</td>\n            <td>2</td>\n        </tr>\n        <tr>\n            <td>4</td>\n            <td>8</td>\n            <td>1</td>\n            <td>2012-07-03 10:00:00</td>\n            <td>1</td>\n        </tr>\n    </tbody>\n</table>"
     },
     "execution_count": 6,
     "metadata": {},
     "output_type": "execute_result"
    }
   ],
   "source": [
    "%%sql\n",
    "SELECT * FROM Bookings LIMIT 5;"
   ],
   "metadata": {
    "collapsed": false,
    "ExecuteTime": {
     "end_time": "2023-12-14T02:59:45.533816Z",
     "start_time": "2023-12-14T02:59:45.527890Z"
    }
   }
  },
  {
   "cell_type": "code",
   "execution_count": 7,
   "outputs": [
    {
     "name": "stdout",
     "output_type": "stream",
     "text": [
      " * sqlite:///sqlite_db_pythonsqlite.db\n",
      "Done.\n"
     ]
    },
    {
     "data": {
      "text/plain": "[(0, 'GUEST', 'GUEST', 'GUEST', 0, '(000) 000-0000', '', '2012-07-01 00:00:00'),\n (1, 'Smith', 'Darren', '8 Bloomsbury Close, Boston', 4321, '555-555-5555', '', '2012-07-02 12:02:05'),\n (2, 'Smith', 'Tracy', '8 Bloomsbury Close, New York', 4321, '555-555-5555', '', '2012-07-02 12:08:23'),\n (3, 'Rownam', 'Tim', '23 Highway Way, Boston', 23423, '(844) 693-0723', '', '2012-07-03 09:32:15'),\n (4, 'Joplette', 'Janice', '20 Crossing Road, New York', 234, '(833) 942-4710', '1', '2012-07-03 10:25:05')]",
      "text/html": "<table>\n    <thead>\n        <tr>\n            <th>memid</th>\n            <th>surname</th>\n            <th>firstname</th>\n            <th>address</th>\n            <th>zipcode</th>\n            <th>telephone</th>\n            <th>recommendedby</th>\n            <th>joindate</th>\n        </tr>\n    </thead>\n    <tbody>\n        <tr>\n            <td>0</td>\n            <td>GUEST</td>\n            <td>GUEST</td>\n            <td>GUEST</td>\n            <td>0</td>\n            <td>(000) 000-0000</td>\n            <td></td>\n            <td>2012-07-01 00:00:00</td>\n        </tr>\n        <tr>\n            <td>1</td>\n            <td>Smith</td>\n            <td>Darren</td>\n            <td>8 Bloomsbury Close, Boston</td>\n            <td>4321</td>\n            <td>555-555-5555</td>\n            <td></td>\n            <td>2012-07-02 12:02:05</td>\n        </tr>\n        <tr>\n            <td>2</td>\n            <td>Smith</td>\n            <td>Tracy</td>\n            <td>8 Bloomsbury Close, New York</td>\n            <td>4321</td>\n            <td>555-555-5555</td>\n            <td></td>\n            <td>2012-07-02 12:08:23</td>\n        </tr>\n        <tr>\n            <td>3</td>\n            <td>Rownam</td>\n            <td>Tim</td>\n            <td>23 Highway Way, Boston</td>\n            <td>23423</td>\n            <td>(844) 693-0723</td>\n            <td></td>\n            <td>2012-07-03 09:32:15</td>\n        </tr>\n        <tr>\n            <td>4</td>\n            <td>Joplette</td>\n            <td>Janice</td>\n            <td>20 Crossing Road, New York</td>\n            <td>234</td>\n            <td>(833) 942-4710</td>\n            <td>1</td>\n            <td>2012-07-03 10:25:05</td>\n        </tr>\n    </tbody>\n</table>"
     },
     "execution_count": 7,
     "metadata": {},
     "output_type": "execute_result"
    }
   ],
   "source": [
    "%%sql\n",
    "SELECT * FROM Members LIMIT 5;"
   ],
   "metadata": {
    "collapsed": false,
    "ExecuteTime": {
     "end_time": "2023-12-14T02:59:47.522396Z",
     "start_time": "2023-12-14T02:59:47.512483Z"
    }
   }
  },
  {
   "cell_type": "markdown",
   "source": [
    "Q1: Some of the facilities charge a fee to members, but some do not.\n",
    "Write a SQL query to produce a list of the names of the facilities that do."
   ],
   "metadata": {
    "collapsed": false
   }
  },
  {
   "cell_type": "code",
   "execution_count": 8,
   "outputs": [
    {
     "name": "stdout",
     "output_type": "stream",
     "text": [
      " * sqlite:///sqlite_db_pythonsqlite.db\n",
      "Done.\n"
     ]
    },
    {
     "data": {
      "text/plain": "[('Tennis Court 1',),\n ('Tennis Court 2',),\n ('Massage Room 1',),\n ('Massage Room 2',),\n ('Squash Court',)]",
      "text/html": "<table>\n    <thead>\n        <tr>\n            <th>name</th>\n        </tr>\n    </thead>\n    <tbody>\n        <tr>\n            <td>Tennis Court 1</td>\n        </tr>\n        <tr>\n            <td>Tennis Court 2</td>\n        </tr>\n        <tr>\n            <td>Massage Room 1</td>\n        </tr>\n        <tr>\n            <td>Massage Room 2</td>\n        </tr>\n        <tr>\n            <td>Squash Court</td>\n        </tr>\n    </tbody>\n</table>"
     },
     "execution_count": 8,
     "metadata": {},
     "output_type": "execute_result"
    }
   ],
   "source": [
    "%%sql\n",
    "SELECT name FROM Facilities WHERE membercost > 0;"
   ],
   "metadata": {
    "collapsed": false,
    "ExecuteTime": {
     "end_time": "2023-12-14T02:59:50.074829Z",
     "start_time": "2023-12-14T02:59:50.067448Z"
    }
   }
  },
  {
   "cell_type": "markdown",
   "source": [
    "Q2:How many facilities do not charge a fee to members?\n"
   ],
   "metadata": {
    "collapsed": false
   }
  },
  {
   "cell_type": "code",
   "execution_count": 9,
   "outputs": [
    {
     "name": "stdout",
     "output_type": "stream",
     "text": [
      " * sqlite:///sqlite_db_pythonsqlite.db\n",
      "Done.\n"
     ]
    },
    {
     "data": {
      "text/plain": "[(4,)]",
      "text/html": "<table>\n    <thead>\n        <tr>\n            <th>COUNT(facid)</th>\n        </tr>\n    </thead>\n    <tbody>\n        <tr>\n            <td>4</td>\n        </tr>\n    </tbody>\n</table>"
     },
     "execution_count": 9,
     "metadata": {},
     "output_type": "execute_result"
    }
   ],
   "source": [
    "%%sql\n",
    "SELECT COUNT(facid) FROM Facilities WHERE membercost = 0;"
   ],
   "metadata": {
    "collapsed": false,
    "ExecuteTime": {
     "end_time": "2023-12-14T02:59:53.897770Z",
     "start_time": "2023-12-14T02:59:53.892139Z"
    }
   }
  },
  {
   "cell_type": "markdown",
   "source": [
    "Q3:Write an SQL query to show a list of facilities that charge a fee to members,\n",
    "where the fee is less than 20% of the facility's monthly maintenance cost.\n",
    "Return the facid, facility name, member cost, and monthly maintenance of the\n",
    "facilities in question."
   ],
   "metadata": {
    "collapsed": false
   }
  },
  {
   "cell_type": "code",
   "execution_count": 10,
   "outputs": [
    {
     "name": "stdout",
     "output_type": "stream",
     "text": [
      " * sqlite:///sqlite_db_pythonsqlite.db\n",
      "Done.\n"
     ]
    },
    {
     "data": {
      "text/plain": "[(0, 'Tennis Court 1', 5, 200),\n (1, 'Tennis Court 2', 5, 200),\n (4, 'Massage Room 1', 9.9, 3000),\n (5, 'Massage Room 2', 9.9, 3000),\n (6, 'Squash Court', 3.5, 80)]",
      "text/html": "<table>\n    <thead>\n        <tr>\n            <th>facid</th>\n            <th>name</th>\n            <th>membercost</th>\n            <th>monthlymaintenance</th>\n        </tr>\n    </thead>\n    <tbody>\n        <tr>\n            <td>0</td>\n            <td>Tennis Court 1</td>\n            <td>5</td>\n            <td>200</td>\n        </tr>\n        <tr>\n            <td>1</td>\n            <td>Tennis Court 2</td>\n            <td>5</td>\n            <td>200</td>\n        </tr>\n        <tr>\n            <td>4</td>\n            <td>Massage Room 1</td>\n            <td>9.9</td>\n            <td>3000</td>\n        </tr>\n        <tr>\n            <td>5</td>\n            <td>Massage Room 2</td>\n            <td>9.9</td>\n            <td>3000</td>\n        </tr>\n        <tr>\n            <td>6</td>\n            <td>Squash Court</td>\n            <td>3.5</td>\n            <td>80</td>\n        </tr>\n    </tbody>\n</table>"
     },
     "execution_count": 10,
     "metadata": {},
     "output_type": "execute_result"
    }
   ],
   "source": [
    "%%sql\n",
    "SELECT facid, name, membercost, monthlymaintenance\n",
    "FROM Facilities\n",
    "WHERE membercost > 0 AND membercost < (0.2 * monthlymaintenance);"
   ],
   "metadata": {
    "collapsed": false,
    "ExecuteTime": {
     "end_time": "2023-12-14T02:59:55.870436Z",
     "start_time": "2023-12-14T02:59:55.865769Z"
    }
   }
  },
  {
   "cell_type": "markdown",
   "source": [
    "Q4: Write an SQL query to retrieve the details of facilities with ID 1 and 5.\n",
    "Try writing the query without using the OR operator."
   ],
   "metadata": {
    "collapsed": false
   }
  },
  {
   "cell_type": "code",
   "execution_count": 11,
   "outputs": [
    {
     "name": "stdout",
     "output_type": "stream",
     "text": [
      " * sqlite:///sqlite_db_pythonsqlite.db\n",
      "Done.\n"
     ]
    },
    {
     "data": {
      "text/plain": "[(1, 'Tennis Court 2', 5, 25, 8000, 200),\n (5, 'Massage Room 2', 9.9, 80, 4000, 3000)]",
      "text/html": "<table>\n    <thead>\n        <tr>\n            <th>facid</th>\n            <th>name</th>\n            <th>membercost</th>\n            <th>guestcost</th>\n            <th>initialoutlay</th>\n            <th>monthlymaintenance</th>\n        </tr>\n    </thead>\n    <tbody>\n        <tr>\n            <td>1</td>\n            <td>Tennis Court 2</td>\n            <td>5</td>\n            <td>25</td>\n            <td>8000</td>\n            <td>200</td>\n        </tr>\n        <tr>\n            <td>5</td>\n            <td>Massage Room 2</td>\n            <td>9.9</td>\n            <td>80</td>\n            <td>4000</td>\n            <td>3000</td>\n        </tr>\n    </tbody>\n</table>"
     },
     "execution_count": 11,
     "metadata": {},
     "output_type": "execute_result"
    }
   ],
   "source": [
    "%%sql\n",
    "SELECT *\n",
    "FROM Facilities\n",
    "WHERE facid IN (1,5);\n"
   ],
   "metadata": {
    "collapsed": false,
    "ExecuteTime": {
     "end_time": "2023-12-14T02:59:59.109366Z",
     "start_time": "2023-12-14T02:59:59.104889Z"
    }
   }
  },
  {
   "cell_type": "markdown",
   "source": [
    "Q5: Produce a list of facilities, with each labelled as\n",
    "'cheap' or 'expensive', depending on if their monthly maintenance cost is\n",
    "more than $100. Return the name and monthly maintenance of the facilities\n",
    "in question."
   ],
   "metadata": {
    "collapsed": false
   }
  },
  {
   "cell_type": "code",
   "execution_count": 12,
   "outputs": [
    {
     "name": "stdout",
     "output_type": "stream",
     "text": [
      " * sqlite:///sqlite_db_pythonsqlite.db\n",
      "Done.\n"
     ]
    },
    {
     "data": {
      "text/plain": "[('Tennis Court 1', 200, 'expensive'),\n ('Tennis Court 2', 200, 'expensive'),\n ('Badminton Court', 50, 'cheap'),\n ('Table Tennis', 10, 'cheap'),\n ('Massage Room 1', 3000, 'expensive'),\n ('Massage Room 2', 3000, 'expensive'),\n ('Squash Court', 80, 'cheap'),\n ('Snooker Table', 15, 'cheap'),\n ('Pool Table', 15, 'cheap')]",
      "text/html": "<table>\n    <thead>\n        <tr>\n            <th>name</th>\n            <th>monthlymaintenance</th>\n            <th>label</th>\n        </tr>\n    </thead>\n    <tbody>\n        <tr>\n            <td>Tennis Court 1</td>\n            <td>200</td>\n            <td>expensive</td>\n        </tr>\n        <tr>\n            <td>Tennis Court 2</td>\n            <td>200</td>\n            <td>expensive</td>\n        </tr>\n        <tr>\n            <td>Badminton Court</td>\n            <td>50</td>\n            <td>cheap</td>\n        </tr>\n        <tr>\n            <td>Table Tennis</td>\n            <td>10</td>\n            <td>cheap</td>\n        </tr>\n        <tr>\n            <td>Massage Room 1</td>\n            <td>3000</td>\n            <td>expensive</td>\n        </tr>\n        <tr>\n            <td>Massage Room 2</td>\n            <td>3000</td>\n            <td>expensive</td>\n        </tr>\n        <tr>\n            <td>Squash Court</td>\n            <td>80</td>\n            <td>cheap</td>\n        </tr>\n        <tr>\n            <td>Snooker Table</td>\n            <td>15</td>\n            <td>cheap</td>\n        </tr>\n        <tr>\n            <td>Pool Table</td>\n            <td>15</td>\n            <td>cheap</td>\n        </tr>\n    </tbody>\n</table>"
     },
     "execution_count": 12,
     "metadata": {},
     "output_type": "execute_result"
    }
   ],
   "source": [
    "%%sql\n",
    "SELECT name, monthlymaintenance,\n",
    "CASE WHEN monthlymaintenance > 100 THEN 'expensive'\n",
    "    WHEN monthlymaintenance < 100 THEN 'cheap'\n",
    "    END AS label\n",
    "FROM Facilities;\n"
   ],
   "metadata": {
    "collapsed": false,
    "ExecuteTime": {
     "end_time": "2023-12-14T03:00:01.477573Z",
     "start_time": "2023-12-14T03:00:01.467284Z"
    }
   }
  },
  {
   "cell_type": "markdown",
   "source": [
    "Q6: You'd like to get the first and last name of the last member(s)\n",
    "who signed up. Try not to use the LIMIT clause for your solution."
   ],
   "metadata": {
    "collapsed": false
   }
  },
  {
   "cell_type": "code",
   "execution_count": 13,
   "outputs": [
    {
     "name": "stdout",
     "output_type": "stream",
     "text": [
      " * sqlite:///sqlite_db_pythonsqlite.db\n",
      "Done.\n"
     ]
    },
    {
     "data": {
      "text/plain": "[('Darren', 'Smith')]",
      "text/html": "<table>\n    <thead>\n        <tr>\n            <th>firstname</th>\n            <th>surname</th>\n        </tr>\n    </thead>\n    <tbody>\n        <tr>\n            <td>Darren</td>\n            <td>Smith</td>\n        </tr>\n    </tbody>\n</table>"
     },
     "execution_count": 13,
     "metadata": {},
     "output_type": "execute_result"
    }
   ],
   "source": [
    "%%sql\n",
    "SELECT firstname, surname\n",
    "FROM Members\n",
    "WHERE joindate = (SELECT MAX(joindate) FROM Members);"
   ],
   "metadata": {
    "collapsed": false,
    "ExecuteTime": {
     "end_time": "2023-12-14T03:00:06.354835Z",
     "start_time": "2023-12-14T03:00:06.349355Z"
    }
   }
  },
  {
   "cell_type": "markdown",
   "source": [
    "Q7: Produce a list of all members who have used a tennis court.\n",
    "Include in your output the name of the court, and the name of the member\n",
    "formatted as a single column. Ensure no duplicate data, and order by\n",
    "the member name"
   ],
   "metadata": {
    "collapsed": false
   }
  },
  {
   "cell_type": "code",
   "execution_count": 14,
   "outputs": [
    {
     "name": "stdout",
     "output_type": "stream",
     "text": [
      " * sqlite:///sqlite_db_pythonsqlite.db\n",
      "Done.\n"
     ]
    },
    {
     "data": {
      "text/plain": "[('Tennis Court 1 - Anne Baker',),\n ('Tennis Court 2 - Anne Baker',),\n ('Tennis Court 2 - Burton Tracy',),\n ('Tennis Court 1 - Burton Tracy',),\n ('Tennis Court 1 - Charles Owen',),\n ('Tennis Court 2 - Charles Owen',),\n ('Tennis Court 2 - Darren Smith',),\n ('Tennis Court 1 - David Farrell',),\n ('Tennis Court 2 - David Farrell',),\n ('Tennis Court 2 - David Jones',),\n ('Tennis Court 1 - David Jones',),\n ('Tennis Court 1 - David Pinker',),\n ('Tennis Court 1 - Douglas Jones',),\n ('Tennis Court 1 - Erica Crumpet',),\n ('Tennis Court 2 - Florence Bader',),\n ('Tennis Court 1 - Florence Bader',),\n ('Tennis Court 2 - GUEST GUEST',),\n ('Tennis Court 1 - GUEST GUEST',),\n ('Tennis Court 1 - Gerald Butters',),\n ('Tennis Court 2 - Gerald Butters',),\n ('Tennis Court 2 - Henrietta Rumney',),\n ('Tennis Court 1 - Jack Smith',),\n ('Tennis Court 2 - Jack Smith',),\n ('Tennis Court 1 - Janice Joplette',),\n ('Tennis Court 2 - Janice Joplette',),\n ('Tennis Court 2 - Jemima Farrell',),\n ('Tennis Court 1 - Jemima Farrell',),\n ('Tennis Court 1 - Joan Coplin',),\n ('Tennis Court 1 - John Hunt',),\n ('Tennis Court 2 - John Hunt',),\n ('Tennis Court 1 - Matthew Genting',),\n ('Tennis Court 2 - Millicent Purview',),\n ('Tennis Court 2 - Nancy Dare',),\n ('Tennis Court 1 - Nancy Dare',),\n ('Tennis Court 2 - Ponder Stibbons',),\n ('Tennis Court 1 - Ponder Stibbons',),\n ('Tennis Court 2 - Ramnaresh Sarwin',),\n ('Tennis Court 1 - Ramnaresh Sarwin',),\n ('Tennis Court 2 - Tim Boothe',),\n ('Tennis Court 1 - Tim Boothe',),\n ('Tennis Court 2 - Tim Rownam',),\n ('Tennis Court 1 - Tim Rownam',),\n ('Tennis Court 2 - Timothy Baker',),\n ('Tennis Court 1 - Timothy Baker',),\n ('Tennis Court 1 - Tracy Smith',),\n ('Tennis Court 2 - Tracy Smith',)]",
      "text/html": "<table>\n    <thead>\n        <tr>\n            <th>court_and_member</th>\n        </tr>\n    </thead>\n    <tbody>\n        <tr>\n            <td>Tennis Court 1 - Anne Baker</td>\n        </tr>\n        <tr>\n            <td>Tennis Court 2 - Anne Baker</td>\n        </tr>\n        <tr>\n            <td>Tennis Court 2 - Burton Tracy</td>\n        </tr>\n        <tr>\n            <td>Tennis Court 1 - Burton Tracy</td>\n        </tr>\n        <tr>\n            <td>Tennis Court 1 - Charles Owen</td>\n        </tr>\n        <tr>\n            <td>Tennis Court 2 - Charles Owen</td>\n        </tr>\n        <tr>\n            <td>Tennis Court 2 - Darren Smith</td>\n        </tr>\n        <tr>\n            <td>Tennis Court 1 - David Farrell</td>\n        </tr>\n        <tr>\n            <td>Tennis Court 2 - David Farrell</td>\n        </tr>\n        <tr>\n            <td>Tennis Court 2 - David Jones</td>\n        </tr>\n        <tr>\n            <td>Tennis Court 1 - David Jones</td>\n        </tr>\n        <tr>\n            <td>Tennis Court 1 - David Pinker</td>\n        </tr>\n        <tr>\n            <td>Tennis Court 1 - Douglas Jones</td>\n        </tr>\n        <tr>\n            <td>Tennis Court 1 - Erica Crumpet</td>\n        </tr>\n        <tr>\n            <td>Tennis Court 2 - Florence Bader</td>\n        </tr>\n        <tr>\n            <td>Tennis Court 1 - Florence Bader</td>\n        </tr>\n        <tr>\n            <td>Tennis Court 2 - GUEST GUEST</td>\n        </tr>\n        <tr>\n            <td>Tennis Court 1 - GUEST GUEST</td>\n        </tr>\n        <tr>\n            <td>Tennis Court 1 - Gerald Butters</td>\n        </tr>\n        <tr>\n            <td>Tennis Court 2 - Gerald Butters</td>\n        </tr>\n        <tr>\n            <td>Tennis Court 2 - Henrietta Rumney</td>\n        </tr>\n        <tr>\n            <td>Tennis Court 1 - Jack Smith</td>\n        </tr>\n        <tr>\n            <td>Tennis Court 2 - Jack Smith</td>\n        </tr>\n        <tr>\n            <td>Tennis Court 1 - Janice Joplette</td>\n        </tr>\n        <tr>\n            <td>Tennis Court 2 - Janice Joplette</td>\n        </tr>\n        <tr>\n            <td>Tennis Court 2 - Jemima Farrell</td>\n        </tr>\n        <tr>\n            <td>Tennis Court 1 - Jemima Farrell</td>\n        </tr>\n        <tr>\n            <td>Tennis Court 1 - Joan Coplin</td>\n        </tr>\n        <tr>\n            <td>Tennis Court 1 - John Hunt</td>\n        </tr>\n        <tr>\n            <td>Tennis Court 2 - John Hunt</td>\n        </tr>\n        <tr>\n            <td>Tennis Court 1 - Matthew Genting</td>\n        </tr>\n        <tr>\n            <td>Tennis Court 2 - Millicent Purview</td>\n        </tr>\n        <tr>\n            <td>Tennis Court 2 - Nancy Dare</td>\n        </tr>\n        <tr>\n            <td>Tennis Court 1 - Nancy Dare</td>\n        </tr>\n        <tr>\n            <td>Tennis Court 2 - Ponder Stibbons</td>\n        </tr>\n        <tr>\n            <td>Tennis Court 1 - Ponder Stibbons</td>\n        </tr>\n        <tr>\n            <td>Tennis Court 2 - Ramnaresh Sarwin</td>\n        </tr>\n        <tr>\n            <td>Tennis Court 1 - Ramnaresh Sarwin</td>\n        </tr>\n        <tr>\n            <td>Tennis Court 2 - Tim Boothe</td>\n        </tr>\n        <tr>\n            <td>Tennis Court 1 - Tim Boothe</td>\n        </tr>\n        <tr>\n            <td>Tennis Court 2 - Tim Rownam</td>\n        </tr>\n        <tr>\n            <td>Tennis Court 1 - Tim Rownam</td>\n        </tr>\n        <tr>\n            <td>Tennis Court 2 - Timothy Baker</td>\n        </tr>\n        <tr>\n            <td>Tennis Court 1 - Timothy Baker</td>\n        </tr>\n        <tr>\n            <td>Tennis Court 1 - Tracy Smith</td>\n        </tr>\n        <tr>\n            <td>Tennis Court 2 - Tracy Smith</td>\n        </tr>\n    </tbody>\n</table>"
     },
     "execution_count": 14,
     "metadata": {},
     "output_type": "execute_result"
    }
   ],
   "source": [
    "%%sql\n",
    "SELECT DISTINCT\n",
    "    f.name || ' - ' || m.firstname || ' ' || m.surname AS court_and_member\n",
    "FROM\n",
    "    Bookings b\n",
    "    JOIN Facilities f ON b.facid = f.facid\n",
    "    JOIN Members m ON b.memid = m.memid\n",
    "WHERE\n",
    "    f.name LIKE 'Tennis Court%'\n",
    "ORDER BY\n",
    "    m.firstname, m.surname;"
   ],
   "metadata": {
    "collapsed": false,
    "ExecuteTime": {
     "end_time": "2023-12-14T03:00:08.701510Z",
     "start_time": "2023-12-14T03:00:08.691231Z"
    }
   }
  },
  {
   "cell_type": "markdown",
   "source": [
    "Q8: Produce a list of bookings on the day of 2012-09-14 which\n",
    "will cost the member (or guest) more than $30. Remember that guests have\n",
    "different costs to members (the listed costs are per half-hour 'slot'), and\n",
    "the guest user's ID is always 0. Include in your output the name of the\n",
    "facility, the name of the member formatted as a single column, and the cost.\n",
    "Order by descending cost, and do not use any subqueries."
   ],
   "metadata": {
    "collapsed": false
   }
  },
  {
   "cell_type": "code",
   "execution_count": 15,
   "outputs": [
    {
     "name": "stdout",
     "output_type": "stream",
     "text": [
      " * sqlite:///sqlite_db_pythonsqlite.db\n",
      "Done.\n"
     ]
    },
    {
     "data": {
      "text/plain": "[('Massage Room 2', 'Guest', 320),\n ('Massage Room 1', 'Guest', 160),\n ('Massage Room 1', 'Guest', 160),\n ('Massage Room 1', 'Guest', 160),\n ('Tennis Court 2', 'Guest', 150),\n ('Tennis Court 1', 'Guest', 75),\n ('Tennis Court 1', 'Guest', 75),\n ('Tennis Court 2', 'Guest', 75),\n ('Squash Court', 'Guest', 70.0),\n ('Massage Room 1', 'Jemima Farrell', 39.6),\n ('Squash Court', 'Guest', 35.0),\n ('Squash Court', 'Guest', 35.0)]",
      "text/html": "<table>\n    <thead>\n        <tr>\n            <th>facility</th>\n            <th>member</th>\n            <th>cost</th>\n        </tr>\n    </thead>\n    <tbody>\n        <tr>\n            <td>Massage Room 2</td>\n            <td>Guest</td>\n            <td>320</td>\n        </tr>\n        <tr>\n            <td>Massage Room 1</td>\n            <td>Guest</td>\n            <td>160</td>\n        </tr>\n        <tr>\n            <td>Massage Room 1</td>\n            <td>Guest</td>\n            <td>160</td>\n        </tr>\n        <tr>\n            <td>Massage Room 1</td>\n            <td>Guest</td>\n            <td>160</td>\n        </tr>\n        <tr>\n            <td>Tennis Court 2</td>\n            <td>Guest</td>\n            <td>150</td>\n        </tr>\n        <tr>\n            <td>Tennis Court 1</td>\n            <td>Guest</td>\n            <td>75</td>\n        </tr>\n        <tr>\n            <td>Tennis Court 1</td>\n            <td>Guest</td>\n            <td>75</td>\n        </tr>\n        <tr>\n            <td>Tennis Court 2</td>\n            <td>Guest</td>\n            <td>75</td>\n        </tr>\n        <tr>\n            <td>Squash Court</td>\n            <td>Guest</td>\n            <td>70.0</td>\n        </tr>\n        <tr>\n            <td>Massage Room 1</td>\n            <td>Jemima Farrell</td>\n            <td>39.6</td>\n        </tr>\n        <tr>\n            <td>Squash Court</td>\n            <td>Guest</td>\n            <td>35.0</td>\n        </tr>\n        <tr>\n            <td>Squash Court</td>\n            <td>Guest</td>\n            <td>35.0</td>\n        </tr>\n    </tbody>\n</table>"
     },
     "execution_count": 15,
     "metadata": {},
     "output_type": "execute_result"
    }
   ],
   "source": [
    "%%sql\n",
    "SELECT\n",
    "    f.name AS facility,\n",
    "    CASE\n",
    "        WHEN b.memid = 0 THEN 'Guest'\n",
    "        ELSE m.firstname || ' ' || m.surname\n",
    "    END AS member,\n",
    "    CASE\n",
    "        WHEN b.memid = 0 THEN f.guestcost * b.slots\n",
    "        ELSE f.membercost * b.slots\n",
    "    END AS cost\n",
    "FROM\n",
    "    Bookings b\n",
    "    JOIN Facilities f ON b.facid = f.facid\n",
    "    JOIN Members m ON b.memid = m.memid\n",
    "WHERE\n",
    "    b.starttime LIKE '2012-09-14%' AND\n",
    "    (\n",
    "        (b.memid = 0 AND f.guestcost * b.slots > 30) OR\n",
    "        (b.memid != 0 AND f.membercost * b.slots > 30)\n",
    "    )\n",
    "ORDER BY\n",
    "    cost DESC;\n"
   ],
   "metadata": {
    "collapsed": false,
    "ExecuteTime": {
     "end_time": "2023-12-14T03:00:18.188484Z",
     "start_time": "2023-12-14T03:00:18.180071Z"
    }
   }
  },
  {
   "cell_type": "markdown",
   "source": [
    "Q9: This time, produce the same result as in Q8, but using a subquery."
   ],
   "metadata": {
    "collapsed": false
   }
  },
  {
   "cell_type": "code",
   "execution_count": 6,
   "outputs": [
    {
     "name": "stdout",
     "output_type": "stream",
     "text": [
      " * sqlite:///sqlite_db_pythonsqlite.db\n",
      "Done.\n"
     ]
    },
    {
     "data": {
      "text/plain": "[('Massage Room 2', 'GUEST GUEST', 320),\n ('Massage Room 1', 'GUEST GUEST', 160),\n ('Massage Room 1', 'GUEST GUEST', 160),\n ('Massage Room 1', 'GUEST GUEST', 160),\n ('Tennis Court 2', 'GUEST GUEST', 150),\n ('Tennis Court 1', 'GUEST GUEST', 75),\n ('Tennis Court 1', 'GUEST GUEST', 75),\n ('Tennis Court 2', 'GUEST GUEST', 75),\n ('Squash Court', 'GUEST GUEST', 70.0),\n ('Massage Room 1', 'Jemima Farrell', 39.6),\n ('Squash Court', 'GUEST GUEST', 35.0),\n ('Squash Court', 'GUEST GUEST', 35.0)]",
      "text/html": "<table>\n    <thead>\n        <tr>\n            <th>facility</th>\n            <th>member</th>\n            <th>cost</th>\n        </tr>\n    </thead>\n    <tbody>\n        <tr>\n            <td>Massage Room 2</td>\n            <td>GUEST GUEST</td>\n            <td>320</td>\n        </tr>\n        <tr>\n            <td>Massage Room 1</td>\n            <td>GUEST GUEST</td>\n            <td>160</td>\n        </tr>\n        <tr>\n            <td>Massage Room 1</td>\n            <td>GUEST GUEST</td>\n            <td>160</td>\n        </tr>\n        <tr>\n            <td>Massage Room 1</td>\n            <td>GUEST GUEST</td>\n            <td>160</td>\n        </tr>\n        <tr>\n            <td>Tennis Court 2</td>\n            <td>GUEST GUEST</td>\n            <td>150</td>\n        </tr>\n        <tr>\n            <td>Tennis Court 1</td>\n            <td>GUEST GUEST</td>\n            <td>75</td>\n        </tr>\n        <tr>\n            <td>Tennis Court 1</td>\n            <td>GUEST GUEST</td>\n            <td>75</td>\n        </tr>\n        <tr>\n            <td>Tennis Court 2</td>\n            <td>GUEST GUEST</td>\n            <td>75</td>\n        </tr>\n        <tr>\n            <td>Squash Court</td>\n            <td>GUEST GUEST</td>\n            <td>70.0</td>\n        </tr>\n        <tr>\n            <td>Massage Room 1</td>\n            <td>Jemima Farrell</td>\n            <td>39.6</td>\n        </tr>\n        <tr>\n            <td>Squash Court</td>\n            <td>GUEST GUEST</td>\n            <td>35.0</td>\n        </tr>\n        <tr>\n            <td>Squash Court</td>\n            <td>GUEST GUEST</td>\n            <td>35.0</td>\n        </tr>\n    </tbody>\n</table>"
     },
     "execution_count": 6,
     "metadata": {},
     "output_type": "execute_result"
    }
   ],
   "source": [
    "%%sql\n",
    "SELECT\n",
    "    f.name AS facility,\n",
    "    m.firstname || ' ' || m.surname AS member,\n",
    "    sub.cost\n",
    "FROM (\n",
    "    SELECT\n",
    "        b.facid,\n",
    "        b.memid,\n",
    "        CASE\n",
    "            WHEN b.memid = 0 THEN f.guestcost * b.slots\n",
    "            ELSE f.membercost * b.slots\n",
    "        END AS cost,\n",
    "        b.starttime\n",
    "    FROM\n",
    "        Bookings b\n",
    "        JOIN Facilities f ON b.facid = f.facid\n",
    "    WHERE\n",
    "        b.starttime LIKE '2012-09-14%') AS sub\n",
    "JOIN Facilities f ON sub.facid = f.facid\n",
    "JOIN Members m ON sub.memid = m.memid\n",
    "WHERE sub.cost > 30\n",
    "ORDER BY sub.cost DESC;\n"
   ],
   "metadata": {
    "collapsed": false,
    "ExecuteTime": {
     "end_time": "2023-12-14T17:51:46.022920Z",
     "start_time": "2023-12-14T17:51:46.015400Z"
    }
   }
  },
  {
   "cell_type": "markdown",
   "source": [
    "Q10: Produce a list of facilities with a total revenue less than 1000.\n",
    "The output of facility name and total revenue, sorted by revenue. Remember\n",
    "that there's a different cost for guests and members!\n"
   ],
   "metadata": {
    "collapsed": false
   }
  },
  {
   "cell_type": "code",
   "execution_count": 17,
   "outputs": [
    {
     "name": "stdout",
     "output_type": "stream",
     "text": [
      " * sqlite:///sqlite_db_pythonsqlite.db\n",
      "Done.\n"
     ]
    },
    {
     "data": {
      "text/plain": "[('Table Tennis', 180), ('Snooker Table', 240), ('Pool Table', 270)]",
      "text/html": "<table>\n    <thead>\n        <tr>\n            <th>facility_name</th>\n            <th>total_revenue</th>\n        </tr>\n    </thead>\n    <tbody>\n        <tr>\n            <td>Table Tennis</td>\n            <td>180</td>\n        </tr>\n        <tr>\n            <td>Snooker Table</td>\n            <td>240</td>\n        </tr>\n        <tr>\n            <td>Pool Table</td>\n            <td>270</td>\n        </tr>\n    </tbody>\n</table>"
     },
     "execution_count": 17,
     "metadata": {},
     "output_type": "execute_result"
    }
   ],
   "source": [
    "%%sql\n",
    "SELECT f.name AS facility_name,\n",
    "        SUM(CASE WHEN b.memid = 0 THEN b.slots * f.guestcost\n",
    "            ELSE b.slots * f.membercost END) AS total_revenue\n",
    "FROM Facilities AS f\n",
    "JOIN Bookings AS b ON b.facid = f.facid\n",
    "GROUP BY facility_name\n",
    "HAVING total_revenue < 1000\n",
    "ORDER BY total_revenue;\n",
    "\n"
   ],
   "metadata": {
    "collapsed": false,
    "ExecuteTime": {
     "end_time": "2023-12-14T18:16:58.515836Z",
     "start_time": "2023-12-14T18:16:58.507461Z"
    }
   }
  },
  {
   "cell_type": "markdown",
   "source": [
    "Q11: Produce a report of members and who recommended them in alphabetic surname,firstname order\n"
   ],
   "metadata": {
    "collapsed": false
   }
  },
  {
   "cell_type": "code",
   "execution_count": 31,
   "outputs": [
    {
     "name": "stdout",
     "output_type": "stream",
     "text": [
      " * sqlite:///sqlite_db_pythonsqlite.db\n",
      "Done.\n"
     ]
    },
    {
     "data": {
      "text/plain": "[('Florence Bader', 'Ponder Stibbons'),\n ('Anne Baker', 'Ponder Stibbons'),\n ('Timothy Baker', 'Jemima Farrell'),\n ('Tim Boothe', 'Tim Rownam'),\n ('Gerald Butters', 'Darren Smith'),\n ('Joan Coplin', 'Timothy Baker'),\n ('Erica Crumpet', 'Tracy Smith'),\n ('Nancy Dare', 'Janice Joplette'),\n ('Matthew Genting', 'Gerald Butters'),\n ('John Hunt', 'Millicent Purview'),\n ('David Jones', 'Janice Joplette'),\n ('Douglas Jones', 'David Jones'),\n ('Janice Joplette', 'Darren Smith'),\n ('Anna Mackenzie', 'Darren Smith'),\n ('Charles Owen', 'Darren Smith'),\n ('David Pinker', 'Jemima Farrell'),\n ('Millicent Purview', 'Tracy Smith'),\n ('Henrietta Rumney', 'Matthew Genting'),\n ('Ramnaresh Sarwin', 'Florence Bader'),\n ('Jack Smith', 'Darren Smith'),\n ('Ponder Stibbons', 'Burton Tracy'),\n ('Henry Worthington-Smyth', 'Tracy Smith')]",
      "text/html": "<table>\n    <thead>\n        <tr>\n            <th>member</th>\n            <th>recommended_by</th>\n        </tr>\n    </thead>\n    <tbody>\n        <tr>\n            <td>Florence Bader</td>\n            <td>Ponder Stibbons</td>\n        </tr>\n        <tr>\n            <td>Anne Baker</td>\n            <td>Ponder Stibbons</td>\n        </tr>\n        <tr>\n            <td>Timothy Baker</td>\n            <td>Jemima Farrell</td>\n        </tr>\n        <tr>\n            <td>Tim Boothe</td>\n            <td>Tim Rownam</td>\n        </tr>\n        <tr>\n            <td>Gerald Butters</td>\n            <td>Darren Smith</td>\n        </tr>\n        <tr>\n            <td>Joan Coplin</td>\n            <td>Timothy Baker</td>\n        </tr>\n        <tr>\n            <td>Erica Crumpet</td>\n            <td>Tracy Smith</td>\n        </tr>\n        <tr>\n            <td>Nancy Dare</td>\n            <td>Janice Joplette</td>\n        </tr>\n        <tr>\n            <td>Matthew Genting</td>\n            <td>Gerald Butters</td>\n        </tr>\n        <tr>\n            <td>John Hunt</td>\n            <td>Millicent Purview</td>\n        </tr>\n        <tr>\n            <td>David Jones</td>\n            <td>Janice Joplette</td>\n        </tr>\n        <tr>\n            <td>Douglas Jones</td>\n            <td>David Jones</td>\n        </tr>\n        <tr>\n            <td>Janice Joplette</td>\n            <td>Darren Smith</td>\n        </tr>\n        <tr>\n            <td>Anna Mackenzie</td>\n            <td>Darren Smith</td>\n        </tr>\n        <tr>\n            <td>Charles Owen</td>\n            <td>Darren Smith</td>\n        </tr>\n        <tr>\n            <td>David Pinker</td>\n            <td>Jemima Farrell</td>\n        </tr>\n        <tr>\n            <td>Millicent Purview</td>\n            <td>Tracy Smith</td>\n        </tr>\n        <tr>\n            <td>Henrietta Rumney</td>\n            <td>Matthew Genting</td>\n        </tr>\n        <tr>\n            <td>Ramnaresh Sarwin</td>\n            <td>Florence Bader</td>\n        </tr>\n        <tr>\n            <td>Jack Smith</td>\n            <td>Darren Smith</td>\n        </tr>\n        <tr>\n            <td>Ponder Stibbons</td>\n            <td>Burton Tracy</td>\n        </tr>\n        <tr>\n            <td>Henry Worthington-Smyth</td>\n            <td>Tracy Smith</td>\n        </tr>\n    </tbody>\n</table>"
     },
     "execution_count": 31,
     "metadata": {},
     "output_type": "execute_result"
    }
   ],
   "source": [
    "%%sql\n",
    "SELECT m.firstname || ' ' || m.surname AS member, r.firstname || ' ' || r.surname AS recommended_by\n",
    "FROM Members m\n",
    "LEFT JOIN Members r ON m.recommendedby= r.memid\n",
    "WHERE m.memid != 0 AND recommended_by IS NOT NULL\n",
    "ORDER BY m.surname ASC;"
   ],
   "metadata": {
    "collapsed": false,
    "ExecuteTime": {
     "end_time": "2023-12-14T18:38:33.986Z",
     "start_time": "2023-12-14T18:38:33.978979Z"
    }
   }
  },
  {
   "cell_type": "markdown",
   "source": [
    "Q12: Find the facilities with their usage by member, but not guests"
   ],
   "metadata": {
    "collapsed": false
   }
  },
  {
   "cell_type": "code",
   "execution_count": 33,
   "outputs": [
    {
     "name": "stdout",
     "output_type": "stream",
     "text": [
      " * sqlite:///sqlite_db_pythonsqlite.db\n",
      "Done.\n"
     ]
    },
    {
     "data": {
      "text/plain": "[('Badminton Court', 'Darren Smith', 344),\n ('Massage Room 1', 'Darren Smith', 421),\n ('Massage Room 2', 'Janice Joplette', 27),\n ('Pool Table', 'Darren Smith', 783),\n ('Snooker Table', 'Darren Smith', 421),\n ('Squash Court', 'Darren Smith', 195),\n ('Table Tennis', 'Darren Smith', 385),\n ('Tennis Court 1', 'Tracy Smith', 308),\n ('Tennis Court 2', 'Tim Rownam', 276)]",
      "text/html": "<table>\n    <thead>\n        <tr>\n            <th>facilities</th>\n            <th>member</th>\n            <th>Member_usage</th>\n        </tr>\n    </thead>\n    <tbody>\n        <tr>\n            <td>Badminton Court</td>\n            <td>Darren Smith</td>\n            <td>344</td>\n        </tr>\n        <tr>\n            <td>Massage Room 1</td>\n            <td>Darren Smith</td>\n            <td>421</td>\n        </tr>\n        <tr>\n            <td>Massage Room 2</td>\n            <td>Janice Joplette</td>\n            <td>27</td>\n        </tr>\n        <tr>\n            <td>Pool Table</td>\n            <td>Darren Smith</td>\n            <td>783</td>\n        </tr>\n        <tr>\n            <td>Snooker Table</td>\n            <td>Darren Smith</td>\n            <td>421</td>\n        </tr>\n        <tr>\n            <td>Squash Court</td>\n            <td>Darren Smith</td>\n            <td>195</td>\n        </tr>\n        <tr>\n            <td>Table Tennis</td>\n            <td>Darren Smith</td>\n            <td>385</td>\n        </tr>\n        <tr>\n            <td>Tennis Court 1</td>\n            <td>Tracy Smith</td>\n            <td>308</td>\n        </tr>\n        <tr>\n            <td>Tennis Court 2</td>\n            <td>Tim Rownam</td>\n            <td>276</td>\n        </tr>\n    </tbody>\n</table>"
     },
     "execution_count": 33,
     "metadata": {},
     "output_type": "execute_result"
    }
   ],
   "source": [
    "%%sql\n",
    "SELECT f.name AS facilities, m.firstname || ' ' || m.surname AS member, COUNT(b.bookid) AS Member_usage\n",
    "FROM Facilities AS f\n",
    "JOIN Bookings AS b ON b.facid = f.facid\n",
    "JOIN Members AS m ON b.memid = m.memid\n",
    "WHERE m.memid !=0\n",
    "GROUP BY facilities\n",
    "ORDER BY facilities;\n"
   ],
   "metadata": {
    "collapsed": false,
    "ExecuteTime": {
     "end_time": "2023-12-14T19:47:02.644333Z",
     "start_time": "2023-12-14T19:47:02.637791Z"
    }
   }
  },
  {
   "cell_type": "markdown",
   "source": [
    "Q13: Find the facilities usage by month, but not guests\n"
   ],
   "metadata": {
    "collapsed": false
   }
  },
  {
   "cell_type": "code",
   "execution_count": 37,
   "outputs": [
    {
     "name": "stdout",
     "output_type": "stream",
     "text": [
      " * sqlite:///sqlite_db_pythonsqlite.db\n",
      "Done.\n"
     ]
    },
    {
     "data": {
      "text/plain": "[('Badminton Court', '07', 51),\n ('Massage Room 1', '07', 77),\n ('Massage Room 2', '07', 4),\n ('Pool Table', '07', 103),\n ('Snooker Table', '07', 68),\n ('Squash Court', '07', 23),\n ('Table Tennis', '07', 48),\n ('Tennis Court 1', '07', 65),\n ('Tennis Court 2', '07', 41),\n ('Badminton Court', '08', 132),\n ('Massage Room 1', '08', 153),\n ('Massage Room 2', '08', 9),\n ('Pool Table', '08', 272),\n ('Snooker Table', '08', 154),\n ('Squash Court', '08', 85),\n ('Table Tennis', '08', 143),\n ('Tennis Court 1', '08', 111),\n ('Tennis Court 2', '08', 109),\n ('Badminton Court', '09', 161),\n ('Massage Room 1', '09', 191),\n ('Massage Room 2', '09', 14),\n ('Pool Table', '09', 408),\n ('Snooker Table', '09', 199),\n ('Squash Court', '09', 87),\n ('Table Tennis', '09', 194),\n ('Tennis Court 1', '09', 132),\n ('Tennis Court 2', '09', 126)]",
      "text/html": "<table>\n    <thead>\n        <tr>\n            <th>facilities</th>\n            <th>month</th>\n            <th>usage_count</th>\n        </tr>\n    </thead>\n    <tbody>\n        <tr>\n            <td>Badminton Court</td>\n            <td>07</td>\n            <td>51</td>\n        </tr>\n        <tr>\n            <td>Massage Room 1</td>\n            <td>07</td>\n            <td>77</td>\n        </tr>\n        <tr>\n            <td>Massage Room 2</td>\n            <td>07</td>\n            <td>4</td>\n        </tr>\n        <tr>\n            <td>Pool Table</td>\n            <td>07</td>\n            <td>103</td>\n        </tr>\n        <tr>\n            <td>Snooker Table</td>\n            <td>07</td>\n            <td>68</td>\n        </tr>\n        <tr>\n            <td>Squash Court</td>\n            <td>07</td>\n            <td>23</td>\n        </tr>\n        <tr>\n            <td>Table Tennis</td>\n            <td>07</td>\n            <td>48</td>\n        </tr>\n        <tr>\n            <td>Tennis Court 1</td>\n            <td>07</td>\n            <td>65</td>\n        </tr>\n        <tr>\n            <td>Tennis Court 2</td>\n            <td>07</td>\n            <td>41</td>\n        </tr>\n        <tr>\n            <td>Badminton Court</td>\n            <td>08</td>\n            <td>132</td>\n        </tr>\n        <tr>\n            <td>Massage Room 1</td>\n            <td>08</td>\n            <td>153</td>\n        </tr>\n        <tr>\n            <td>Massage Room 2</td>\n            <td>08</td>\n            <td>9</td>\n        </tr>\n        <tr>\n            <td>Pool Table</td>\n            <td>08</td>\n            <td>272</td>\n        </tr>\n        <tr>\n            <td>Snooker Table</td>\n            <td>08</td>\n            <td>154</td>\n        </tr>\n        <tr>\n            <td>Squash Court</td>\n            <td>08</td>\n            <td>85</td>\n        </tr>\n        <tr>\n            <td>Table Tennis</td>\n            <td>08</td>\n            <td>143</td>\n        </tr>\n        <tr>\n            <td>Tennis Court 1</td>\n            <td>08</td>\n            <td>111</td>\n        </tr>\n        <tr>\n            <td>Tennis Court 2</td>\n            <td>08</td>\n            <td>109</td>\n        </tr>\n        <tr>\n            <td>Badminton Court</td>\n            <td>09</td>\n            <td>161</td>\n        </tr>\n        <tr>\n            <td>Massage Room 1</td>\n            <td>09</td>\n            <td>191</td>\n        </tr>\n        <tr>\n            <td>Massage Room 2</td>\n            <td>09</td>\n            <td>14</td>\n        </tr>\n        <tr>\n            <td>Pool Table</td>\n            <td>09</td>\n            <td>408</td>\n        </tr>\n        <tr>\n            <td>Snooker Table</td>\n            <td>09</td>\n            <td>199</td>\n        </tr>\n        <tr>\n            <td>Squash Court</td>\n            <td>09</td>\n            <td>87</td>\n        </tr>\n        <tr>\n            <td>Table Tennis</td>\n            <td>09</td>\n            <td>194</td>\n        </tr>\n        <tr>\n            <td>Tennis Court 1</td>\n            <td>09</td>\n            <td>132</td>\n        </tr>\n        <tr>\n            <td>Tennis Court 2</td>\n            <td>09</td>\n            <td>126</td>\n        </tr>\n    </tbody>\n</table>"
     },
     "execution_count": 37,
     "metadata": {},
     "output_type": "execute_result"
    }
   ],
   "source": [
    "%%sql\n",
    "SELECT f.name AS facilities,\n",
    "        STRFTIME('%m', b.starttime) AS month,\n",
    "        COUNT(b.bookid) AS usage_count\n",
    "FROM Facilities AS f\n",
    "JOIN Bookings AS b ON b.facid = f.facid\n",
    "JOIN Members AS m ON b.memid = m.memid\n",
    "WHERE m.memid !=0\n",
    "GROUP BY facilities, month\n",
    "ORDER BY month;"
   ],
   "metadata": {
    "collapsed": false,
    "ExecuteTime": {
     "end_time": "2023-12-14T19:58:00.905777Z",
     "start_time": "2023-12-14T19:58:00.896894Z"
    }
   }
  },
  {
   "cell_type": "code",
   "execution_count": null,
   "outputs": [],
   "source": [],
   "metadata": {
    "collapsed": false
   }
  }
 ],
 "metadata": {
  "kernelspec": {
   "display_name": "Python 3",
   "language": "python",
   "name": "python3"
  },
  "language_info": {
   "codemirror_mode": {
    "name": "ipython",
    "version": 2
   },
   "file_extension": ".py",
   "mimetype": "text/x-python",
   "name": "python",
   "nbconvert_exporter": "python",
   "pygments_lexer": "ipython2",
   "version": "2.7.6"
  }
 },
 "nbformat": 4,
 "nbformat_minor": 0
}
